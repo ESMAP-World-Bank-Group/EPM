{
 "cells": [
  {
   "metadata": {},
   "cell_type": "markdown",
   "source": [
    "# Extracting Renewable Energy Project Coordinates\n",
    "\n",
    "This notebook helps you extract the most relevant solar and wind energy project coordinates for selected Central African countries using the Global Integrated Power dataset.\n",
    "\n",
    "**Instructions:**\n",
    "- Ensure you have the required Excel file in the `input` folder.\n",
    "- The output will be saved in the `output` folder.\n",
    "\"\"\"\n"
   ],
   "id": "10f3d1e13054ea00"
  },
  {
   "metadata": {},
   "cell_type": "markdown",
   "source": [
    "## 1. Import Required Libraries\n",
    "\n",
    "We start by importing the necessary Python libraries for file handling and data processing.\n"
   ],
   "id": "f9538c3651a3fc7e"
  },
  {
   "metadata": {
    "ExecuteTime": {
     "end_time": "2025-06-26T16:14:41.750288Z",
     "start_time": "2025-06-26T16:14:41.744036Z"
    }
   },
   "cell_type": "code",
   "source": [
    "import os\n",
    "import pandas as pd\n"
   ],
   "id": "15fa5ed35164c092",
   "outputs": [],
   "execution_count": 19
  },
  {
   "metadata": {},
   "cell_type": "markdown",
   "source": [
    "## 2. Define Target Countries\n",
    "\n",
    "Here, we specify the list of countries for which we want to extract renewable energy project data.\n"
   ],
   "id": "57722955e902ac90"
  },
  {
   "metadata": {
    "ExecuteTime": {
     "end_time": "2025-06-26T16:14:42.013239Z",
     "start_time": "2025-06-26T16:14:42.009908Z"
    }
   },
   "cell_type": "code",
   "source": "countries = ['Angola', 'Burundi', 'Cameroon', 'Central African Republic', 'Chad', 'Republic of the Congo', 'DR Congo', 'Equatorial Guinea', 'Gabon']\n",
   "id": "35fba0e4965f6762",
   "outputs": [],
   "execution_count": 20
  },
  {
   "metadata": {},
   "cell_type": "markdown",
   "source": [
    "## 3. Prepare Input and Output Folders\n",
    "\n",
    "This cell ensures that the `input` and `output` directories exist.\n",
    "- Place your Excel data file in the `input` folder.\n",
    "- Results will be saved in the `output` folder.\n"
   ],
   "id": "c13a75de8dd8509e"
  },
  {
   "metadata": {
    "collapsed": true,
    "ExecuteTime": {
     "end_time": "2025-06-26T16:14:42.535271Z",
     "start_time": "2025-06-26T16:14:42.530487Z"
    }
   },
   "cell_type": "code",
   "source": [
    "folder_input = 'input'\n",
    "if not os.path.exists(folder_input): os.mkdir(folder_input)\n",
    "folder_output = 'output'\n",
    "if not os.path.exists(folder_output): os.mkdir(folder_output)\n"
   ],
   "id": "initial_id",
   "outputs": [],
   "execution_count": 21
  },
  {
   "metadata": {},
   "cell_type": "markdown",
   "source": [
    "## 4. Load and Filter the Power Facilities Data\n",
    "\n",
    "- Loads the Excel file containing power facility data.\n",
    "- Filters the data to include only the selected countries and renewable technologies (solar and wind).\n",
    "\n",
    "**Note:**\n",
    "If the required Excel file is missing, an error will be raised. Please ensure the file exists in the `input` folder.\n"
   ],
   "id": "37cc1c28c4427bb2"
  },
  {
   "metadata": {
    "jupyter": {
     "is_executing": true
    },
    "ExecuteTime": {
     "start_time": "2025-06-26T16:14:43.380723Z"
    }
   },
   "cell_type": "code",
   "source": [
    "path = os.path.join(folder_input, 'Global-Integrated-Power-April-2025.xlsx')\n",
    "if not os.path.exists(path):\n",
    "    raise FileNotFoundError(f\"File not found: {path}. Please ensure the file exists in the specified directory.\")\n",
    "\n",
    "data_power = pd.read_excel(path, sheet_name='Power facilities', index_col=None, header=[0])\n",
    "\n",
    "data_power = data_power[data_power['Country/area'].isin(countries)]\n",
    "data_power = data_power[data_power['Type'].isin(['solar', 'wind'])]\n"
   ],
   "id": "222edc6236137fd6",
   "outputs": [],
   "execution_count": null
  },
  {
   "metadata": {},
   "cell_type": "markdown",
   "source": [
    "## 5. Extract the Most Relevant Projects\n",
    "\n",
    "This function selects, for each country and technology (solar/wind), the most relevant project based on:\n",
    "- Project status (priority: operating > construction > pre-construction)\n",
    "- Largest capacity (MW) within each status\n",
    "\n",
    "The resulting table contains the most significant project per country and technology.\n"
   ],
   "id": "b72b97a50a3fc098"
  },
  {
   "metadata": {},
   "cell_type": "code",
   "outputs": [],
   "execution_count": null,
   "source": [
    "def get_most_relevant_projects(df, countries, tech_types):\n",
    "    \"\"\"\n",
    "    Extract the most relevant energy project for each country and technology.\n",
    "\n",
    "    Parameters:\n",
    "    - df: pandas DataFrame with columns ['Country/area', 'Type', 'Status', 'Capacity (MW)',\n",
    "                                         'Plant / Project name', 'Latitude', 'Longitude', 'City']\n",
    "    - countries: list of country names to filter\n",
    "    - tech_types: list of technology types to check (values from 'Type' column)\n",
    "\n",
    "    Returns:\n",
    "    - A DataFrame with the most relevant project per country and technology.\n",
    "    \"\"\"\n",
    "\n",
    "    results = []\n",
    "\n",
    "    status_priority = ['operating', 'construction', 'pre-construction', 'announced']\n",
    "\n",
    "    for country in countries:\n",
    "        for tech in tech_types:\n",
    "            filtered = df[(df['Country/area'] == country) & (df['Type'] == tech)]\n",
    "\n",
    "            for status in status_priority:\n",
    "                sub = filtered[filtered['Status'] == status]\n",
    "                if not sub.empty:\n",
    "                    top_project = sub.loc[sub['Capacity (MW)'].idxmax()]\n",
    "                    results.append({\n",
    "                        'Country': country,\n",
    "                        'Type': tech,\n",
    "                        'Plant / Project name': top_project['Plant / Project name'],\n",
    "                        'Capacity (MW)': top_project['Capacity (MW)'],\n",
    "                        'Latitude': top_project['Latitude'],\n",
    "                        'Longitude': top_project['Longitude'],\n",
    "                        'City': top_project['City']\n",
    "                    })\n",
    "                    break  # stop at the first status with a result\n",
    "\n",
    "    return pd.DataFrame(results)\n",
    "\n",
    "projects = get_most_relevant_projects(data_power, countries, ['solar', 'wind'])\n"
   ],
   "id": "452d10f5cf551889"
  },
  {
   "metadata": {},
   "cell_type": "markdown",
   "source": [
    "\n",
    "## 6. Display and Save Results\n",
    "\n",
    "- The table below shows the most relevant solar and wind projects for each country.\n",
    "- The results are also saved as a CSV file in the `output` folder.\n"
   ],
   "id": "6151f577ad767498"
  },
  {
   "metadata": {
    "ExecuteTime": {
     "end_time": "2025-06-26T16:13:28.030182Z",
     "start_time": "2025-06-26T16:13:27.989807Z"
    }
   },
   "cell_type": "code",
   "source": [
    "display(projects)\n",
    "projects.to_csv(os.path.join(folder_output, 'most_relevant_projects_solar_wind.csv'), index=False)"
   ],
   "id": "75d20a5e91424416",
   "outputs": [
    {
     "data": {
      "text/plain": [
       "                    Country   Type            Plant / Project name  \\\n",
       "0                    Angola  solar               Biópio solar farm   \n",
       "1                    Angola   wind         Morro do Ouro wind farm   \n",
       "2                   Burundi  solar        Bubanza SB solar project   \n",
       "3                  Cameroon  solar               Garoua solar farm   \n",
       "4                  Cameroon   wind              Cameroon wind farm   \n",
       "5  Central African Republic  solar         Enerca Danzi solar farm   \n",
       "6                      Chad  solar     N'Djamena (Qair) solar farm   \n",
       "7     Republic of the Congo  solar  District De Kabo solar project   \n",
       "8                  DR Congo  solar   Goma Nyiragongo solar project   \n",
       "9                     Gabon  solar         Ayémé Plaine solar farm   \n",
       "\n",
       "   Capacity (MW)  Latitude  Longitude            City  \n",
       "0          189.0  -12.4667    15.7442          Biópio  \n",
       "1           50.0  -15.2198    12.7258             NaN  \n",
       "2            8.0   -3.1479    29.3625         Bubanza  \n",
       "3           30.0    9.3271    13.3621          Garoua  \n",
       "4          100.0    4.8918    12.3598             NaN  \n",
       "5           25.0    4.5167    18.4667           Danzi  \n",
       "6           21.5   12.0905    15.1331  Gassi District  \n",
       "7            2.0    1.3863    16.3364             NaN  \n",
       "8            1.5   -1.6414    29.1938            Goma  \n",
       "9           60.0    0.2293     9.5315    Ayémé Plaine  "
      ],
      "text/html": [
       "<div>\n",
       "<style scoped>\n",
       "    .dataframe tbody tr th:only-of-type {\n",
       "        vertical-align: middle;\n",
       "    }\n",
       "\n",
       "    .dataframe tbody tr th {\n",
       "        vertical-align: top;\n",
       "    }\n",
       "\n",
       "    .dataframe thead th {\n",
       "        text-align: right;\n",
       "    }\n",
       "</style>\n",
       "<table border=\"1\" class=\"dataframe\">\n",
       "  <thead>\n",
       "    <tr style=\"text-align: right;\">\n",
       "      <th></th>\n",
       "      <th>Country</th>\n",
       "      <th>Type</th>\n",
       "      <th>Plant / Project name</th>\n",
       "      <th>Capacity (MW)</th>\n",
       "      <th>Latitude</th>\n",
       "      <th>Longitude</th>\n",
       "      <th>City</th>\n",
       "    </tr>\n",
       "  </thead>\n",
       "  <tbody>\n",
       "    <tr>\n",
       "      <th>0</th>\n",
       "      <td>Angola</td>\n",
       "      <td>solar</td>\n",
       "      <td>Biópio solar farm</td>\n",
       "      <td>189.0</td>\n",
       "      <td>-12.4667</td>\n",
       "      <td>15.7442</td>\n",
       "      <td>Biópio</td>\n",
       "    </tr>\n",
       "    <tr>\n",
       "      <th>1</th>\n",
       "      <td>Angola</td>\n",
       "      <td>wind</td>\n",
       "      <td>Morro do Ouro wind farm</td>\n",
       "      <td>50.0</td>\n",
       "      <td>-15.2198</td>\n",
       "      <td>12.7258</td>\n",
       "      <td>NaN</td>\n",
       "    </tr>\n",
       "    <tr>\n",
       "      <th>2</th>\n",
       "      <td>Burundi</td>\n",
       "      <td>solar</td>\n",
       "      <td>Bubanza SB solar project</td>\n",
       "      <td>8.0</td>\n",
       "      <td>-3.1479</td>\n",
       "      <td>29.3625</td>\n",
       "      <td>Bubanza</td>\n",
       "    </tr>\n",
       "    <tr>\n",
       "      <th>3</th>\n",
       "      <td>Cameroon</td>\n",
       "      <td>solar</td>\n",
       "      <td>Garoua solar farm</td>\n",
       "      <td>30.0</td>\n",
       "      <td>9.3271</td>\n",
       "      <td>13.3621</td>\n",
       "      <td>Garoua</td>\n",
       "    </tr>\n",
       "    <tr>\n",
       "      <th>4</th>\n",
       "      <td>Cameroon</td>\n",
       "      <td>wind</td>\n",
       "      <td>Cameroon wind farm</td>\n",
       "      <td>100.0</td>\n",
       "      <td>4.8918</td>\n",
       "      <td>12.3598</td>\n",
       "      <td>NaN</td>\n",
       "    </tr>\n",
       "    <tr>\n",
       "      <th>5</th>\n",
       "      <td>Central African Republic</td>\n",
       "      <td>solar</td>\n",
       "      <td>Enerca Danzi solar farm</td>\n",
       "      <td>25.0</td>\n",
       "      <td>4.5167</td>\n",
       "      <td>18.4667</td>\n",
       "      <td>Danzi</td>\n",
       "    </tr>\n",
       "    <tr>\n",
       "      <th>6</th>\n",
       "      <td>Chad</td>\n",
       "      <td>solar</td>\n",
       "      <td>N'Djamena (Qair) solar farm</td>\n",
       "      <td>21.5</td>\n",
       "      <td>12.0905</td>\n",
       "      <td>15.1331</td>\n",
       "      <td>Gassi District</td>\n",
       "    </tr>\n",
       "    <tr>\n",
       "      <th>7</th>\n",
       "      <td>Republic of the Congo</td>\n",
       "      <td>solar</td>\n",
       "      <td>District De Kabo solar project</td>\n",
       "      <td>2.0</td>\n",
       "      <td>1.3863</td>\n",
       "      <td>16.3364</td>\n",
       "      <td>NaN</td>\n",
       "    </tr>\n",
       "    <tr>\n",
       "      <th>8</th>\n",
       "      <td>DR Congo</td>\n",
       "      <td>solar</td>\n",
       "      <td>Goma Nyiragongo solar project</td>\n",
       "      <td>1.5</td>\n",
       "      <td>-1.6414</td>\n",
       "      <td>29.1938</td>\n",
       "      <td>Goma</td>\n",
       "    </tr>\n",
       "    <tr>\n",
       "      <th>9</th>\n",
       "      <td>Gabon</td>\n",
       "      <td>solar</td>\n",
       "      <td>Ayémé Plaine solar farm</td>\n",
       "      <td>60.0</td>\n",
       "      <td>0.2293</td>\n",
       "      <td>9.5315</td>\n",
       "      <td>Ayémé Plaine</td>\n",
       "    </tr>\n",
       "  </tbody>\n",
       "</table>\n",
       "</div>"
      ]
     },
     "metadata": {},
     "output_type": "display_data"
    }
   ],
   "execution_count": 18
  }
 ],
 "metadata": {
  "kernelspec": {
   "display_name": "climatic_env",
   "language": "python",
   "name": "climatic_env"
  },
  "language_info": {
   "codemirror_mode": {
    "name": "ipython",
    "version": 2
   },
   "file_extension": ".py",
   "mimetype": "text/x-python",
   "name": "python",
   "nbconvert_exporter": "python",
   "pygments_lexer": "ipython2",
   "version": "2.7.6"
  }
 },
 "nbformat": 4,
 "nbformat_minor": 5
}
