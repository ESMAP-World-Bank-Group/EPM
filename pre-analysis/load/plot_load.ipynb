{
 "cells": [
  {
   "cell_type": "markdown",
   "id": "0ff09798",
   "metadata": {},
   "source": [
    "# Demand Forecast Plots\n",
    "\n",
    "This notebook pulls every `pDemandForecast*.csv` from the configured load folder,\n",
    "cleans them into a tidy table, and then reuses the shared `make_line_plot` helper to\n",
    "generate scenario comparisons for each zone plus system totals. Two demand types are\n",
    "handled (energy in GWh and peak in MW), with outputs saved under `pre-analysis/load/output/`.\n",
    "\n",
    "Steps:\n",
    "1. Configure the input folder and gather all forecast CSVs.\n",
    "2. Reshape the wide year columns into a long format, normalising scenario and type labels.\n",
    "3. Build colour mappings per scenario and call `make_line_plot` twice per demand type: once for\n",
    "   per-zone series and once for the system total.\n"
   ]
  },
  {
   "cell_type": "code",
   "execution_count": 6,
   "id": "11504c85",
   "metadata": {},
   "outputs": [],
   "source": [
    "from pathlib import Path\n",
    "import pandas as pd\n",
    "import matplotlib.pyplot as plt\n",
    "\n",
    "import sys\n",
    "sys.path.append('../../epm')\n",
    "\n",
    "from postprocessing.plots import make_line_plot\n"
   ]
  },
  {
   "cell_type": "code",
   "execution_count": 7,
   "id": "b5fb804c",
   "metadata": {},
   "outputs": [
    {
     "data": {
      "application/vnd.microsoft.datawrangler.viewer.v0+json": {
       "columns": [
        {
         "name": "index",
         "rawType": "int64",
         "type": "integer"
        },
        {
         "name": "zone",
         "rawType": "object",
         "type": "string"
        },
        {
         "name": "type",
         "rawType": "object",
         "type": "string"
        },
        {
         "name": "year",
         "rawType": "int64",
         "type": "integer"
        },
        {
         "name": "demand",
         "rawType": "int64",
         "type": "integer"
        },
        {
         "name": "scenario",
         "rawType": "object",
         "type": "string"
        }
       ],
       "ref": "f6a7812e-8931-4a22-b8c4-fcc6e662e1f1",
       "rows": [
        [
         "0",
         "Angola",
         "Energy",
         "2025",
         "17080",
         "Baseline"
        ],
        [
         "1",
         "Angola",
         "Energy",
         "2030",
         "21782",
         "Baseline"
        ],
        [
         "2",
         "Angola",
         "Energy",
         "2035",
         "27265",
         "Baseline"
        ],
        [
         "3",
         "Angola",
         "Energy",
         "2040",
         "33615",
         "Baseline"
        ],
        [
         "4",
         "Angola",
         "Energy",
         "2045",
         "41004",
         "Baseline"
        ]
       ],
       "shape": {
        "columns": 5,
        "rows": 5
       }
      },
      "text/html": [
       "<div>\n",
       "<style scoped>\n",
       "    .dataframe tbody tr th:only-of-type {\n",
       "        vertical-align: middle;\n",
       "    }\n",
       "\n",
       "    .dataframe tbody tr th {\n",
       "        vertical-align: top;\n",
       "    }\n",
       "\n",
       "    .dataframe thead th {\n",
       "        text-align: right;\n",
       "    }\n",
       "</style>\n",
       "<table border=\"1\" class=\"dataframe\">\n",
       "  <thead>\n",
       "    <tr style=\"text-align: right;\">\n",
       "      <th></th>\n",
       "      <th>zone</th>\n",
       "      <th>type</th>\n",
       "      <th>year</th>\n",
       "      <th>demand</th>\n",
       "      <th>scenario</th>\n",
       "    </tr>\n",
       "  </thead>\n",
       "  <tbody>\n",
       "    <tr>\n",
       "      <th>0</th>\n",
       "      <td>Angola</td>\n",
       "      <td>Energy</td>\n",
       "      <td>2025</td>\n",
       "      <td>17080</td>\n",
       "      <td>Baseline</td>\n",
       "    </tr>\n",
       "    <tr>\n",
       "      <th>1</th>\n",
       "      <td>Angola</td>\n",
       "      <td>Energy</td>\n",
       "      <td>2030</td>\n",
       "      <td>21782</td>\n",
       "      <td>Baseline</td>\n",
       "    </tr>\n",
       "    <tr>\n",
       "      <th>2</th>\n",
       "      <td>Angola</td>\n",
       "      <td>Energy</td>\n",
       "      <td>2035</td>\n",
       "      <td>27265</td>\n",
       "      <td>Baseline</td>\n",
       "    </tr>\n",
       "    <tr>\n",
       "      <th>3</th>\n",
       "      <td>Angola</td>\n",
       "      <td>Energy</td>\n",
       "      <td>2040</td>\n",
       "      <td>33615</td>\n",
       "      <td>Baseline</td>\n",
       "    </tr>\n",
       "    <tr>\n",
       "      <th>4</th>\n",
       "      <td>Angola</td>\n",
       "      <td>Energy</td>\n",
       "      <td>2045</td>\n",
       "      <td>41004</td>\n",
       "      <td>Baseline</td>\n",
       "    </tr>\n",
       "  </tbody>\n",
       "</table>\n",
       "</div>"
      ],
      "text/plain": [
       "     zone    type  year  demand  scenario\n",
       "0  Angola  Energy  2025   17080  Baseline\n",
       "1  Angola  Energy  2030   21782  Baseline\n",
       "2  Angola  Energy  2035   27265  Baseline\n",
       "3  Angola  Energy  2040   33615  Baseline\n",
       "4  Angola  Energy  2045   41004  Baseline"
      ]
     },
     "execution_count": 7,
     "metadata": {},
     "output_type": "execute_result"
    }
   ],
   "source": [
    "folder_input = 'data_test'\n",
    "\n",
    "data_dir = Path(f'../../epm/input/{folder_input}/load')\n",
    "csv_paths = sorted(data_dir.glob('pDemandForecast*.csv'))\n",
    "\n",
    "if not csv_paths:\n",
    "    raise FileNotFoundError(f'No demand forecast files found in {data_dir}')\n",
    "\n",
    "def _scenario_label(path: Path) -> str:\n",
    "    suffix = path.stem[len('pDemandForecast'):].lstrip('_')\n",
    "    cleaned = suffix.replace('_', ' ').strip()\n",
    "    return cleaned.title() if cleaned else 'Baseline'\n",
    "\n",
    "frames = []\n",
    "id_columns = ['zone', 'type']\n",
    "\n",
    "for csv_path in csv_paths:\n",
    "    scenario = _scenario_label(csv_path)\n",
    "    raw = pd.read_csv(csv_path)\n",
    "    missing = [col for col in id_columns if col not in raw.columns]\n",
    "    if missing:\n",
    "        raise ValueError(f\"File {csv_path.name} is missing required columns: {missing}\")\n",
    "\n",
    "    value_columns = [col for col in raw.columns if col not in id_columns]\n",
    "    tidy = (\n",
    "        # Reshape wide year columns into tidy year/demand rows and attach scenario metadata\n",
    "        raw.melt(id_vars=id_columns, value_vars=value_columns, var_name='year', value_name='demand')\n",
    "           .assign(\n",
    "               # Add scenario label and coerce numeric columns to guard against stray headers\n",
    "               scenario=scenario,\n",
    "               year=lambda d: pd.to_numeric(d['year'], errors='coerce'),\n",
    "               demand=lambda d: pd.to_numeric(d['demand'], errors='coerce')\n",
    "           )\n",
    "           .dropna(subset=['year', 'demand'])\n",
    "    )\n",
    "    tidy['year'] = tidy['year'].astype(int)\n",
    "    frames.append(tidy)\n",
    "\n",
    "\n",
    "demand_forecast = pd.concat(frames, ignore_index=True)\n",
    "demand_forecast['scenario'] = demand_forecast['scenario'].replace('', 'Baseline')\n",
    "demand_forecast['scenario'] = demand_forecast['scenario'].str.replace('_', ' ').str.title()\n",
    "demand_forecast['type'] = demand_forecast['type'].str.strip().str.title()\n",
    "demand_forecast.sort_values(['scenario', 'type', 'zone', 'year'], inplace=True)\n",
    "demand_forecast.reset_index(drop=True, inplace=True)\n",
    "demand_forecast.head()\n"
   ]
  },
  {
   "cell_type": "code",
   "execution_count": 8,
   "id": "ea45828c",
   "metadata": {},
   "outputs": [
    {
     "name": "stderr",
     "output_type": "stream",
     "text": [
      "/var/folders/p9/3r4_fgzd72j7b469xxshgfnh0000gn/T/ipykernel_94616/258667685.py:7: MatplotlibDeprecationWarning: The get_cmap function was deprecated in Matplotlib 3.7 and will be removed in 3.11. Use ``matplotlib.colormaps[name]`` or ``matplotlib.colormaps.get_cmap()`` or ``pyplot.get_cmap()`` instead.\n",
      "  palette = plt.cm.get_cmap('tab20', max(len(scenario_order), 1))\n"
     ]
    },
    {
     "name": "stdout",
     "output_type": "stream",
     "text": [
      "Saved output/energy_demand_by_zone.png\n",
      "Saved output/energy_demand_total.png\n",
      "Saved output/peak_demand_by_zone.png\n",
      "Saved output/peak_demand_total.png\n"
     ]
    }
   ],
   "source": [
    "output_dir = Path('output')\n",
    "output_dir.mkdir(parents=True, exist_ok=True)\n",
    "\n",
    "year_order = sorted(demand_forecast['year'].unique())\n",
    "scenario_order = list(dict.fromkeys(demand_forecast['scenario']))\n",
    "\n",
    "palette = plt.cm.get_cmap('tab20', max(len(scenario_order), 1))\n",
    "scenario_colors = {scenario: palette(idx) for idx, scenario in enumerate(scenario_order)}\n",
    "\n",
    "tick_formatter = lambda y, _: f\"{y:,.0f}\"\n",
    "\n",
    "type_configs = {\n",
    "    'Energy': {\n",
    "        'ylabel': 'Demand (GWh)',\n",
    "        'zone_title': 'Energy demand forecast by zone',\n",
    "        'total_title': 'Total energy demand forecast',\n",
    "        'zone_filename': output_dir / 'energy_demand_by_zone.png',\n",
    "        'total_filename': output_dir / 'energy_demand_total.png',\n",
    "    },\n",
    "    'Peak': {\n",
    "        'ylabel': 'Demand (MW)',\n",
    "        'zone_title': 'Peak demand forecast by zone',\n",
    "        'total_title': 'Total peak demand forecast',\n",
    "        'zone_filename': output_dir / 'peak_demand_by_zone.png',\n",
    "        'total_filename': output_dir / 'peak_demand_total.png',\n",
    "    },\n",
    "}\n",
    "\n",
    "for demand_type, cfg in type_configs.items():\n",
    "    subset = demand_forecast[demand_forecast['type'] == demand_type].copy()\n",
    "    if subset.empty:\n",
    "        print(f'No records found for {demand_type} demand.')\n",
    "        continue\n",
    "\n",
    "    make_line_plot(\n",
    "        df=subset,\n",
    "        filename=str(cfg['zone_filename']),\n",
    "        column_xaxis='year',\n",
    "        y_column='demand',\n",
    "        column_subplot='zone',\n",
    "        series_column='scenario',\n",
    "        dict_colors=scenario_colors,\n",
    "        order_index=year_order,\n",
    "        order_series=scenario_order,\n",
    "        format_y=tick_formatter,\n",
    "        xlabel='Year',\n",
    "        ylabel=cfg['ylabel'],\n",
    "        title=cfg['zone_title'],\n",
    "    )\n",
    "    print(f\"Saved {cfg['zone_filename'].as_posix()}\")\n",
    "\n",
    "    total = subset.groupby(['scenario', 'year'], as_index=False)['demand'].sum()\n",
    "\n",
    "    make_line_plot(\n",
    "        df=total,\n",
    "        filename=str(cfg['total_filename']),\n",
    "        column_xaxis='year',\n",
    "        y_column='demand',\n",
    "        series_column='scenario',\n",
    "        dict_colors=scenario_colors,\n",
    "        order_index=year_order,\n",
    "        order_series=scenario_order,\n",
    "        format_y=tick_formatter,\n",
    "        xlabel='Year',\n",
    "        ylabel=cfg['ylabel'],\n",
    "        title=cfg['total_title'],\n",
    "    )\n",
    "    print(f\"Saved {cfg['total_filename'].as_posix()}\")\n"
   ]
  },
  {
   "cell_type": "code",
   "execution_count": null,
   "id": "5dfc12f6",
   "metadata": {},
   "outputs": [],
   "source": []
  },
  {
   "cell_type": "code",
   "execution_count": null,
   "id": "4f6e5df4",
   "metadata": {},
   "outputs": [],
   "source": []
  }
 ],
 "metadata": {
  "kernelspec": {
   "display_name": "esmap_env",
   "language": "python",
   "name": "python3"
  },
  "language_info": {
   "codemirror_mode": {
    "name": "ipython",
    "version": 3
   },
   "file_extension": ".py",
   "mimetype": "text/x-python",
   "name": "python",
   "nbconvert_exporter": "python",
   "pygments_lexer": "ipython3",
   "version": "3.9.21"
  }
 },
 "nbformat": 4,
 "nbformat_minor": 5
}
