{
 "cells": [
  {
   "metadata": {},
   "cell_type": "markdown",
   "source": [
    "\n",
    "# Representative Days for EPM Model\n",
    "\n",
    "This notebook is used to calculate representative days used in the EPM model. The script is divided into 4 parts:\n",
    "1. Group data by season\n",
    "2. Format it for the Poncelet algorithm.\n",
    "2. Calculate representative year among historical data.\n",
    "2. Calculate special and representative days within this year.\n",
    "4. Export pHours, pVREgen in EPM format.\n",
    "\n",
    "It is based on previously developed GAMS code for the Poncelet algorithm. The objective has been to automate the process and make it more user-friendly.\n",
    "The code will automatically get the min production for PV, the min production for Wind, and the max load days for each season, called the special days.\n",
    "It will automatically removes the special days from the input file for the Poncelet algorithm and then runs the Poncelet algorithm to generate the representative days.\n",
    "\n",
    "## Special days methodology\n",
    "\n",
    "**Clustering-Based Method**\n",
    "To increase the influence of extreme days on the model, we proceed as follows:\n",
    "- Clustering: All days are grouped into k clusters using K-Means, and based on the features (VRE production and load).\n",
    "- Selection of Extremes: Days with the lowest PV, lowest wind, and highest load are identified as special days. For multi-zone cases, total daily PV or wind production across all zones is used.\n",
    "- Cluster Exclusion and Weight:\n",
    "    - The entire cluster containing each extreme day is excluded from the main dataset.\n",
    "    - The centroid (i.e., most representative day) of each excluded cluster is then included as a special day.\n",
    "    - This day is assigned a weight equal to the cluster’s share of the original dataset.\n",
    "\n",
    "This method ensures that days with system stress (e.g., low renewable production) have a greater impact on optimization results through the higher weight."
   ],
   "id": "dad8508e"
  },
  {
   "metadata": {
    "collapsed": true,
    "ExecuteTime": {
     "end_time": "2025-07-03T07:30:15.976742Z",
     "start_time": "2025-07-03T07:30:14.475878Z"
    }
   },
   "cell_type": "code",
   "source": [
    "import os\n",
    "import pandas as pd\n",
    "import matplotlib.pyplot as plt\n",
    "\n",
    "from utils_reprdays import *"
   ],
   "id": "initial_id",
   "outputs": [],
   "execution_count": 1
  },
  {
   "metadata": {},
   "cell_type": "markdown",
   "source": [
    "## 0. User input parameters (to manually change)\n",
    "\n",
    "- 1. `seasons_dict`: This dictionary defines the mapping of months to seasons. The keys are month numbers (1-12), and the values are season numbers (1-4). Fore example seasons ca, be defined as follows:\n",
    "  - Season 1: May, June, July, August, September\n",
    "  - Season 2: January, February, March, April, October, November, December\n",
    "- 2. `filenames_input`: This dictionary contains the filenames of the input data files. The keys are technology types (e.g., 'PV', 'Wind', 'Load'), and the values are the corresponding filenames path from the `input` folder. The files should be placed in the `input` folder. **Users are responsible for ensuring that the data is formatted correctly.** Reference examples are available in the data_test folder. The required columns are `zone`, `month` (or `season`), `day`, `hour`."
   ],
   "id": "9cc2093708b5a0f"
  },
  {
   "metadata": {
    "ExecuteTime": {
     "end_time": "2025-07-03T07:30:16.433122Z",
     "start_time": "2025-07-03T07:30:16.429508Z"
    }
   },
   "cell_type": "code",
   "source": [
    "# The definition of seasons is based on the month number.\n",
    "seasons_dict = {\n",
    "    1: 2,\n",
    "    2: 2,\n",
    "    3: 2,\n",
    "    4: 2,\n",
    "    5: 1,\n",
    "    6: 1,\n",
    "    7: 1,\n",
    "    8: 1,\n",
    "    9: 1,\n",
    "    10: 2,\n",
    "    11: 2,\n",
    "    12: 2\n",
    "}\n",
    "\n",
    "# The name of the file that must be in the input folder\n",
    "filenames_input = {'PV': 'irena/data_capp_solar.csv',\n",
    "                   'Wind': 'irena/data_capp_wind.csv',\n",
    "                   'Load': 'load_full_year.csv'\n",
    "                   }\n",
    "\n",
    "#\n",
    "zones_to_remove = ['STP']\n"
   ],
   "id": "17b6aae7e51a714d",
   "outputs": [],
   "execution_count": 2
  },
  {
   "metadata": {},
   "cell_type": "markdown",
   "source": "## 1. Create the folder structure",
   "id": "1a12e9ff"
  },
  {
   "metadata": {
    "collapsed": false,
    "ExecuteTime": {
     "end_time": "2025-07-03T07:30:17.617477Z",
     "start_time": "2025-07-03T07:30:17.612534Z"
    }
   },
   "cell_type": "code",
   "source": [
    "folder_input = 'input'\n",
    "# Make folder\n",
    "if not os.path.exists(folder_input):\n",
    "    os.makedirs(folder_input)\n",
    "    print(f'Input folder: {folder_input}')\n",
    "\n",
    "folder_output = 'output'\n",
    "# Make folder\n",
    "if not os.path.exists(folder_output):\n",
    "    os.makedirs(folder_output)\n",
    "    print(f'Output folder: {folder_output}')"
   ],
   "id": "c1f8a2a9c2d81704",
   "outputs": [],
   "execution_count": 3
  },
  {
   "metadata": {},
   "cell_type": "markdown",
   "source": [
    "## 2. Process data to group by season\n",
    "Renewable ninja ata is processed to group months into season, to be used as input to EPM. This step may be skipped if one wishes to keep the seasonal definition at the monthly scale, or updated based on the seasonal grouping that makes the most sense for the case study at hand."
   ],
   "id": "9a9386e750394cdb"
  },
  {
   "metadata": {
    "ExecuteTime": {
     "end_time": "2025-07-03T07:13:06.153884Z",
     "start_time": "2025-07-03T07:13:05.043700Z"
    }
   },
   "cell_type": "code",
   "source": [
    "def month_to_season(data, seasons_dict, other_columns=None):\n",
    "    \"\"\"Convert month number to season number.\"\"\"\n",
    "    data = data.rename(columns={'season': 'month'})\n",
    "    data['season'] = data.apply(lambda row: seasons_dict[row['month']], axis=1)\n",
    "    data = data.sort_values(by=['season', 'month', 'day', 'hour'])\n",
    "    data = data[~((data['month'] == 2) & (data['day'] == 29))]\n",
    "    # Renumber days sequentially within each season\n",
    "    data['season_day'] = data.groupby(other_columns + ['season']).cumcount() // 24 + 1\n",
    "    data = data.drop(columns=['day']).rename(columns={'season_day': 'day'})\n",
    "    data = data.set_index(other_columns + ['season', 'day', 'hour']).reset_index().drop(columns=['month'])\n",
    "    data = data.sort_values(by=other_columns + ['season', 'day', 'hour'])\n",
    "    return data\n",
    "\n",
    "filenames = {key: os.path.join(folder_input, filename) for key, filename in filenames_input.items()}\n",
    "\n",
    "display('WARNING: Ensure that the zones in the data are consistent across all input files.')\n",
    "\n",
    "# Process each file and save the results\n",
    "for key, filename in filenames.items():\n",
    "    print(f'Processing {key} data from {filename}')\n",
    "    if not os.path.exists(filename):\n",
    "        raise FileNotFoundError(f'File {os.path.abspath(filename)} not found. Please check the input folder.')\n",
    "    # Load the data\n",
    "    data = pd.read_csv(filename, index_col=False)\n",
    "\n",
    "    # Check if the required columns are present\n",
    "    required_columns = ['zone', 'month', 'day', 'hour']\n",
    "    if not all(col in data.columns for col in required_columns):\n",
    "        raise ValueError(f'Missing required columns in {filename}. Required columns missing: {\", \".join([col for col in required_columns if col not in data.columns])}')\n",
    "\n",
    "    # Display zones in the data\n",
    "    display(f'Number of zones in {key}: {data[\"zone\"].nunique()}')\n",
    "    display(f'Zones in {key}: {data[\"zone\"].unique()}')\n",
    "\n",
    "    # Load data hours should start with 0, not 1\n",
    "    if data['hour'].min() == 1:\n",
    "        data['hour'] = data['hour'] - 1\n",
    "\n",
    "    # Rename value by 2018\n",
    "    data = data.rename(columns={'value': 2018})\n",
    "\n",
    "    # Remove zones that are not needed\n",
    "    data = data[~data['zone'].isin(zones_to_remove)]\n",
    "\n",
    "    # Convert month to season\n",
    "    data = month_to_season(data, seasons_dict, other_columns=['zone'])\n",
    "\n",
    "    # Save the data\n",
    "    name, ext = os.path.splitext(filename)\n",
    "    filename = f'{name}_season{ext}'\n",
    "\n",
    "    data.to_csv(filename, float_format='%.4f', index=False)\n",
    "    print(f'Data saved to {filename}')"
   ],
   "id": "6c198aef6e2a2f7c",
   "outputs": [
    {
     "data": {
      "text/plain": [
       "'WARNING: Ensure that the zones in the data are consistent across all input files.'"
      ]
     },
     "metadata": {},
     "output_type": "display_data"
    },
    {
     "name": "stdout",
     "output_type": "stream",
     "text": [
      "Processing PV data from input/irena/data_capp_solar.csv\n"
     ]
    },
    {
     "data": {
      "text/plain": [
       "'Number of zones in PV: 10'"
      ]
     },
     "metadata": {},
     "output_type": "display_data"
    },
    {
     "data": {
      "text/plain": [
       "\"Zones in PV: ['Angola' 'Burundi' 'Cameroon' 'CAR' 'Chad' 'Congo' 'DRC'\\n 'EquatorialGuinea' 'Gabon' 'Rwanda']\""
      ]
     },
     "metadata": {},
     "output_type": "display_data"
    },
    {
     "name": "stdout",
     "output_type": "stream",
     "text": [
      "Data saved to input/irena/data_capp_solar_season.csv\n",
      "Processing Wind data from input/irena/data_capp_wind.csv\n"
     ]
    },
    {
     "data": {
      "text/plain": [
       "'Number of zones in Wind: 6'"
      ]
     },
     "metadata": {},
     "output_type": "display_data"
    },
    {
     "data": {
      "text/plain": [
       "\"Zones in Wind: ['Angola' 'Cameroon' 'CAR' 'Chad' 'Congo' 'DRC']\""
      ]
     },
     "metadata": {},
     "output_type": "display_data"
    },
    {
     "name": "stdout",
     "output_type": "stream",
     "text": [
      "Data saved to input/irena/data_capp_wind_season.csv\n",
      "Processing Load data from input/load_full_year.csv\n"
     ]
    },
    {
     "data": {
      "text/plain": [
       "'Number of zones in Load: 11'"
      ]
     },
     "metadata": {},
     "output_type": "display_data"
    },
    {
     "data": {
      "text/plain": [
       "\"Zones in Load: ['Angola' 'Burundi' 'Cameroon' 'CAR' 'Congo' 'Gabon' 'EquatorialGuinea'\\n 'DRC' 'Rwanda' 'STP' 'Chad']\""
      ]
     },
     "metadata": {},
     "output_type": "display_data"
    },
    {
     "name": "stdout",
     "output_type": "stream",
     "text": [
      "Data saved to input/load_full_year_season.csv\n"
     ]
    }
   ],
   "execution_count": 4
  },
  {
   "metadata": {},
   "cell_type": "markdown",
   "source": "## 3. Format data for the Poncelet algorithm",
   "id": "93e7c669f503df7d"
  },
  {
   "metadata": {
    "ExecuteTime": {
     "end_time": "2025-07-03T07:13:06.360728Z",
     "start_time": "2025-07-03T07:13:06.164057Z"
    }
   },
   "cell_type": "code",
   "source": [
    "filenames = {}\n",
    "for tech, filename in filenames_input.items():\n",
    "    name, ext = os.path.splitext(filename)\n",
    "    filename = f'{name}_season{ext}'\n",
    "    filename = os.path.join(folder_input, filename)\n",
    "\n",
    "    if not os.path.exists(filename):\n",
    "        print(f'File {filename} does not exist. Please check the input folder.')\n",
    "        raise FileNotFoundError(f'File {filename} not found.')\n",
    "\n",
    "    filenames.update({tech: filename})\n",
    "\n",
    "# The name of the data, used to save the results\n",
    "df_energy = format_data_energy(filenames)\n",
    "\n",
    "# Drop columns with all NaN values\n",
    "df_energy = df_energy.dropna(axis=1, how='all')\n",
    "\n",
    "# Display df_energy\n",
    "display(df_energy.head())\n",
    "if len(df_energy) != 8760:\n",
    "    print('Warning: The data does not contain a full year of data. Please check the input files.')\n",
    "else:\n",
    "    print('The data contains a full year of data.')"
   ],
   "id": "c4ad4d218dee59ea",
   "outputs": [
    {
     "name": "stdout",
     "output_type": "stream",
     "text": [
      "Representative year 2018\n",
      "Warning: NaN values in the DataFrame\n"
     ]
    },
    {
     "data": {
      "text/plain": [
       "'Annual capacity factor (%):'"
      ]
     },
     "metadata": {},
     "output_type": "display_data"
    },
    {
     "data": {
      "text/plain": [
       "tech              zone        PV      Wind      Load\n",
       "0               Angola  0.224599  0.397303  0.775620\n",
       "1              Burundi  0.198113       NaN  0.742856\n",
       "2                  CAR  0.202921  0.390992  0.803250\n",
       "3             Cameroon  0.207991  0.415764  0.740909\n",
       "4                 Chad  0.208414  0.642518  0.685850\n",
       "5                Congo  0.183137  0.377975  0.720891\n",
       "6                  DRC  0.193951  0.439868  0.880314\n",
       "7     EquatorialGuinea  0.173794       NaN  0.805217\n",
       "8                Gabon  0.173166       NaN  0.783922\n",
       "9               Rwanda  0.192586       NaN  0.757781"
      ],
      "text/html": [
       "<div>\n",
       "<style scoped>\n",
       "    .dataframe tbody tr th:only-of-type {\n",
       "        vertical-align: middle;\n",
       "    }\n",
       "\n",
       "    .dataframe tbody tr th {\n",
       "        vertical-align: top;\n",
       "    }\n",
       "\n",
       "    .dataframe thead th {\n",
       "        text-align: right;\n",
       "    }\n",
       "</style>\n",
       "<table border=\"1\" class=\"dataframe\">\n",
       "  <thead>\n",
       "    <tr style=\"text-align: right;\">\n",
       "      <th>tech</th>\n",
       "      <th>zone</th>\n",
       "      <th>PV</th>\n",
       "      <th>Wind</th>\n",
       "      <th>Load</th>\n",
       "    </tr>\n",
       "  </thead>\n",
       "  <tbody>\n",
       "    <tr>\n",
       "      <th>0</th>\n",
       "      <td>Angola</td>\n",
       "      <td>0.224599</td>\n",
       "      <td>0.397303</td>\n",
       "      <td>0.775620</td>\n",
       "    </tr>\n",
       "    <tr>\n",
       "      <th>1</th>\n",
       "      <td>Burundi</td>\n",
       "      <td>0.198113</td>\n",
       "      <td>NaN</td>\n",
       "      <td>0.742856</td>\n",
       "    </tr>\n",
       "    <tr>\n",
       "      <th>2</th>\n",
       "      <td>CAR</td>\n",
       "      <td>0.202921</td>\n",
       "      <td>0.390992</td>\n",
       "      <td>0.803250</td>\n",
       "    </tr>\n",
       "    <tr>\n",
       "      <th>3</th>\n",
       "      <td>Cameroon</td>\n",
       "      <td>0.207991</td>\n",
       "      <td>0.415764</td>\n",
       "      <td>0.740909</td>\n",
       "    </tr>\n",
       "    <tr>\n",
       "      <th>4</th>\n",
       "      <td>Chad</td>\n",
       "      <td>0.208414</td>\n",
       "      <td>0.642518</td>\n",
       "      <td>0.685850</td>\n",
       "    </tr>\n",
       "    <tr>\n",
       "      <th>5</th>\n",
       "      <td>Congo</td>\n",
       "      <td>0.183137</td>\n",
       "      <td>0.377975</td>\n",
       "      <td>0.720891</td>\n",
       "    </tr>\n",
       "    <tr>\n",
       "      <th>6</th>\n",
       "      <td>DRC</td>\n",
       "      <td>0.193951</td>\n",
       "      <td>0.439868</td>\n",
       "      <td>0.880314</td>\n",
       "    </tr>\n",
       "    <tr>\n",
       "      <th>7</th>\n",
       "      <td>EquatorialGuinea</td>\n",
       "      <td>0.173794</td>\n",
       "      <td>NaN</td>\n",
       "      <td>0.805217</td>\n",
       "    </tr>\n",
       "    <tr>\n",
       "      <th>8</th>\n",
       "      <td>Gabon</td>\n",
       "      <td>0.173166</td>\n",
       "      <td>NaN</td>\n",
       "      <td>0.783922</td>\n",
       "    </tr>\n",
       "    <tr>\n",
       "      <th>9</th>\n",
       "      <td>Rwanda</td>\n",
       "      <td>0.192586</td>\n",
       "      <td>NaN</td>\n",
       "      <td>0.757781</td>\n",
       "    </tr>\n",
       "  </tbody>\n",
       "</table>\n",
       "</div>"
      ]
     },
     "metadata": {},
     "output_type": "display_data"
    },
    {
     "data": {
      "text/plain": [
       "   season  day  hour  Load_Angola  Load_Burundi  Load_CAR  Load_Cameroon  \\\n",
       "0       1    1     0       0.7989         0.602    0.7552         0.6838   \n",
       "1       1    1     1       0.7687         0.569    0.7433         0.6589   \n",
       "2       1    1     2       0.7579         0.569    0.7415         0.6388   \n",
       "3       1    1     3       0.7365         0.571    0.7314         0.6272   \n",
       "4       1    1     4       0.7297         0.580    0.7360         0.6359   \n",
       "\n",
       "   Load_Chad  Load_Congo  Load_DRC  ...  PV_DRC  PV_EquatorialGuinea  \\\n",
       "0     0.6875      0.7073    0.8866  ...  0.0000                  0.0   \n",
       "1     0.6625      0.6663    0.8704  ...  0.0000                  0.0   \n",
       "2     0.6422      0.6432    0.8606  ...  0.0000                  0.0   \n",
       "3     0.6306      0.6389    0.8520  ...  0.0000                  0.0   \n",
       "4     0.6393      0.6338    0.8509  ...  0.0121                  0.0   \n",
       "\n",
       "   PV_Gabon  PV_Rwanda  Wind_Angola  Wind_CAR  Wind_Cameroon  Wind_Chad  \\\n",
       "0       0.0     0.0000       0.4575    0.6473         0.6783     0.2343   \n",
       "1       0.0     0.0000       0.4164    0.8103         0.8117     0.2442   \n",
       "2       0.0     0.0000       0.4093    0.8637         0.8557     0.2553   \n",
       "3       0.0     0.0000       0.4160    0.8929         0.8690     0.2407   \n",
       "4       0.0     0.0001       0.4371    0.8781         0.8862     0.2157   \n",
       "\n",
       "   Wind_Congo  Wind_DRC  \n",
       "0       0.000    0.7204  \n",
       "1       0.000    0.7449  \n",
       "2       0.005    0.7827  \n",
       "3       0.043    0.7954  \n",
       "4       0.068    0.7979  \n",
       "\n",
       "[5 rows x 29 columns]"
      ],
      "text/html": [
       "<div>\n",
       "<style scoped>\n",
       "    .dataframe tbody tr th:only-of-type {\n",
       "        vertical-align: middle;\n",
       "    }\n",
       "\n",
       "    .dataframe tbody tr th {\n",
       "        vertical-align: top;\n",
       "    }\n",
       "\n",
       "    .dataframe thead th {\n",
       "        text-align: right;\n",
       "    }\n",
       "</style>\n",
       "<table border=\"1\" class=\"dataframe\">\n",
       "  <thead>\n",
       "    <tr style=\"text-align: right;\">\n",
       "      <th></th>\n",
       "      <th>season</th>\n",
       "      <th>day</th>\n",
       "      <th>hour</th>\n",
       "      <th>Load_Angola</th>\n",
       "      <th>Load_Burundi</th>\n",
       "      <th>Load_CAR</th>\n",
       "      <th>Load_Cameroon</th>\n",
       "      <th>Load_Chad</th>\n",
       "      <th>Load_Congo</th>\n",
       "      <th>Load_DRC</th>\n",
       "      <th>...</th>\n",
       "      <th>PV_DRC</th>\n",
       "      <th>PV_EquatorialGuinea</th>\n",
       "      <th>PV_Gabon</th>\n",
       "      <th>PV_Rwanda</th>\n",
       "      <th>Wind_Angola</th>\n",
       "      <th>Wind_CAR</th>\n",
       "      <th>Wind_Cameroon</th>\n",
       "      <th>Wind_Chad</th>\n",
       "      <th>Wind_Congo</th>\n",
       "      <th>Wind_DRC</th>\n",
       "    </tr>\n",
       "  </thead>\n",
       "  <tbody>\n",
       "    <tr>\n",
       "      <th>0</th>\n",
       "      <td>1</td>\n",
       "      <td>1</td>\n",
       "      <td>0</td>\n",
       "      <td>0.7989</td>\n",
       "      <td>0.602</td>\n",
       "      <td>0.7552</td>\n",
       "      <td>0.6838</td>\n",
       "      <td>0.6875</td>\n",
       "      <td>0.7073</td>\n",
       "      <td>0.8866</td>\n",
       "      <td>...</td>\n",
       "      <td>0.0000</td>\n",
       "      <td>0.0</td>\n",
       "      <td>0.0</td>\n",
       "      <td>0.0000</td>\n",
       "      <td>0.4575</td>\n",
       "      <td>0.6473</td>\n",
       "      <td>0.6783</td>\n",
       "      <td>0.2343</td>\n",
       "      <td>0.000</td>\n",
       "      <td>0.7204</td>\n",
       "    </tr>\n",
       "    <tr>\n",
       "      <th>1</th>\n",
       "      <td>1</td>\n",
       "      <td>1</td>\n",
       "      <td>1</td>\n",
       "      <td>0.7687</td>\n",
       "      <td>0.569</td>\n",
       "      <td>0.7433</td>\n",
       "      <td>0.6589</td>\n",
       "      <td>0.6625</td>\n",
       "      <td>0.6663</td>\n",
       "      <td>0.8704</td>\n",
       "      <td>...</td>\n",
       "      <td>0.0000</td>\n",
       "      <td>0.0</td>\n",
       "      <td>0.0</td>\n",
       "      <td>0.0000</td>\n",
       "      <td>0.4164</td>\n",
       "      <td>0.8103</td>\n",
       "      <td>0.8117</td>\n",
       "      <td>0.2442</td>\n",
       "      <td>0.000</td>\n",
       "      <td>0.7449</td>\n",
       "    </tr>\n",
       "    <tr>\n",
       "      <th>2</th>\n",
       "      <td>1</td>\n",
       "      <td>1</td>\n",
       "      <td>2</td>\n",
       "      <td>0.7579</td>\n",
       "      <td>0.569</td>\n",
       "      <td>0.7415</td>\n",
       "      <td>0.6388</td>\n",
       "      <td>0.6422</td>\n",
       "      <td>0.6432</td>\n",
       "      <td>0.8606</td>\n",
       "      <td>...</td>\n",
       "      <td>0.0000</td>\n",
       "      <td>0.0</td>\n",
       "      <td>0.0</td>\n",
       "      <td>0.0000</td>\n",
       "      <td>0.4093</td>\n",
       "      <td>0.8637</td>\n",
       "      <td>0.8557</td>\n",
       "      <td>0.2553</td>\n",
       "      <td>0.005</td>\n",
       "      <td>0.7827</td>\n",
       "    </tr>\n",
       "    <tr>\n",
       "      <th>3</th>\n",
       "      <td>1</td>\n",
       "      <td>1</td>\n",
       "      <td>3</td>\n",
       "      <td>0.7365</td>\n",
       "      <td>0.571</td>\n",
       "      <td>0.7314</td>\n",
       "      <td>0.6272</td>\n",
       "      <td>0.6306</td>\n",
       "      <td>0.6389</td>\n",
       "      <td>0.8520</td>\n",
       "      <td>...</td>\n",
       "      <td>0.0000</td>\n",
       "      <td>0.0</td>\n",
       "      <td>0.0</td>\n",
       "      <td>0.0000</td>\n",
       "      <td>0.4160</td>\n",
       "      <td>0.8929</td>\n",
       "      <td>0.8690</td>\n",
       "      <td>0.2407</td>\n",
       "      <td>0.043</td>\n",
       "      <td>0.7954</td>\n",
       "    </tr>\n",
       "    <tr>\n",
       "      <th>4</th>\n",
       "      <td>1</td>\n",
       "      <td>1</td>\n",
       "      <td>4</td>\n",
       "      <td>0.7297</td>\n",
       "      <td>0.580</td>\n",
       "      <td>0.7360</td>\n",
       "      <td>0.6359</td>\n",
       "      <td>0.6393</td>\n",
       "      <td>0.6338</td>\n",
       "      <td>0.8509</td>\n",
       "      <td>...</td>\n",
       "      <td>0.0121</td>\n",
       "      <td>0.0</td>\n",
       "      <td>0.0</td>\n",
       "      <td>0.0001</td>\n",
       "      <td>0.4371</td>\n",
       "      <td>0.8781</td>\n",
       "      <td>0.8862</td>\n",
       "      <td>0.2157</td>\n",
       "      <td>0.068</td>\n",
       "      <td>0.7979</td>\n",
       "    </tr>\n",
       "  </tbody>\n",
       "</table>\n",
       "<p>5 rows × 29 columns</p>\n",
       "</div>"
      ]
     },
     "metadata": {},
     "output_type": "display_data"
    },
    {
     "name": "stdout",
     "output_type": "stream",
     "text": [
      "The data contains a full year of data.\n"
     ]
    }
   ],
   "execution_count": 5
  },
  {
   "metadata": {},
   "cell_type": "markdown",
   "source": [
    "## 4. Generate representative days\n",
    "\n",
    "**User-defined parameters**\n",
    "\n",
    "User needs to change the following parameters in the following cell:\n",
    "\n",
    "1. `nbr_days`: Defines the number of representative days used in the Poncelet algorithm.\n",
    "2. `n_clusters`: Specifies the number of clusters (i.e., representative days) to generate, which will then be used to extract special days representing extreme clusters.\n",
    "4. `nbr_bins` file: A higher number of zones or time series increases numerical complexity. Start with `nbr_bins=10` (fewer bins) for easier computation. Increase the number of bins progressively if the problem remains easy to solve.\n",
    "5. `n_features_selection` (optional): Enables **automatic feature selection** to reduce the number of time series used in the Poncelet algorithm.\n",
    "   This is useful when:\n",
    "   - Modeling many zones or countries.\n",
    "   - The number of pairwise correlations becomes large, increasing computational time.\n",
    "\n",
    "    Use this parameter if the Poncelet algorithm takes more than a few minutes to run."
   ],
   "id": "b34e4b0e6d967ed"
  },
  {
   "metadata": {
    "ExecuteTime": {
     "end_time": "2025-07-03T07:13:06.408711Z",
     "start_time": "2025-07-03T07:13:06.406466Z"
    }
   },
   "cell_type": "code",
   "source": [
    "# Defines the number of representative days used in the Poncelet algorithm.\n",
    "n_rep_days = 2\n",
    "\n",
    "# Clustering the data to extract clusters corresponding to extreme conditions\n",
    "n_clusters = 20\n",
    "\n",
    "nbr_bins = 10\n",
    "\n",
    "# Feature selection is optional but recommended if you are working with a large number of zones or time series. This reduces the number of pairwise correlations and helps avoid high computational complexity in the optimization step.\n",
    "n_features_selection = 30"
   ],
   "id": "852380065f38c387",
   "outputs": [],
   "execution_count": 6
  },
  {
   "metadata": {
    "ExecuteTime": {
     "end_time": "2025-07-03T07:14:37.856938Z",
     "start_time": "2025-07-03T07:13:06.450532Z"
    }
   },
   "cell_type": "code",
   "source": [
    "\n",
    "df_energy_cluster, df_closest_days, centroids_df = cluster_data_new(df_energy, n_clusters=n_clusters)\n",
    "\n",
    "# Extracting special days as centroids of the extreme clusters\n",
    "special_days, df_energy_no_special = get_special_days_clustering(df_closest_days,\n",
    "                                                                 df_energy_cluster, threshold=0.1)\n",
    "\n",
    "print('Number of hours in the year:', len(df_energy_no_special))\n",
    "print('Removed days:', (len(df_energy) - len(df_energy_no_special)) / 24)\n",
    "\n",
    "# Format the data (including correlation calculation) and save it in a .csv file\n",
    "_, path_data_file = format_optim_repr_days(df_energy_no_special, folder_output)\n",
    "\n",
    "\n",
    "selected_series, df, path_data_file_selection = (\n",
    "    select_representative_series_hierarchical(path_data_file, n=n_features_selection, method='ward', metric='euclidean', scale=True, scale_method='standard'))\n",
    "\n",
    "# Launch the optimization to find the representative days\n",
    "path_data = path_data_file  # you want to include all the features to identify representative days\n",
    "path_data = path_data_file_selection  # you only want to work with the reduced number of features to identify representative days\n",
    "\n",
    "launch_optim_repr_days(path_data, folder_output, nbr_days=n_rep_days,\n",
    "                       main_file='OptimizationModelZone.gms',\n",
    "                       nbr_bins=nbr_bins)\n",
    "\n",
    "# Get the results\n",
    "repr_days = parse_repr_days(folder_output, special_days)\n",
    "\n",
    "# Format the data to be used in EPM\n",
    "format_epm_phours(repr_days, folder_output)\n",
    "format_epm_pvreprofile(df_energy, repr_days, folder_output)\n",
    "# only activate when load data is provided\n",
    "format_epm_demandprofile(df_energy, repr_days, folder_output)\n",
    "\n",
    "# Export in .csv format\n",
    "repr_days.to_csv(os.path.join(folder_output, 'repr_days.csv'), index=False)\n",
    "df_energy.to_csv(os.path.join(folder_output, 'df_energy.csv'), index=False)"
   ],
   "id": "73cb9c0777d6e6af",
   "outputs": [
    {
     "name": "stdout",
     "output_type": "stream",
     "text": [
      "Number of hours in the year: 7728\n",
      "Removed days: 43.0\n",
      "File saved at: output/data_formatted_optim.csv\n",
      "File saved at /Users/lucas/Documents/World Bank/Projects/EPM_APPLIED/EPM_CAPP/pre-analysis/representative_days/output/data_formatted_optim_selection.csv\n",
      "File saved to: gams/bins_settings_10.csv\n",
      "Launch GAMS code\n",
      "End GAMS code\n",
      "Number of days: 10\n",
      "Total weight: 365\n",
      "season\n",
      "Q1    153.0\n",
      "Q2    212.0\n",
      "Name: weight, dtype: float64\n",
      "pHours file saved at: output/pHours.csv\n",
      "Number of hours: 365\n",
      "VRE Profile file saved at: output/pVREProfile.csv\n",
      "pDemandProfile file saved at: output/pDemandProfile.csv\n"
     ]
    },
    {
     "name": "stderr",
     "output_type": "stream",
     "text": [
      "/Users/lucas/Documents/World Bank/Projects/EPM_APPLIED/EPM_CAPP/pre-analysis/representative_days/utils_reprdays.py:728: FutureWarning: The previous implementation of stack is deprecated and will be removed in a future version of pandas. See the What's New notes for pandas 2.1.0 for details. Specify future_stack=True to adopt the new implementation and silence this warning.\n",
      "  pVREProfile = pVREProfile.stack(level=['fuel', 'zone'])\n",
      "/Users/lucas/Documents/World Bank/Projects/EPM_APPLIED/EPM_CAPP/pre-analysis/representative_days/utils_reprdays.py:773: FutureWarning: The previous implementation of stack is deprecated and will be removed in a future version of pandas. See the What's New notes for pandas 2.1.0 for details. Specify future_stack=True to adopt the new implementation and silence this warning.\n",
      "  pDemandProfile = pDemandProfile.stack('zone')\n"
     ]
    }
   ],
   "execution_count": 7
  },
  {
   "cell_type": "markdown",
   "id": "9fce7513",
   "metadata": {},
   "source": [
    "## 5. Plot results\n",
    "\n",
    "Optional cell to plot the results. It will plot the load, wind and solar data for the representative year."
   ]
  },
  {
   "cell_type": "code",
   "id": "7ffa1f20",
   "metadata": {
    "ExecuteTime": {
     "end_time": "2025-07-03T07:30:22.140157Z",
     "start_time": "2025-07-03T07:30:21.862720Z"
    }
   },
   "source": [
    "# Get data \n",
    "input_file = pd.read_csv(os.path.join(folder_output, 'data_formatted_optim.csv'), index_col=[0,1,2])\n",
    "input_file.index.names = ['season', 'day', 'hour']\n",
    "\n",
    "VREProfile = pd.read_csv(os.path.join(folder_output, 'pVREProfile.csv'), index_col=[0,1,2,3])\n",
    "\n",
    "pHours = pd.read_csv(os.path.join(folder_output, 'pHours.csv'), index_col=[0,1])"
   ],
   "outputs": [],
   "execution_count": 4
  },
  {
   "metadata": {
    "ExecuteTime": {
     "end_time": "2025-07-03T07:30:23.401575Z",
     "start_time": "2025-07-03T07:30:22.287851Z"
    }
   },
   "cell_type": "code",
   "source": [
    "# Checking the representative days\n",
    "\n",
    "# === SETTINGS ===\n",
    "\n",
    "season_colors = {\n",
    "    'Q1': 'darkred',\n",
    "    'Q2': 'dimgrey',\n",
    "    'Q3': 'steelblue',\n",
    "    'Q4': 'seagreen'}\n",
    "\n",
    "\n",
    "# Total renewable production over all zones\n",
    "plot_vre_repdays(input_file=input_file, vre_profile=VREProfile, pHours=pHours,\n",
    "          season_colors=season_colors, min_alpha=0.5, max_alpha=1, path=os.path.join(folder_output, 'plot_vre_repdays.png'))"
   ],
   "id": "bf53620a7924fa57",
   "outputs": [
    {
     "name": "stderr",
     "output_type": "stream",
     "text": [
      "/Users/lucas/Documents/World Bank/Projects/EPM_APPLIED/EPM_CAPP/pre-analysis/representative_days/utils_reprdays.py:1189: UserWarning: No artists with labels found to put in legend.  Note that artists whose label start with an underscore are ignored when legend() is called with no argument.\n",
      "  ax.legend(loc='upper right', fontsize=fontsize_legend, frameon=False)\n",
      "/Users/lucas/Documents/World Bank/Projects/EPM_APPLIED/EPM_CAPP/pre-analysis/representative_days/utils_reprdays.py:1189: UserWarning: No artists with labels found to put in legend.  Note that artists whose label start with an underscore are ignored when legend() is called with no argument.\n",
      "  ax.legend(loc='upper right', fontsize=fontsize_legend, frameon=False)\n"
     ]
    }
   ],
   "execution_count": 5
  },
  {
   "cell_type": "code",
   "id": "8d11735b",
   "metadata": {
    "ExecuteTime": {
     "end_time": "2025-07-03T07:28:58.197145Z",
     "start_time": "2025-07-03T07:28:57.018679Z"
    }
   },
   "source": [
    "# Checking the representative days\n",
    "\n",
    "# === SETTINGS ===\n",
    "season_colors = {\n",
    "    'Q1': 'darkred',\n",
    "    'Q2': 'dimgrey',\n",
    "    'Q3': 'steelblue',\n",
    "    'Q4': 'seagreen'}\n",
    "\n",
    "# Representative days per country\n",
    "country = ['Angola']\n",
    "plot_vre_repdays(input_file=input_file, vre_profile=VREProfile, pHours=pHours,\n",
    "          season_colors=season_colors, countries=country, min_alpha=0.5, max_alpha=1, path=os.path.join(folder_output, 'plot_vre_repdays_angola.png'))"
   ],
   "outputs": [
    {
     "name": "stderr",
     "output_type": "stream",
     "text": [
      "/Users/lucas/Documents/World Bank/Projects/EPM_APPLIED/EPM_CAPP/pre-analysis/representative_days/utils_reprdays.py:1189: UserWarning: No artists with labels found to put in legend.  Note that artists whose label start with an underscore are ignored when legend() is called with no argument.\n",
      "  ax.legend(loc='upper right', fontsize=fontsize_legend, frameon=False)\n",
      "/Users/lucas/Documents/World Bank/Projects/EPM_APPLIED/EPM_CAPP/pre-analysis/representative_days/utils_reprdays.py:1189: UserWarning: No artists with labels found to put in legend.  Note that artists whose label start with an underscore are ignored when legend() is called with no argument.\n",
      "  ax.legend(loc='upper right', fontsize=fontsize_legend, frameon=False)\n"
     ]
    }
   ],
   "execution_count": 10
  }
 ],
 "metadata": {
  "kernelspec": {
   "display_name": "esmap_env",
   "language": "python",
   "name": "python3"
  },
  "language_info": {
   "codemirror_mode": {
    "name": "ipython",
    "version": 3
   },
   "file_extension": ".py",
   "mimetype": "text/x-python",
   "name": "python",
   "nbconvert_exporter": "python",
   "pygments_lexer": "ipython3",
   "version": "3.9.21"
  }
 },
 "nbformat": 4,
 "nbformat_minor": 5
}
