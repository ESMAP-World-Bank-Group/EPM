{
 "cells": [
  {
   "metadata": {},
   "cell_type": "markdown",
   "source": [
    "\n",
    "# Representative Days for EPM Model\n",
    "\n",
    "This notebook is used to calculate representative days used in the EPM model. The script is divided into 4 parts:\n",
    "1. Group data by season\n",
    "2. Format it for the Poncelet algorithm.\n",
    "2. Calculate representative year among historical data.\n",
    "2. Calculate special and representative days within this year.\n",
    "4. Export pHours, pVREgen in EPM format.\n",
    "\n",
    "It is based on previously developed GAMS code for the Poncelet algorithm. The objective has been to automate the process and make it more user-friendly.\n",
    "The code will automatically get the min production for PV, the min production for Wind, and the max load days for each season, called the special days.\n",
    "It will automatically removes the special days from the input file for the Poncelet algorithm and then runs the Poncelet algorithm to generate the representative days."
   ],
   "id": "dad8508e"
  },
  {
   "metadata": {},
   "cell_type": "markdown",
   "source": [
    "## Special days methodology\n",
    "\n",
    "**Clustering-Based Method**\n",
    "To increase the influence of extreme days on the model, we proceed as follows:\n",
    "- Clustering: All days are grouped into k clusters using K-Means, and based on the features (VRE production and load).\n",
    "- Selection of Extremes: Days with the lowest PV, lowest wind, and highest load are identified as special days. For multi-zone cases, total daily PV or wind production across all zones is used.\n",
    "- Cluster Exclusion and Weight:\n",
    "    - The entire cluster containing each extreme day is excluded from the main dataset.\n",
    "    - The centroid (i.e., most representative day) of each excluded cluster is then included as a special day.\n",
    "    - This day is assigned a weight equal to the cluster’s share of the original dataset.\n",
    "\n",
    "This method ensures that days with system stress (e.g., low renewable production) have a greater impact on optimization results through the higher weight.\n"
   ],
   "id": "9f0bc7884558a4b9"
  },
  {
   "metadata": {
    "collapsed": true,
    "ExecuteTime": {
     "end_time": "2025-06-30T13:55:21.647196Z",
     "start_time": "2025-06-30T13:55:20.185111Z"
    }
   },
   "cell_type": "code",
   "source": [
    "import os\n",
    "import pandas as pd\n",
    "import matplotlib.pyplot as plt\n",
    "\n",
    "from utils_reprdays import *"
   ],
   "id": "initial_id",
   "outputs": [],
   "execution_count": 1
  },
  {
   "metadata": {},
   "cell_type": "markdown",
   "source": "We provide two examples, one for a country model, one for a regional model. The country example is based on data that was provided by the utility, the regional example is based on data that was downloaded from renewable ninja.",
   "id": "b51beee4dc93919d"
  },
  {
   "metadata": {},
   "cell_type": "markdown",
   "source": "## 0. User input parameters (to manually change)",
   "id": "9cc2093708b5a0f"
  },
  {
   "metadata": {
    "ExecuteTime": {
     "end_time": "2025-06-30T13:55:21.703411Z",
     "start_time": "2025-06-30T13:55:21.701020Z"
    }
   },
   "cell_type": "code",
   "source": [
    "seasons_dict = {\n",
    "    1: 2,\n",
    "    2: 2,\n",
    "    3: 2,\n",
    "    4: 2,\n",
    "    5: 1,\n",
    "    6: 1,\n",
    "    7: 1,\n",
    "    8: 1,\n",
    "    9: 1,\n",
    "    10: 2,\n",
    "    11: 2,\n",
    "    12: 2\n",
    "}  # grouping months into 4 seasons, to define according to user\n",
    "\n",
    "# The name of the file that must be in the input folder\n",
    "filenames_input = {'PV': 'data_capp_solar.csv',\n",
    "                   'Wind': 'data_capp_wind.csv',\n",
    "                   'Load': 'load_full_year.csv'\n",
    "                   }\n",
    "\n",
    "#\n",
    "zones_to_remove = ['STP', 'Rwanda']\n"
   ],
   "id": "17b6aae7e51a714d",
   "outputs": [],
   "execution_count": 2
  },
  {
   "metadata": {},
   "cell_type": "markdown",
   "source": [
    "## 1. Create the folder structure\n",
    "\n",
    "The following cell creates the folder structure required for the script to run.\n",
    "1. The `main_folder` is `data/name_data/`.\n",
    "2. In `data/name_data/raw_data/`, the raw data is stored, including the data from Ninja API.\n",
    "3. In `data/name_data/repr_days/`, the representative days are stored, as well as some auxiliary files."
   ],
   "id": "1a12e9ff"
  },
  {
   "metadata": {
    "collapsed": false,
    "ExecuteTime": {
     "end_time": "2025-06-30T13:55:21.716147Z",
     "start_time": "2025-06-30T13:55:21.713318Z"
    }
   },
   "cell_type": "code",
   "source": [
    "folder_input = 'input'\n",
    "# Make folder\n",
    "if not os.path.exists(folder_input):\n",
    "    os.makedirs(folder_input)\n",
    "\n",
    "folder_output = 'output'\n",
    "if not os.path.exists(folder_output):\n",
    "    os.makedirs(folder_output)\n",
    "    print(f'Output folder: {folder_output}')"
   ],
   "id": "c1f8a2a9c2d81704",
   "outputs": [],
   "execution_count": 3
  },
  {
   "metadata": {},
   "cell_type": "markdown",
   "source": [
    "## 2. Process data to group by season\n",
    "Renewable ninja ata is processed to group months into season, to be used as input to EPM. This step may be skipped if one wishes to keep the seasonal definition at the monthly scale, or updated based on the seasonal grouping that makes the most sense for the case study at hand."
   ],
   "id": "9a9386e750394cdb"
  },
  {
   "metadata": {
    "ExecuteTime": {
     "end_time": "2025-06-30T13:55:22.629326Z",
     "start_time": "2025-06-30T13:55:21.747009Z"
    }
   },
   "cell_type": "code",
   "source": [
    "\n",
    "filenames = {key: os.path.join(folder_input, filename) for key, filename in filenames_input.items()}\n",
    "\n",
    "def month_to_season(data, seasons_dict, other_columns=None):\n",
    "    \"\"\"Convert month number to season number.\"\"\"\n",
    "    data = data.rename(columns={'season': 'month'})\n",
    "    data['season'] = data.apply(lambda row: seasons_dict[row['month']], axis=1)\n",
    "    data = data.sort_values(by=['season', 'month', 'day', 'hour'])\n",
    "    data = data[~((data['month'] == 2) & (data['day'] == 29))]\n",
    "    # Renumber days sequentially within each season\n",
    "    data['season_day'] = data.groupby(other_columns + ['season']).cumcount() // 24 + 1\n",
    "    data = data.drop(columns=['day']).rename(columns={'season_day': 'day'})\n",
    "    data = data.set_index(other_columns + ['season', 'day', 'hour']).reset_index().drop(columns=['month'])\n",
    "    data = data.sort_values(by=other_columns + ['season', 'day', 'hour'])\n",
    "    return data\n",
    "\n",
    "\n",
    "for key, filename in filenames.items():\n",
    "    if not os.path.exists(filename):\n",
    "        print(f'File {filename} does not exist. Please check the input folder.')\n",
    "        raise FileNotFoundError(f'File {filename} not found.')\n",
    "    data = pd.read_csv(filename, index_col=False)\n",
    "\n",
    "    # Load data hours should start with 0, not 1\n",
    "    if data['hour'].min() == 1:\n",
    "        data['hour'] = data['hour'] - 1\n",
    "\n",
    "    # Rename value by 2018\n",
    "    data = data.rename(columns={'value': 2023})\n",
    "\n",
    "    data = data[~data['zone'].isin(zones_to_remove)]\n",
    "\n",
    "    data = month_to_season(data, seasons_dict, other_columns=['zone'])\n",
    "\n",
    "    name, ext = os.path.splitext(filename)\n",
    "    filename = f'{name}_season{ext}'\n",
    "\n",
    "    data.to_csv(filename, float_format='%.4f', index=False)\n",
    "    print(f'Data saved to {filename}')"
   ],
   "id": "6c198aef6e2a2f7c",
   "outputs": [
    {
     "name": "stdout",
     "output_type": "stream",
     "text": [
      "Data saved to input/data_capp_solar_season.csv\n",
      "Data saved to input/data_capp_wind_season.csv\n",
      "Data saved to input/load_full_year_season.csv\n"
     ]
    }
   ],
   "execution_count": 4
  },
  {
   "metadata": {},
   "cell_type": "markdown",
   "source": "## 3. Format data for the Poncelet algorithm",
   "id": "93e7c669f503df7d"
  },
  {
   "metadata": {
    "ExecuteTime": {
     "end_time": "2025-06-30T13:57:27.548597Z",
     "start_time": "2025-06-30T13:57:27.377120Z"
    }
   },
   "cell_type": "code",
   "source": [
    "\n",
    "filenames = {}\n",
    "for tech, filename in filenames_input.items():\n",
    "    name, ext = os.path.splitext(filename)\n",
    "    filename = f'{name}_season{ext}'\n",
    "    filename = os.path.join(folder_input, filename)\n",
    "\n",
    "    if not os.path.exists(filename):\n",
    "        print(f'File {filename} does not exist. Please check the input folder.')\n",
    "        raise FileNotFoundError(f'File {filename} not found.')\n",
    "    filenames.update({tech: filename})\n",
    "\n",
    "# The name of the data, used to save the results\n",
    "df_energy = format_data_energy(filenames)\n",
    "\n",
    "# Drop columns with all NaN values\n",
    "df_energy = df_energy.dropna(axis=1, how='all')"
   ],
   "id": "c4ad4d218dee59ea",
   "outputs": [
    {
     "name": "stdout",
     "output_type": "stream",
     "text": [
      "Representative year 2023\n",
      "Warning: NaN values in the DataFrame\n",
      "Annual capacity factor (%): tech              zone        PV      Wind      Load\n",
      "0               Angola  0.193551  0.133399  0.775620\n",
      "1              Burundi  0.173415       NaN  0.742856\n",
      "2                  CAR  0.151549       NaN  0.803250\n",
      "3             Cameroon  0.171599  0.069570  0.740909\n",
      "4                 Chad  0.184827  0.407908  0.685850\n",
      "5                Congo  0.139433       NaN  0.720891\n",
      "6                  DRC  0.165349       NaN  0.880314\n",
      "7     EquatorialGuinea  0.138428       NaN  0.805217\n",
      "8                Gabon  0.123646       NaN  0.783922\n"
     ]
    }
   ],
   "execution_count": 9
  },
  {
   "metadata": {},
   "cell_type": "markdown",
   "source": [
    "## 4. Generate representative days\n",
    "\n",
    "**User-defined parameters**\n",
    "\n",
    "User needs to change the following parameters in the following cell:\n",
    "\n",
    "1. `nbr_days`: Defines the number of representative days used in the Poncelet algorithm.\n",
    "2. Elements in `filenames`: Specify whether the input data should be treated as standard or renewable_ninja, depending on its source and formatting.\n",
    "3. `n_clusters`: Only relevant if the clustering method is used to identify special days. Specifies the number of clusters (i.e., representative days) to generate, which will then be used to extract special days representing extreme clusters.\n",
    "4. `settings.csv` file: This file defines the level of detail in the Poncelet algorithm. A higher number of zones or time series increases numerical complexity. Start with settings_bins10.csv (fewer bins) for easier computation. Increase the number of bins progressively if the problem remains easy to solve.\n",
    "5. `n_features_selection` (optional):    Enables **automatic feature selection** to reduce the number of time series used in the Poncelet algorithm.\n",
    "   This is useful when:\n",
    "   - Modeling many zones or countries.\n",
    "   - The number of pairwise correlations becomes large, increasing computational time.\n",
    "\n",
    "    Use this parameter if the Poncelet algorithm takes more than a few minutes to run.\n",
    "\n",
    "**Data formatting**\n",
    "Proper formatting of input data is essential for seamless integration into the model. Please follow these guidelines:\n",
    "\n",
    "**Renewable Ninja Data**:\n",
    "\n",
    "If the data is extracted through this code, the formatting will be correct by default. The specification renewable_ninja should be specified in the filenames to indicate that the data originates from Renewable Ninja.\n",
    "\n",
    "**User-Specific Data**:\n",
    "\n",
    "Example: capacity factors derived from actual production data provided by the client, or load demand provided by the utility. Users are responsible for ensuring that the data is formatted correctly. Reference examples are available in the data_test folder. The required columns are zone, season, day, hour, , , ... In this case, the specification standard should be specified in the filenames to indicate that the data is formatted in the standard way."
   ],
   "id": "b34e4b0e6d967ed"
  },
  {
   "metadata": {
    "ExecuteTime": {
     "end_time": "2025-06-30T13:57:50.570465Z",
     "start_time": "2025-06-30T13:57:50.567840Z"
    }
   },
   "cell_type": "code",
   "source": [
    "# Clustering the data to extract clusters corresponding to extreme conditions\n",
    "n_clusters = 20\n",
    "\n",
    "# Feature selection is optional but recommended if you are working with a large number of zones or time series. This reduces the number of pairwise correlations and helps avoid high computational complexity in the optimization step.\n",
    "n_features_selection = 30\n",
    "\n",
    "name_data = 'capp'"
   ],
   "id": "852380065f38c387",
   "outputs": [],
   "execution_count": 11
  },
  {
   "metadata": {
    "ExecuteTime": {
     "end_time": "2025-06-30T13:59:12.419680Z",
     "start_time": "2025-06-30T13:57:50.936988Z"
    }
   },
   "cell_type": "code",
   "source": [
    "\n",
    "df_energy_cluster, df_closest_days, centroids_df = cluster_data_new(df_energy, n_clusters=n_clusters)\n",
    "\n",
    "# Extracting special days as centroids of the extreme clusters\n",
    "special_days, df_energy_no_special = get_special_days_clustering(df_closest_days,\n",
    "                                                                 df_energy_cluster, threshold=0.1)\n",
    "\n",
    "print('Number of hours in the year:', len(df_energy_no_special))\n",
    "print('Removed days:', (len(df_energy) - len(df_energy_no_special)) / 24)\n",
    "\n",
    "# Format the data (including correlation calculation) and save it in a .csv file\n",
    "_, path_data_file = format_optim_repr_days(df_energy_no_special, name_data, folder_output)\n",
    "\n",
    "\n",
    "selected_series, df, path_data_file_selection = (\n",
    "    select_representative_series_hierarchical(path_data_file, n=n_features_selection, method='ward', metric='euclidean', scale=True, scale_method='standard'))\n",
    "\n",
    "# Launch the optimization to find the representative days\n",
    "n_rep_days = 2\n",
    "path_data = path_data_file  # you want to include all the features to identify representative days\n",
    "path_data = path_data_file_selection  # you only want to work with the reduced number of features to identify representative days\n",
    "\n",
    "launch_optim_repr_days(path_data, folder_output, nbr_days=n_rep_days, main_file='OptimizationModelZone.gms',\n",
    "                       nbr_bins=10)\n",
    "\n",
    "# Get the results\n",
    "repr_days = parse_repr_days(folder_output, special_days)\n",
    "\n",
    "# Format the data to be used in EPM\n",
    "format_epm_phours(repr_days, folder_output, name_data=name_data)\n",
    "format_epm_pvreprofile(df_energy, repr_days, folder_output, name_data=name_data)\n",
    "# only activate when load data is provided\n",
    "format_epm_demandprofile(df_energy, repr_days, folder_output, name_data=name_data)\n",
    "\n",
    "# Export in .csv format\n",
    "repr_days.to_csv(os.path.join(folder_output, 'repr_days_{}.csv'.format(name_data)), index=False)\n",
    "df_energy.to_csv(os.path.join(folder_output, 'df_energy_{}.csv'.format(name_data)), index=False)"
   ],
   "id": "73cb9c0777d6e6af",
   "outputs": [
    {
     "name": "stdout",
     "output_type": "stream",
     "text": [
      "Number of hours in the year: 7776\n",
      "Removed days: 41.0\n",
      "File saved at: output/data_formatted_optim_capp.csv\n",
      "File saved at /Users/lucas/Documents/World Bank/Projects/EPM_APPLIED/EPM_CAPP/pre-analysis/representative_days/output/data_formatted_optim_capp_selection.csv\n",
      "File saved to: gams/bins_settings_10.csv\n",
      "Launch GAMS code\n",
      "End GAMS code\n",
      "Number of days: 10\n",
      "Total weight: 365\n",
      "season\n",
      "Q1    153.0\n",
      "Q2    212.0\n",
      "Name: weight, dtype: float64\n",
      "pHours file saved at: output/pHours_capp.csv\n",
      "Number of hours: 365\n",
      "VRE Profile file saved at: output/pVREProfile_capp.csv\n",
      "pDemandProfile file saved at: output/pDemandProfile_capp.csv\n"
     ]
    },
    {
     "name": "stderr",
     "output_type": "stream",
     "text": [
      "/Users/lucas/Documents/World Bank/Projects/EPM_APPLIED/EPM_CAPP/pre-analysis/representative_days/utils_reprdays.py:893: FutureWarning: The previous implementation of stack is deprecated and will be removed in a future version of pandas. See the What's New notes for pandas 2.1.0 for details. Specify future_stack=True to adopt the new implementation and silence this warning.\n",
      "  pVREProfile = pVREProfile.stack(level=['fuel', 'zone'])\n",
      "/Users/lucas/Documents/World Bank/Projects/EPM_APPLIED/EPM_CAPP/pre-analysis/representative_days/utils_reprdays.py:938: FutureWarning: The previous implementation of stack is deprecated and will be removed in a future version of pandas. See the What's New notes for pandas 2.1.0 for details. Specify future_stack=True to adopt the new implementation and silence this warning.\n",
      "  pDemandProfile = pDemandProfile.stack('zone')\n"
     ]
    }
   ],
   "execution_count": 12
  },
  {
   "metadata": {
    "ExecuteTime": {
     "end_time": "2025-06-30T13:59:33.917224Z",
     "start_time": "2025-06-30T13:59:33.912824Z"
    }
   },
   "cell_type": "code",
   "source": [
    "if False:\n",
    "    df_energy = pd.read_csv(os.path.join(folder_output, 'df_energy_{}.csv'.format(name_data)))\n",
    "    repr_days = pd.read_csv(os.path.join(folder_output, 'repr_days_{}.csv'.format(name_data)))\n"
   ],
   "id": "44df1bd170732cf6",
   "outputs": [],
   "execution_count": 13
  },
  {
   "cell_type": "markdown",
   "id": "9fce7513",
   "metadata": {},
   "source": [
    "## Plot results \n",
    "\n",
    "Optional cell to plot the results. It will plot the load, wind and solar data for the representative year."
   ]
  },
  {
   "cell_type": "code",
   "id": "7ffa1f20",
   "metadata": {
    "ExecuteTime": {
     "end_time": "2025-06-30T13:59:35.474361Z",
     "start_time": "2025-06-30T13:59:35.273067Z"
    }
   },
   "source": [
    "# Get data \n",
    "input_file = pd.read_csv(os.path.join(folder_output, 'data_formatted_optim_{}.csv'.format(name_data)), index_col=[0,1,2])\n",
    "input_file.index.names = ['season', 'day', 'hour']\n",
    "\n",
    "VREProfile = pd.read_csv(os.path.join(folder_output, 'pVREProfile_{}.csv'.format(name_data)), index_col=[0,1,2,3])\n",
    "\n",
    "pHours = pd.read_csv(os.path.join(folder_output, 'pHours_{}.csv'.format(name_data)), index_col=[0,1])"
   ],
   "outputs": [],
   "execution_count": 14
  },
  {
   "metadata": {
    "ExecuteTime": {
     "end_time": "2025-06-30T14:04:58.698482Z",
     "start_time": "2025-06-30T14:04:43.758382Z"
    }
   },
   "cell_type": "code",
   "source": [
    "# Checking the representative days\n",
    "\n",
    "# === SETTINGS ===\n",
    "\n",
    "season_colors = {\n",
    "    'Q1': 'darkred',\n",
    "    'Q2': 'dimgrey',\n",
    "    'Q3': 'steelblue',\n",
    "    'Q4': 'seagreen'}\n",
    "\n",
    "\n",
    "# Total renewable production over all zones\n",
    "plot_vre_repdays(input_file=input_file, vre_profile=VREProfile, pHours=pHours,\n",
    "          season_colors=season_colors, min_alpha=0.5, max_alpha=1, path=os.path.join(folder_output, 'plot_vre_repdays_{}.png'.format(name_data)))"
   ],
   "id": "bf53620a7924fa57",
   "outputs": [],
   "execution_count": 17
  },
  {
   "cell_type": "code",
   "id": "8d11735b",
   "metadata": {},
   "source": [
    "# Checking the representative days\n",
    "\n",
    "# === SETTINGS ===\n",
    "season_colors = {\n",
    "    'Q1': 'darkred',\n",
    "    'Q2': 'dimgrey',\n",
    "    'Q3': 'steelblue',\n",
    "    'Q4': 'seagreen'}\n",
    "\n",
    "# Representative days per country\n",
    "country = ['Angola']\n",
    "plot_vre_repdays(input_file=input_file, vre_profile=VREProfile, pHours=pHours,\n",
    "          season_colors=season_colors, countries=country, min_alpha=0.5, max_alpha=1)"
   ],
   "outputs": [],
   "execution_count": null
  }
 ],
 "metadata": {
  "kernelspec": {
   "display_name": "esmap_env",
   "language": "python",
   "name": "python3"
  },
  "language_info": {
   "codemirror_mode": {
    "name": "ipython",
    "version": 3
   },
   "file_extension": ".py",
   "mimetype": "text/x-python",
   "name": "python",
   "nbconvert_exporter": "python",
   "pygments_lexer": "ipython3",
   "version": "3.9.21"
  }
 },
 "nbformat": 4,
 "nbformat_minor": 5
}
