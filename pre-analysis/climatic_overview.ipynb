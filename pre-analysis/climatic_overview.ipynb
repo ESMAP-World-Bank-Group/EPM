{
 "cells": [
  {
   "metadata": {},
   "cell_type": "markdown",
   "source": [
    "# Climate Overview for Energy Modelling\n",
    "\n",
    "Initial step to perform energy modelling is to get an overview of the climate data available for the region of interest. This notebook provides a guide to download and process ERA5-Land monthly data using the CDS API.\n",
    "\n",
    "\n",
    "## 0. Getting ERA5-Land monthly via Python API\n",
    "\n",
    "> You need to install the `cdsapi` package to use this notebook.\n",
    "\n",
    "You can install it using `pip install cdsapi`, but you also need to register on the [Climate Data Store](https://cds.climate.copernicus.eu/api-how-to) and get your API key.\n",
    "You need to do that only once, and it is valid for all future downloads.\n",
    "\n",
    "The key should be saved in the `~/.cdsapirc` file in your home directory, but everything is explained in the link above.\n"
   ],
   "id": "2289ccbfdea1c99f"
  },
  {
   "metadata": {
    "collapsed": true,
    "ExecuteTime": {
     "end_time": "2025-06-20T15:57:29.653530Z",
     "start_time": "2025-06-20T15:57:28.520245Z"
    }
   },
   "cell_type": "code",
   "source": [
    "import cdsapi\n",
    "import timeit\n",
    "import os\n",
    "from utils import *\n",
    "import xarray as xr\n",
    "import zipfile\n",
    "from matplotlib import pyplot as plt"
   ],
   "id": "initial_id",
   "outputs": [],
   "execution_count": 1
  },
  {
   "metadata": {},
   "cell_type": "markdown",
   "source": [
    "### 1. Fill in the parameters\n",
    "\n",
    "You only need to fill 3 information below to download the data and extract you need.\n",
    "\n",
    "1. Define the region of interest using ISO A2 codes within the `ISO_A2` list.\n",
    "2. Specify the start and end years for the data collection.\n",
    "3. List the variables you want to download from the ERA5-Land dataset in the `variables_list`."
   ],
   "id": "8cc6a26a1c824a1e"
  },
  {
   "metadata": {
    "ExecuteTime": {
     "end_time": "2025-06-20T15:57:29.658813Z",
     "start_time": "2025-06-20T15:57:29.656809Z"
    }
   },
   "cell_type": "code",
   "source": [
    "ISO_A2 = ['AO', 'BI', 'CM', 'CF', 'TD', 'CG', 'CD', 'GQ', 'GA', 'ST']\n",
    "\n",
    "start_year, end_year = 1950, 2025                                           # from 1950\n",
    "\n",
    "variables_list = ['2m_temperature',\n",
    "                  'total_precipitation'\n",
    "                 ]# to present year"
   ],
   "id": "106aa0208d553fa6",
   "outputs": [],
   "execution_count": 2
  },
  {
   "metadata": {},
   "cell_type": "markdown",
   "source": [
    "#### Processing parameters\n",
    "- Prepare the folder structure\n",
    "- Data will be downloaded in the `climatic/era5_api` folder\n",
    "- Extracted data will be saved in the `climatic/era5_extract` folder\n",
    "- Output data will be saved in the `climatic/output` folder\n",
    "- Data will be downloaded from the ERA5-Land monthly means dataset"
   ],
   "id": "d24febfedc3f3ef6"
  },
  {
   "metadata": {
    "ExecuteTime": {
     "end_time": "2025-06-20T15:57:30.446803Z",
     "start_time": "2025-06-20T15:57:29.751869Z"
    }
   },
   "cell_type": "code",
   "source": [
    "\n",
    "# Create folder structure\n",
    "folder = 'climatic'\n",
    "if not os.path.exists(folder): os.mkdir(folder)\n",
    "folder_api = os.path.join(folder, 'era5_api')\n",
    "if not os.path.exists(folder_api): os.mkdir(folder_api)\n",
    "folder_extract = os.path.join(folder, 'era5_extract')\n",
    "if not os.path.exists(folder_extract): os.mkdir(folder_extract)\n",
    "folder_output = os.path.join(folder, 'output')\n",
    "if not os.path.exists(folder_output): os.mkdir(folder_output)\n",
    "folder_output = os.path.join(folder_output, '_'.join(ISO_A2))\n",
    "if not os.path.exists(folder_output): os.mkdir(folder_output)\n",
    "\n",
    "# Define the dataset\n",
    "dataset_name = 'reanalysis-era5-land-monthly-means'# 'reanalysis-era5-land'\n",
    "\n",
    "# Define the API client variable\n",
    "variable_name = {\n",
    "    'total_precipitation': 'tp',\n",
    "    'surface_runoff': 'sro',\n",
    "    'runoff': 'ro',\n",
    "    'snow_depth_water_equivalent': 'sd',\n",
    "    '2m_temperature': 't2m',\n",
    "    'potential_evaporation': 'pev',\n",
    "    'total_evaporation': 'e'\n",
    "}\n",
    "\n",
    "#\n",
    "temp = '_'.join([variable_name[variable] for variable in variables_list])\n",
    "downloaded_files = {iso: f'{dataset_name}_{iso}_{start_year}_{end_year}_{temp}.zip' for iso in ISO_A2}\n",
    "downloaded_files = {iso: os.path.join(folder_api, file) for iso, file in downloaded_files.items()}\n",
    "print(f'Files will be download in: {folder_api}, files: {downloaded_files}')\n",
    "\n",
    "# Define the bounding box for each ISO A2 code\n",
    "locations = {iso: get_bbox(iso) for iso in ISO_A2}\n",
    "print(f'Locations: {locations}')"
   ],
   "id": "ee58d3da3ed64b66",
   "outputs": [
    {
     "name": "stdout",
     "output_type": "stream",
     "text": [
      "Files will be download in: climatic/era5_api, files: {'AO': 'climatic/era5_api/reanalysis-era5-land-monthly-means_AO_1950_2025_t2m_tp.zip', 'BI': 'climatic/era5_api/reanalysis-era5-land-monthly-means_BI_1950_2025_t2m_tp.zip', 'CM': 'climatic/era5_api/reanalysis-era5-land-monthly-means_CM_1950_2025_t2m_tp.zip', 'CF': 'climatic/era5_api/reanalysis-era5-land-monthly-means_CF_1950_2025_t2m_tp.zip', 'TD': 'climatic/era5_api/reanalysis-era5-land-monthly-means_TD_1950_2025_t2m_tp.zip', 'CG': 'climatic/era5_api/reanalysis-era5-land-monthly-means_CG_1950_2025_t2m_tp.zip', 'CD': 'climatic/era5_api/reanalysis-era5-land-monthly-means_CD_1950_2025_t2m_tp.zip', 'GQ': 'climatic/era5_api/reanalysis-era5-land-monthly-means_GQ_1950_2025_t2m_tp.zip', 'GA': 'climatic/era5_api/reanalysis-era5-land-monthly-means_GA_1950_2025_t2m_tp.zip', 'ST': 'climatic/era5_api/reanalysis-era5-land-monthly-means_ST_1950_2025_t2m_tp.zip'}\n",
      "Locations: {'AO': (11.66939414300009, -18.031404723999884, 24.061714315000103, -4.391203714999932), 'BI': (28.9868917230001, -4.463344014999933, 30.833962443000075, -2.3030624389998877), 'CM': (8.505056186000047, 1.6545512900001285, 16.20772342900011, 13.081140646000023), 'CF': (14.387266072000074, 2.2364537560000457, 27.441301310000142, 11.000828349000074), 'TD': (13.449183797000103, 7.4555667110001025, 23.98440637200008, 23.444719951000067), 'CG': (11.114016304109821, -5.019630835999919, 18.642406860000023, 3.7082760620000528), 'CD': (12.210541212000066, -13.45835052399994, 31.280446818000087, 5.375280253000085), 'GQ': (5.6119897800000444, -1.475681247999944, 11.33634118700013, 3.7724063170000477), 'GA': (8.695567254000082, -3.936856189796041, 14.498990519000131, 2.3224950160001185), 'ST': (6.4616805350000845, 0.024115302000041083, 7.462738477000073, 1.6997744810000768)}\n"
     ]
    }
   ],
   "execution_count": 3
  },
  {
   "metadata": {},
   "cell_type": "markdown",
   "source": [
    "### 2. Automatic download from the API Climate Data Store\n",
    "\n",
    "By default, the data will be downloaded in the `climatic/era5_api` folder. If you want to change the folder, please change the `folder_api` variable above.\n",
    "It will be downloaded as a zip file including `.grib`files. Includes all monthly means for the specified period."
   ],
   "id": "4175f01ed86f889"
  },
  {
   "metadata": {
    "ExecuteTime": {
     "end_time": "2025-06-20T15:57:30.456711Z",
     "start_time": "2025-06-20T15:57:30.452289Z"
    }
   },
   "cell_type": "code",
   "source": [
    "years = [ str(start_year +i ) for i in range(end_year - start_year + 1)]\n",
    "\n",
    "# Create folder if not exists\n",
    "if not os.path.exists(folder_api): os.mkdir(folder_api)\n",
    "\n",
    "for (iso, (long_west, lat_south, long_east, lat_north)) in locations.items():\n",
    "\n",
    "    downloaded_file = downloaded_files[iso]\n",
    "\n",
    "    print(f'Processing {iso} with bbox: {long_west}, {lat_south}, {long_east}, {lat_north}')\n",
    "    if not os.path.exists(downloaded_file):\n",
    "        print('Process started. Please wait the ending message ... ')\n",
    "        start = timeit.default_timer()\n",
    "        c = cdsapi.Client()\n",
    "\n",
    "        c.retrieve(\n",
    "            dataset_name,\n",
    "            {\n",
    "                #'format': 'netcdf',\n",
    "                'format': 'grib',\n",
    "                'product_type': 'monthly_averaged_reanalysis',\n",
    "                'variable': variables_list,\n",
    "                'year': years,\n",
    "                'month': [ '01', '02', '03', '04', '05', '06', '07', '08', '09', '10', '11', '12' ],\n",
    "                'time': '00:00',\n",
    "                'area': [ lat_south, long_west, lat_north, long_east ],\n",
    "            }, downloaded_file\n",
    "            )\n",
    "\n",
    "        stop = timeit.default_timer()\n",
    "        print('Process completed in ', (stop - start)/60, ' minutes')\n",
    "    else:\n",
    "        print('File already exists.')"
   ],
   "id": "e947a3c2e2008ef",
   "outputs": [
    {
     "name": "stdout",
     "output_type": "stream",
     "text": [
      "Processing AO with bbox: 11.66939414300009, -18.031404723999884, 24.061714315000103, -4.391203714999932\n",
      "File already exists.\n",
      "Processing BI with bbox: 28.9868917230001, -4.463344014999933, 30.833962443000075, -2.3030624389998877\n",
      "File already exists.\n",
      "Processing CM with bbox: 8.505056186000047, 1.6545512900001285, 16.20772342900011, 13.081140646000023\n",
      "File already exists.\n",
      "Processing CF with bbox: 14.387266072000074, 2.2364537560000457, 27.441301310000142, 11.000828349000074\n",
      "File already exists.\n",
      "Processing TD with bbox: 13.449183797000103, 7.4555667110001025, 23.98440637200008, 23.444719951000067\n",
      "File already exists.\n",
      "Processing CG with bbox: 11.114016304109821, -5.019630835999919, 18.642406860000023, 3.7082760620000528\n",
      "File already exists.\n",
      "Processing CD with bbox: 12.210541212000066, -13.45835052399994, 31.280446818000087, 5.375280253000085\n",
      "File already exists.\n",
      "Processing GQ with bbox: 5.6119897800000444, -1.475681247999944, 11.33634118700013, 3.7724063170000477\n",
      "File already exists.\n",
      "Processing GA with bbox: 8.695567254000082, -3.936856189796041, 14.498990519000131, 2.3224950160001185\n",
      "File already exists.\n",
      "Processing ST with bbox: 6.4616805350000845, 0.024115302000041083, 7.462738477000073, 1.6997744810000768\n",
      "File already exists.\n"
     ]
    }
   ],
   "execution_count": 4
  },
  {
   "metadata": {},
   "cell_type": "markdown",
   "source": "### 3. Extracting and formatting the data",
   "id": "7c76644b075c1b88"
  },
  {
   "metadata": {
    "ExecuteTime": {
     "end_time": "2025-06-20T15:57:55.940450Z",
     "start_time": "2025-06-20T15:57:30.538102Z"
    }
   },
   "cell_type": "code",
   "source": [
    "dataset = {}\n",
    "for iso, downloaded_file in downloaded_files.items():\n",
    "    print(f'Processing {iso} with file: {downloaded_file}')\n",
    "    data = extract_data(downloaded_file, step_type=True, extract_to=folder_extract)\n",
    "\n",
    "    # Calculate resolution and add units\n",
    "    calculate_resolution_netcdf(data, lat_name='latitude', lon_name='longitude')\n",
    "\n",
    "    for var in data.data_vars:\n",
    "        print(f\"{var}: {data[var].attrs['units']}\")\n",
    "\n",
    "    # Convert units if necessary\n",
    "    data = convert_dataset_units(data)\n",
    "\n",
    "    # Export transformed data to NetCDF for future analysis\n",
    "    data.to_netcdf(os.path.join(folder_output, f\"{ os.path.splitext(os.path.basename(downloaded_file))[0]}.nc\"))\n",
    "\n",
    "    dataset.update({iso: data})\n"
   ],
   "id": "6d1bf08b287b8058",
   "outputs": [
    {
     "name": "stdout",
     "output_type": "stream",
     "text": [
      "Processing AO with file: climatic/era5_api/reanalysis-era5-land-monthly-means_AO_1950_2025_t2m_tp.zip\n",
      "Opening GRIB file: climatic/era5_extract/reanalysis-era5-land-monthly-means_AO_1950_2025_t2m_tp.grib\n",
      "Opening GRIB file: climatic/era5_extract/reanalysis-era5-land-monthly-means_AO_1950_2025_t2m_tp.grib\n",
      "Spatial resolution: 0.10000813008130116° lon x -0.09999999999999964° lat\n",
      "Approximate spatial resolution:\n",
      "10.89 km (lon_name) x -11.10 km (lat_name) at -11.23° lat\n",
      "Temporal resolution: 31 days\n",
      "t2m: K\n",
      "tp: m\n",
      "Processing BI with file: climatic/era5_api/reanalysis-era5-land-monthly-means_BI_1950_2025_t2m_tp.zip\n",
      "Opening GRIB file: climatic/era5_extract/reanalysis-era5-land-monthly-means_BI_1950_2025_t2m_tp.grib\n",
      "Opening GRIB file: climatic/era5_extract/reanalysis-era5-land-monthly-means_BI_1950_2025_t2m_tp.grib\n",
      "Spatial resolution: 0.10005555555555645° lon x -0.10000000000000009° lat\n",
      "Approximate spatial resolution:\n",
      "11.09 km (lon_name) x -11.10 km (lat_name) at -3.41° lat\n",
      "Temporal resolution: 31 days\n",
      "t2m: K\n",
      "tp: m\n",
      "Processing CM with file: climatic/era5_api/reanalysis-era5-land-monthly-means_CM_1950_2025_t2m_tp.zip\n",
      "Opening GRIB file: climatic/era5_extract/reanalysis-era5-land-monthly-means_CM_1950_2025_t2m_tp.grib\n",
      "Opening GRIB file: climatic/era5_extract/reanalysis-era5-land-monthly-means_CM_1950_2025_t2m_tp.grib\n",
      "Spatial resolution: 0.10001298701298644° lon x -0.09999999999999964° lat\n",
      "Approximate spatial resolution:\n",
      "11.01 km (lon_name) x -11.10 km (lat_name) at 7.35° lat\n",
      "Temporal resolution: 31 days\n",
      "t2m: K\n",
      "tp: m\n",
      "Processing CF with file: climatic/era5_api/reanalysis-era5-land-monthly-means_CF_1950_2025_t2m_tp.zip\n",
      "Opening GRIB file: climatic/era5_extract/reanalysis-era5-land-monthly-means_CF_1950_2025_t2m_tp.grib\n",
      "Opening GRIB file: climatic/era5_extract/reanalysis-era5-land-monthly-means_CF_1950_2025_t2m_tp.grib\n",
      "Spatial resolution: 0.1000076923076918° lon x -0.09999999999999964° lat\n",
      "Approximate spatial resolution:\n",
      "11.03 km (lon_name) x -11.10 km (lat_name) at 6.59° lat\n",
      "Temporal resolution: 31 days\n",
      "t2m: K\n",
      "tp: m\n",
      "Processing TD with file: climatic/era5_api/reanalysis-era5-land-monthly-means_TD_1950_2025_t2m_tp.zip\n",
      "Opening GRIB file: climatic/era5_extract/reanalysis-era5-land-monthly-means_TD_1950_2025_t2m_tp.grib\n",
      "Opening GRIB file: climatic/era5_extract/reanalysis-era5-land-monthly-means_TD_1950_2025_t2m_tp.grib\n",
      "Spatial resolution: 0.10000952380952377° lon x -0.10000000000000142° lat\n",
      "Approximate spatial resolution:\n",
      "10.70 km (lon_name) x -11.10 km (lat_name) at 15.41° lat\n",
      "Temporal resolution: 31 days\n",
      "t2m: K\n",
      "tp: m\n",
      "Processing CG with file: climatic/era5_api/reanalysis-era5-land-monthly-means_CG_1950_2025_t2m_tp.zip\n",
      "Opening GRIB file: climatic/era5_extract/reanalysis-era5-land-monthly-means_CG_1950_2025_t2m_tp.grib\n",
      "Opening GRIB file: climatic/era5_extract/reanalysis-era5-land-monthly-means_CG_1950_2025_t2m_tp.grib\n",
      "Spatial resolution: 0.10001333333333307° lon x -0.10000000000000009° lat\n",
      "Approximate spatial resolution:\n",
      "11.10 km (lon_name) x -11.10 km (lat_name) at -0.67° lat\n",
      "Temporal resolution: 31 days\n",
      "t2m: K\n",
      "tp: m\n",
      "Processing CD with file: climatic/era5_api/reanalysis-era5-land-monthly-means_CD_1950_2025_t2m_tp.zip\n",
      "Opening GRIB file: climatic/era5_extract/reanalysis-era5-land-monthly-means_CD_1950_2025_t2m_tp.grib\n",
      "Opening GRIB file: climatic/era5_extract/reanalysis-era5-land-monthly-means_CD_1950_2025_t2m_tp.grib\n",
      "Spatial resolution: 0.10000526315789493° lon x -0.09999999999999964° lat\n",
      "Approximate spatial resolution:\n",
      "11.07 km (lon_name) x -11.10 km (lat_name) at -4.06° lat\n",
      "Temporal resolution: 31 days\n",
      "t2m: K\n",
      "tp: m\n",
      "Processing GQ with file: climatic/era5_api/reanalysis-era5-land-monthly-means_GQ_1950_2025_t2m_tp.zip\n",
      "Opening GRIB file: climatic/era5_extract/reanalysis-era5-land-monthly-means_GQ_1950_2025_t2m_tp.grib\n",
      "Opening GRIB file: climatic/era5_extract/reanalysis-era5-land-monthly-means_GQ_1950_2025_t2m_tp.grib\n",
      "Spatial resolution: 0.10001754385964912° lon x -0.10000000000000009° lat\n",
      "Approximate spatial resolution:\n",
      "11.10 km (lon_name) x -11.10 km (lat_name) at 1.12° lat\n",
      "Temporal resolution: 31 days\n",
      "t2m: K\n",
      "tp: m\n",
      "Processing GA with file: climatic/era5_api/reanalysis-era5-land-monthly-means_GA_1950_2025_t2m_tp.zip\n",
      "Opening GRIB file: climatic/era5_extract/reanalysis-era5-land-monthly-means_GA_1950_2025_t2m_tp.grib\n",
      "Opening GRIB file: climatic/era5_extract/reanalysis-era5-land-monthly-means_GA_1950_2025_t2m_tp.grib\n",
      "Spatial resolution: 0.10001724137931056° lon x -0.10000000000000009° lat\n",
      "Approximate spatial resolution:\n",
      "11.10 km (lon_name) x -11.10 km (lat_name) at -0.84° lat\n",
      "Temporal resolution: 31 days\n",
      "t2m: K\n",
      "tp: m\n",
      "Processing ST with file: climatic/era5_api/reanalysis-era5-land-monthly-means_ST_1950_2025_t2m_tp.zip\n",
      "Opening GRIB file: climatic/era5_extract/reanalysis-era5-land-monthly-means_ST_1950_2025_t2m_tp.grib\n",
      "Opening GRIB file: climatic/era5_extract/reanalysis-era5-land-monthly-means_ST_1950_2025_t2m_tp.grib\n",
      "Spatial resolution: 0.1001000000000003° lon x -0.10000000000000009° lat\n",
      "Approximate spatial resolution:\n",
      "11.11 km (lon_name) x -11.10 km (lat_name) at 0.82° lat\n",
      "Temporal resolution: 31 days\n",
      "t2m: K\n",
      "tp: m\n"
     ]
    }
   ],
   "execution_count": 5
  },
  {
   "metadata": {},
   "cell_type": "markdown",
   "source": "### 4. Visualization of climate data",
   "id": "f20d8342554df080"
  },
  {
   "metadata": {
    "ExecuteTime": {
     "end_time": "2025-06-20T15:58:49.985624Z",
     "start_time": "2025-06-20T15:58:23.120475Z"
    }
   },
   "cell_type": "code",
   "source": [
    "# Plotting spatial mean timeseries for all variables\n",
    "for var in variables_list:\n",
    "    # Find the indirect from the variable name\n",
    "    plot_spatial_mean_timeseries_all_iso(dataset, var=variable_name.get(var, var), folder=folder_output)\n",
    "\n",
    "    if var == '2m_temperature':\n",
    "        agg = 'avg'\n",
    "    elif var == 'total_precipitation':\n",
    "        agg = 'sum'\n",
    "    else:\n",
    "        agg = None\n",
    "\n",
    "    plot_spatial_mean_timeseries_all_iso(dataset, var=variable_name.get(var, var), agg=agg, folder=folder_output)\n",
    "\n",
    "# Plotting scatter plot of annual spatial means\n",
    "scatter_annual_spatial_means(dataset, var_x='t2m', var_y='tp', folder=folder_output)\n",
    "\n",
    "# Plotting monthly average for each variable\n",
    "plot_monthly_mean(dataset, \"t2m\", lat_name='latitude', lon_name='longitude', folder=folder_output)\n",
    "plot_monthly_mean(dataset, \"tp\", lat_name='latitude', lon_name='longitude', folder=folder_output)\n",
    "\n",
    "# Plotting monthly climatology for each variable\n",
    "for iso, data in dataset.items():\n",
    "    print(f'Processing {iso}')\n",
    "    plot_monthly_climatology_grid(data, \"t2m\", filename=os.path.join(folder_output, f'monthly_climatology_{iso}_{var}.pdf'))\n",
    "    plot_monthly_climatology_grid(data, \"tp\", filename=os.path.join(folder_output, f'monthly_climatology_{iso}_{var}.pdf'))\n"
   ],
   "id": "586c097d901e393d",
   "outputs": [
    {
     "name": "stdout",
     "output_type": "stream",
     "text": [
      "Processing AO\n",
      "Processing BI\n",
      "Processing CM\n",
      "Processing CF\n",
      "Processing TD\n",
      "Processing CG\n",
      "Processing CD\n",
      "Processing GQ\n",
      "Processing GA\n",
      "Processing ST\n"
     ]
    }
   ],
   "execution_count": 7
  }
 ],
 "metadata": {
  "kernelspec": {
   "display_name": "Python 3",
   "language": "python",
   "name": "python3"
  },
  "language_info": {
   "codemirror_mode": {
    "name": "ipython",
    "version": 2
   },
   "file_extension": ".py",
   "mimetype": "text/x-python",
   "name": "python",
   "nbconvert_exporter": "python",
   "pygments_lexer": "ipython2",
   "version": "2.7.6"
  }
 },
 "nbformat": 4,
 "nbformat_minor": 5
}
