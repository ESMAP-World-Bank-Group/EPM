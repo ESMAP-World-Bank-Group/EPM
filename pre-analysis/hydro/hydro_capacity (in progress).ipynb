{
 "cells": [
  {
   "cell_type": "code",
   "id": "initial_id",
   "metadata": {
    "collapsed": true,
    "ExecuteTime": {
     "end_time": "2025-06-24T12:42:33.846727Z",
     "start_time": "2025-06-24T12:42:33.836946Z"
    }
   },
   "source": [
    "import os\n",
    "import pandas as pd\n",
    "import re\n",
    "from rapidfuzz import fuzz, process\n"
   ],
   "outputs": [],
   "execution_count": 45
  },
  {
   "metadata": {
    "ExecuteTime": {
     "end_time": "2025-06-24T13:58:19.438783Z",
     "start_time": "2025-06-24T13:58:19.431779Z"
    }
   },
   "cell_type": "code",
   "source": [
    "countries = ['Angola', 'Burundi', 'Cameroon', 'Central African Republic', 'Chad', 'Congo', 'Republic of the Congo', 'DRC', 'Drc', 'DR Congo', 'Equatorial Guinea', 'Gabon']\n",
    "rename_countries = {\n",
    "    'Republic Of The Congo': 'Congo',\n",
    "    'Democratic Republic Of The Congo': 'Drc',\n",
    "    'Dr Congo': 'Drc'\n",
    "}"
   ],
   "id": "4fc2ac7f0e33f322",
   "outputs": [],
   "execution_count": 159
  },
  {
   "metadata": {},
   "cell_type": "markdown",
   "source": "## 1. Load the African Hydropower Atlas",
   "id": "a61279fdd49d919b"
  },
  {
   "metadata": {
    "ExecuteTime": {
     "end_time": "2025-06-24T13:19:27.266903Z",
     "start_time": "2025-06-24T13:19:27.262911Z"
    }
   },
   "cell_type": "code",
   "source": "file_atlas = os.path.join(os.getcwd(), 'input', 'African_Hydropower_Atlas_v2-0.xlsx')",
   "id": "ce381bbfa1cdcae3",
   "outputs": [],
   "execution_count": 116
  },
  {
   "metadata": {
    "ExecuteTime": {
     "end_time": "2025-06-24T13:24:14.125807Z",
     "start_time": "2025-06-24T13:24:14.121036Z"
    }
   },
   "cell_type": "code",
   "source": [
    "def remove_parentheses(text):\n",
    "    if pd.isna(text):\n",
    "        return \"\"\n",
    "    # Remove all (...) and trim whitespace\n",
    "    cleaned = re.sub(r\"\\s*\\([^)]*\\)\", \"\", text)\n",
    "    cleaned = re.sub(r\"\\s+\", \" \", cleaned).strip()\n",
    "    return cleaned.lower()"
   ],
   "id": "423d7011293fec57",
   "outputs": [],
   "execution_count": 131
  },
  {
   "metadata": {
    "ExecuteTime": {
     "end_time": "2025-06-24T13:26:00.902338Z",
     "start_time": "2025-06-24T13:26:00.655042Z"
    }
   },
   "cell_type": "code",
   "source": [
    "data_atlas = pd.read_excel(file_atlas, sheet_name='1 - Spatial and technical data', index_col=None, skiprows=1, header=1)\n",
    "data_atlas['Country'] = data_atlas['Country'].str.strip().str.title()\n",
    "data_atlas['Country'] = data_atlas['Country'].replace(rename_countries)\n",
    "\n",
    "data_atlas = data_atlas[data_atlas['Country'].isin(countries)]\n",
    "print(f'Number of countries in the atlas: {len(data_atlas[\"Country\"].unique())}. Countries: {data_atlas[\"Country\"].unique()}')\n",
    "\n",
    "data_atlas['Unit Name'] = data_atlas['Unit Name'].apply(remove_parentheses)\n",
    "\n",
    "# data_atlas.set_index(['Country', 'Unit Name'], inplace=True)\n",
    "print(f'Number of hydropower plants in the atlas: {len(data_atlas)}')\n",
    "\n",
    "\n",
    "\n",
    "data_flow = pd.read_excel(file_atlas, sheet_name='4a - HydrofleetAll', index_col=None, skiprows=None, header=0)\n",
    "data_flow = data_flow[data_flow['Country'].isin([c.upper() for c in countries])]\n",
    "data_flow.rename(columns={'Name': 'Unit Name'}, inplace=True)\n",
    "data_flow.set_index(['Country', 'Unit Name'], inplace=True)\n",
    "# Rename columns to match the expected format\n",
    "cols = pd.MultiIndex.from_product([['baseline', 'dry', 'wet'], range(1, 13)], names=['Scenario', 'Month'])\n",
    "# Add scenarios to the columns\n",
    "data_flow = data_flow.set_axis(cols, axis=1)\n",
    "#print(data_flow.head())"
   ],
   "id": "9fbac45a39cd2282",
   "outputs": [
    {
     "name": "stdout",
     "output_type": "stream",
     "text": [
      "Number of countries in the atlas: 8. Countries: ['Angola' 'Burundi' 'Cameroon' 'Central African Republic' 'Congo' 'Drc'\n",
      " 'Equatorial Guinea' 'Gabon']\n",
      "Number of hydropower plants in the atlas: 133\n"
     ]
    }
   ],
   "execution_count": 137
  },
  {
   "metadata": {},
   "cell_type": "markdown",
   "source": "## 2. Load the Global Hydropower Tracker",
   "id": "5c4ee3612a11bf25"
  },
  {
   "metadata": {
    "ExecuteTime": {
     "end_time": "2025-06-24T13:13:16.138165Z",
     "start_time": "2025-06-24T13:13:16.133676Z"
    }
   },
   "cell_type": "code",
   "source": "file_db = os.path.join(os.getcwd(), 'generation', 'input', 'Global-Integrated-Power-April-2025.xlsx')",
   "id": "698026946137b582",
   "outputs": [],
   "execution_count": 103
  },
  {
   "metadata": {
    "ExecuteTime": {
     "end_time": "2025-06-24T13:21:52.238211Z",
     "start_time": "2025-06-24T13:21:52.230925Z"
    }
   },
   "cell_type": "code",
   "source": [
    "def clean_plant_name(name: str) -> str:\n",
    "    if pd.isna(name):\n",
    "        return \"\"\n",
    "\n",
    "    name = name.lower()\n",
    "\n",
    "    # Phrases to remove\n",
    "    suffixes = [\n",
    "        \"hydroelectric plant\",\n",
    "        \"hydroelectric dam\",\n",
    "        \"wind farm\",\n",
    "        \"solar farm\",\n",
    "        \"solar project\",\n",
    "        \"solar plant\",\n",
    "        \"solar farms\",\n",
    "        \"power station\",\n",
    "        \"power plant\",\n",
    "        \"hybrid solar farm\",\n",
    "        \"thermal power station\",\n",
    "        \"thermal plant\",\n",
    "        \"central\",  # often means \"station\" in French/Portuguese\n",
    "        \"centrale\",\n",
    "        \"centrales d’energie renouvelable\",\n",
    "        \"energy project\",\n",
    "        \"solar\",   # sometimes standalone e.g. \"Lubango Solar\"\n",
    "        \"dam\"\n",
    "    ]\n",
    "\n",
    "    # Remove known phrases\n",
    "    for s in suffixes:\n",
    "        name = name.replace(s, \"\")\n",
    "\n",
    "    # Remove anything in parentheses\n",
    "    name = re.sub(r\"\\([^)]*\\)\", \"\", name)\n",
    "\n",
    "    # Remove extra spaces and punctuation\n",
    "    name = re.sub(r\"[^\\w\\s]\", \"\", name)  # Remove punctuation\n",
    "    name = re.sub(r\"\\s+\", \" \", name)  # Normalize whitespace\n",
    "\n",
    "    return name.strip()\n"
   ],
   "id": "4722cfdc96b4ab59",
   "outputs": [],
   "execution_count": 125
  },
  {
   "metadata": {
    "ExecuteTime": {
     "end_time": "2025-06-24T13:45:34.755271Z",
     "start_time": "2025-06-24T13:45:04.238260Z"
    }
   },
   "cell_type": "code",
   "source": [
    "if os.path.exists(file_db):\n",
    "    data_raw_tracker = pd.read_excel(file_db, sheet_name='Power facilities', header=[0], index_col=None)\n",
    "else:\n",
    "    raise FileNotFoundError(f\"File {file_db} does not exist.\")"
   ],
   "id": "d601edd7df944e84",
   "outputs": [
    {
     "name": "stderr",
     "output_type": "stream",
     "text": [
      "/opt/anaconda3/envs/HydroData/lib/python3.10/site-packages/openpyxl/worksheet/_read_only.py:85: UserWarning: Unknown extension is not supported and will be removed\n",
      "  for idx, row in parser.parse():\n"
     ]
    }
   ],
   "execution_count": 148
  },
  {
   "metadata": {
    "ExecuteTime": {
     "end_time": "2025-06-24T13:59:49.438660Z",
     "start_time": "2025-06-24T13:59:49.402890Z"
    }
   },
   "cell_type": "code",
   "source": [
    "\n",
    "\n",
    "data_tracker = data_raw_tracker[data_raw_tracker['Country/area'].isin(countries)]\n",
    "data_tracker = data_tracker.rename(columns={'Country/area': 'Country'})\n",
    "data_tracker['Country'] = data_tracker['Country'].str.strip().str.title()\n",
    "data_tracker['Country'] = data_tracker['Country'].replace(rename_countries)\n",
    "\n",
    "print(f'Number of countries in the atlas: {len(data_tracker[\"Country\"].unique())}. Countries: {data_tracker[\"Country\"].unique()}')\n",
    "\n",
    "data_tracker['Unit Name'] = data_tracker['Plant / Project name']\n",
    "# Clean the plant names\n",
    "data_tracker['Unit Name'] = data_tracker['Unit Name'].apply(clean_plant_name)\n",
    "\n",
    "\n",
    "data_hydro_tracker = data_tracker[\n",
    "    data_tracker['Type'] == 'hydropower'\n",
    "].copy()\n",
    "print(f'Number of hydropower plants in the tracker: {len(data_hydro_tracker)}')\n",
    "\n",
    "data_non_hydro_tracker = data_tracker[\n",
    "    ~data_tracker['Type'].str.lower().str.contains('hydropower', na=False)\n",
    "].copy()\n",
    "print(f'Number of non-hydropower plants in the tracker: {len(data_non_hydro_tracker)}')"
   ],
   "id": "9a7a2d0a279a79d9",
   "outputs": [
    {
     "name": "stdout",
     "output_type": "stream",
     "text": [
      "Number of countries in the atlas: 9. Countries: ['Angola' 'Drc' 'Cameroon' 'Central African Republic' 'Chad'\n",
      " 'Equatorial Guinea' 'Gabon' 'Congo' 'Burundi']\n",
      "Number of hydropower plants in the tracker: 58\n",
      "Number of non-hydropower plants in the tracker: 165\n"
     ]
    }
   ],
   "execution_count": 162
  },
  {
   "metadata": {},
   "cell_type": "markdown",
   "source": "## 3. Merge the datasets",
   "id": "a833ec55815af8a1"
  },
  {
   "metadata": {
    "ExecuteTime": {
     "end_time": "2025-06-24T14:05:09.072491Z",
     "start_time": "2025-06-24T14:05:09.017082Z"
    }
   },
   "cell_type": "code",
   "source": [
    "# Ensure consistent format\n",
    "data_atlas.loc[:, 'Name_clean'] = data_atlas.loc[:, 'Unit Name'].str.lower().str.strip()\n",
    "data_hydro_tracker.loc[:, 'Name_clean'] = data_hydro_tracker.loc[:, 'Unit Name'].str.lower().str.strip()\n",
    "\n",
    "unified = []\n",
    "diffs = []\n",
    "\n",
    "# Loop by country\n",
    "for country in data_atlas['Country'].unique():\n",
    "    print(f'Processing country: {country}')\n",
    "    df_atlas_c = data_atlas[data_atlas['Country'] == country].copy()\n",
    "    df_tracker_c = data_hydro_tracker[data_hydro_tracker['Country'] == country].copy()\n",
    "\n",
    "    if df_tracker_c.empty:\n",
    "        print(f'No tracker data for {country}, skipping...')\n",
    "        continue\n",
    "\n",
    "    for _, atlas_row in df_atlas_c.iterrows():\n",
    "        # Find best match in tracker for this plant\n",
    "\n",
    "        result = process.extractOne(\n",
    "            atlas_row['Name_clean'],\n",
    "            df_tracker_c['Name_clean'],\n",
    "            scorer=fuzz.token_sort_ratio,\n",
    "            score_cutoff=60\n",
    "        )\n",
    "        if result:\n",
    "            match_name, score, tracker_idx = result\n",
    "        else:\n",
    "            match_name, score, tracker_idx = None, None, None\n",
    "\n",
    "        if match_name:\n",
    "            tracker_row = df_tracker_c.loc[tracker_idx]\n",
    "\n",
    "            # Combine atlas and tracker row into one unified row\n",
    "            merged_row = {}\n",
    "\n",
    "            merged_row['Both datasets'] = True\n",
    "\n",
    "            # Add all columns from atlas row\n",
    "            for col in data_atlas.columns:\n",
    "                merged_row[f\"{col}_atlas\"] = atlas_row[col]\n",
    "\n",
    "            # Add all columns from tracker row\n",
    "            for col in data_tracker.columns:\n",
    "                merged_row[f\"{col}_tracker\"] = tracker_row[col]\n",
    "\n",
    "            unified.append(merged_row)\n",
    "        else:\n",
    "            merged_row = {f\"{col}_atlas\": atlas_row[col] for col in data_atlas.columns}\n",
    "            unified.append(merged_row)\n",
    "\n",
    "# Step 1: Collect all matched tracker names\n",
    "matched_tracker_names = set(row[f\"Name_clean_tracker\"] for row in unified if \"Name_clean_tracker\" in row)\n",
    "\n",
    "# Step 2: Filter tracker rows that weren't matched\n",
    "unmatched_tracker = data_hydro_tracker[\n",
    "    ~data_hydro_tracker['Name_clean'].isin(matched_tracker_names)\n",
    "]\n",
    "\n",
    "# Step 3: Add each unmatched tracker row to unified list (with '_tracker' prefix)\n",
    "for _, tracker_row in unmatched_tracker.iterrows():\n",
    "    merged_row = {f\"{col}_tracker\": tracker_row[col] for col in data_hydro_tracker.columns}\n",
    "    unified.append(merged_row)\n",
    "\n",
    "\n",
    "pd.DataFrame(unified).to_csv(os.path.join(os.getcwd(), 'hydro', 'output', 'hydro_atlas_tracker_unified.csv'), index=False)"
   ],
   "id": "8cf5f7d7f7e9ade8",
   "outputs": [
    {
     "name": "stdout",
     "output_type": "stream",
     "text": [
      "Processing country: Angola\n",
      "Processing country: Burundi\n",
      "No tracker data for Burundi, skipping...\n",
      "Processing country: Cameroon\n",
      "Processing country: Central African Republic\n",
      "Processing country: Congo\n",
      "Processing country: Drc\n",
      "Processing country: Equatorial Guinea\n",
      "Processing country: Gabon\n"
     ]
    }
   ],
   "execution_count": 166
  }
 ],
 "metadata": {
  "kernelspec": {
   "display_name": "climatic_env",
   "language": "python",
   "name": "climatic_env"
  },
  "language_info": {
   "codemirror_mode": {
    "name": "ipython",
    "version": 2
   },
   "file_extension": ".py",
   "mimetype": "text/x-python",
   "name": "python",
   "nbconvert_exporter": "python",
   "pygments_lexer": "ipython2",
   "version": "2.7.6"
  }
 },
 "nbformat": 4,
 "nbformat_minor": 5
}
