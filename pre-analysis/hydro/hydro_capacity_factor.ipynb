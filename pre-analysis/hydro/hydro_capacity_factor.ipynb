{
 "cells": [
  {
   "metadata": {},
   "cell_type": "markdown",
   "source": [
    "## Hydropower capacty factor\n",
    "- Define pAvailability for each Hydropower Reservoir\n",
    "- Define pVREgenProfile for ROR"
   ],
   "id": "20387e08205ce47c"
  },
  {
   "metadata": {
    "ExecuteTime": {
     "end_time": "2025-07-01T07:11:46.037924Z",
     "start_time": "2025-07-01T07:11:46.033342Z"
    }
   },
   "cell_type": "code",
   "outputs": [],
   "execution_count": 4,
   "source": [
    "import pandas as pd\n",
    "import os"
   ],
   "id": "2f37f95a697cb6f5"
  },
  {
   "metadata": {},
   "cell_type": "markdown",
   "source": "## 1. Load Generation Data",
   "id": "9a16e7930d23d40a"
  },
  {
   "metadata": {
    "ExecuteTime": {
     "end_time": "2025-07-01T07:19:00.067146Z",
     "start_time": "2025-07-01T07:19:00.056995Z"
    }
   },
   "cell_type": "code",
   "source": [
    "filename = 'pGenDataExcel_clean.csv'\n",
    "folder = os.path.join('..', '..', 'epm', 'input', 'data_capp', 'supply')\n",
    "file_path = os.path.join(folder, filename)\n",
    "if not os.path.exists(file_path):\n",
    "    # Display the total path to the file, not relative\n",
    "    raise FileNotFoundError(f\"The file {os.path.abspath(file_path)} does not exist. Please check the path.\")\n",
    "else:\n",
    "    print(f\"File {file_path} found. Proceeding with the analysis.\")\n",
    "\n",
    "# Load the generation data\n",
    "data_gen = pd.read_csv(file_path, index_col=None, header=[0])\n",
    "\n",
    "# Filter hydropower plants\n",
    "data_gen = data_gen[data_gen['tech'].isin(['ROR', 'ReservoirHydro'])]\n",
    "\n",
    "# Display the first few rows of the generation data\n",
    "print(data_gen.head())"
   ],
   "id": "a84639257304ea77",
   "outputs": [
    {
     "name": "stdout",
     "output_type": "stream",
     "text": [
      "File ../../epm/input/data_capp/supply/pGenDataExcel_clean.csv found. Proceeding with the analysis.\n",
      "                               gen    zone            tech   fuel  Status  \\\n",
      "4                            Lauca  Angola  ReservoirHydro  Water       1   \n",
      "5                       Cambambe 2  Angola  ReservoirHydro  Water       1   \n",
      "6                          Capanda  Angola  ReservoirHydro  Water       1   \n",
      "7                       Cambambe 1  Angola  ReservoirHydro  Water       1   \n",
      "8  1smallhydrodro2012_hydro_angola  Angola  ReservoirHydro  Water       1   \n",
      "\n",
      "   StYr  RetrYr  Capacity  DescreteCap  fuel2  ...  MinLimitShare  HeatRate  \\\n",
      "4  2017    2050    2070.0          NaN    NaN  ...            NaN       NaN   \n",
      "5  2016    2050     700.0          NaN    NaN  ...            NaN       NaN   \n",
      "6  2004    2050     520.0          NaN    NaN  ...            NaN       NaN   \n",
      "7  1962    2050     260.0          NaN    NaN  ...            NaN       NaN   \n",
      "8  2012    2050     136.0          NaN    NaN  ...            NaN       NaN   \n",
      "\n",
      "   RampUpRate  RampDnRate  OverLoadFactor  ResLimShare  Capex  FOMperMW  VOM  \\\n",
      "4         NaN         NaN             NaN          NaN    NaN       NaN  NaN   \n",
      "5         NaN         NaN             NaN          NaN    NaN       NaN  NaN   \n",
      "6         NaN         NaN             NaN          NaN    NaN       NaN  NaN   \n",
      "7         NaN         NaN             NaN          NaN    NaN       NaN  NaN   \n",
      "8         NaN         NaN             NaN          NaN    NaN       NaN  NaN   \n",
      "\n",
      "   ReserveCost  \n",
      "4          NaN  \n",
      "5          NaN  \n",
      "6          NaN  \n",
      "7          NaN  \n",
      "8          NaN  \n",
      "\n",
      "[5 rows x 23 columns]\n"
     ]
    }
   ],
   "execution_count": 11
  },
  {
   "metadata": {},
   "cell_type": "markdown",
   "source": "## 1. Load the African Hydropower Atlas",
   "id": "d63dd4e5335591da"
  },
  {
   "metadata": {},
   "cell_type": "markdown",
   "source": [
    "Download the African Hydropower Atlas from the [African Hydropower Atlas](https://www.hydroshare.org/resource/5e8ebdc3bfd24207852539ecf219d915/) website, and put it in the `input` folder.\n",
    "\n",
    "The file should be named `African_Hydropower_Atlas_v2-0.xlsx`."
   ],
   "id": "b5003fd0454c8d2f"
  },
  {
   "metadata": {
    "ExecuteTime": {
     "end_time": "2025-07-01T07:20:08.891399Z",
     "start_time": "2025-07-01T07:20:08.886194Z"
    }
   },
   "cell_type": "code",
   "source": [
    "file_atlas = os.path.join('input', 'African_Hydropower_Atlas_v2-0.xlsx')\n",
    "if not os.path.exists(file_atlas):\n",
    "    raise FileNotFoundError(f\"The file {file_atlas} does not exist. Please download the African Hydropower Atlas and place it in the input folder.\")\n",
    "else:\n",
    "    print(f\"File {file_atlas} found. Proceeding with the analysis.\")"
   ],
   "id": "45cc03370613b4d7",
   "outputs": [
    {
     "name": "stdout",
     "output_type": "stream",
     "text": [
      "File input/African_Hydropower_Atlas_v2-0.xlsx found. Proceeding with the analysis.\n"
     ]
    }
   ],
   "execution_count": 12
  },
  {
   "metadata": {
    "ExecuteTime": {
     "end_time": "2025-06-26T12:20:52.461966Z",
     "start_time": "2025-06-26T12:20:52.361573Z"
    }
   },
   "cell_type": "code",
   "outputs": [
    {
     "name": "stdout",
     "output_type": "stream",
     "text": [
      "Unit Name       Souapiti  Kaléta  Garafiri  Baneah (Banieya)    Donkea  \\\n",
      "scenario month                                                           \n",
      "baseline 1      0.523636    0.45  0.292781          0.135824  0.490271   \n",
      "         2      0.523636    0.45  0.290946          0.135603  0.489473   \n",
      "         3      0.523636    0.45  0.290600          0.135557  0.489306   \n",
      "         4      0.523636    0.45  0.291120          0.135556  0.489305   \n",
      "         5      0.523636    0.45  0.294269          0.135787  0.490137   \n",
      "\n",
      "Unit Name       Grandes-Chutes (Kalé)    Kinkon  Tinkisso      Lofa  \n",
      "scenario month                                                       \n",
      "baseline 1                   0.481357  0.009367  0.015969  0.007198  \n",
      "         2                   0.480574  0.003693  0.009680  0.003571  \n",
      "         3                   0.480409  0.002488  0.007414  0.002582  \n",
      "         4                   0.480409  0.005376  0.006381  0.011393  \n",
      "         5                   0.481226  0.025730  0.009372  0.098698  \n"
     ]
    }
   ],
   "execution_count": 88,
   "source": [
    "data_atlas = pd.read_excel(file_atlas, sheet_name='2 - Hydrofleet2020', index_col=None, skiprows=None, header=0)\n",
    "data_atlas = data_atlas[data_atlas['Country'].isin([c.upper() for c in countries])]\n",
    "data_atlas.rename(columns={'Name': 'Unit Name'}, inplace=True)\n",
    "data_atlas.set_index(['Country', 'Unit Name'], inplace=True)\n",
    "\n",
    "data_atlas = data_atlas.droplevel('Country')\n",
    "# Rename columns to match the expected format\n",
    "cols = pd.MultiIndex.from_product([['baseline', 'dry', 'wet'], range(1, 13)], names=['scenario', 'month'])\n",
    "# Add scenarios to the columns\n",
    "data_atlas = data_atlas.set_axis(cols, axis=1)\n",
    "\n",
    "data_atlas = data_atlas.T\n",
    "\n",
    "print(data_atlas.head())"
   ],
   "id": "2671505bfa1677eb"
  }
 ],
 "metadata": {
  "kernelspec": {
   "display_name": "Python 3",
   "language": "python",
   "name": "python3"
  },
  "language_info": {
   "codemirror_mode": {
    "name": "ipython",
    "version": 2
   },
   "file_extension": ".py",
   "mimetype": "text/x-python",
   "name": "python",
   "nbconvert_exporter": "python",
   "pygments_lexer": "ipython2",
   "version": "2.7.6"
  }
 },
 "nbformat": 4,
 "nbformat_minor": 5
}
