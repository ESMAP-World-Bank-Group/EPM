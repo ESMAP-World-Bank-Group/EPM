{
 "cells": [
  {
   "cell_type": "code",
   "id": "initial_id",
   "metadata": {
    "collapsed": true,
    "ExecuteTime": {
     "end_time": "2025-06-26T15:38:57.434826Z",
     "start_time": "2025-06-26T15:38:57.090105Z"
    }
   },
   "source": [
    "import cdsapi\n",
    "import os"
   ],
   "outputs": [
    {
     "ename": "ModuleNotFoundError",
     "evalue": "No module named 'cdsapi'",
     "output_type": "error",
     "traceback": [
      "\u001B[0;31m---------------------------------------------------------------------------\u001B[0m",
      "\u001B[0;31mModuleNotFoundError\u001B[0m                       Traceback (most recent call last)",
      "Cell \u001B[0;32mIn[1], line 1\u001B[0m\n\u001B[0;32m----> 1\u001B[0m \u001B[38;5;28;01mimport\u001B[39;00m \u001B[38;5;21;01mcdsapi\u001B[39;00m\n",
      "\u001B[0;31mModuleNotFoundError\u001B[0m: No module named 'cdsapi'"
     ]
    }
   ],
   "execution_count": 1
  },
  {
   "metadata": {},
   "cell_type": "code",
   "outputs": [],
   "execution_count": null,
   "source": [
    "ISO_A2 = ['AO', 'BI']\n",
    "\n",
    "start_year, end_year = 2020, 2025                                           # from 1950\n",
    "\n",
    "variables_list = ['2m_temperature',\n",
    "                  'total_precipitation'\n",
    "                 ]# to present year"
   ],
   "id": "c05d70209c924d08"
  },
  {
   "metadata": {
    "ExecuteTime": {
     "end_time": "2025-06-26T15:36:04.727577Z",
     "start_time": "2025-06-26T15:36:03.628717Z"
    }
   },
   "cell_type": "code",
   "outputs": [
    {
     "name": "stdout",
     "output_type": "stream",
     "text": [
      "Files will be download in: input/era5_api, files: {'AO': 'input/era5_api/reanalysis-era5-land-monthly-means_AO_1950_2025_t2m_tp.zip', 'BW': 'input/era5_api/reanalysis-era5-land-monthly-means_BW_1950_2025_t2m_tp.zip', 'CD': 'input/era5_api/reanalysis-era5-land-monthly-means_CD_1950_2025_t2m_tp.zip', 'SZ': 'input/era5_api/reanalysis-era5-land-monthly-means_SZ_1950_2025_t2m_tp.zip', 'LS': 'input/era5_api/reanalysis-era5-land-monthly-means_LS_1950_2025_t2m_tp.zip', 'MW': 'input/era5_api/reanalysis-era5-land-monthly-means_MW_1950_2025_t2m_tp.zip', 'MZ': 'input/era5_api/reanalysis-era5-land-monthly-means_MZ_1950_2025_t2m_tp.zip', 'NA': 'input/era5_api/reanalysis-era5-land-monthly-means_NA_1950_2025_t2m_tp.zip', 'ZA': 'input/era5_api/reanalysis-era5-land-monthly-means_ZA_1950_2025_t2m_tp.zip', 'TZ': 'input/era5_api/reanalysis-era5-land-monthly-means_TZ_1950_2025_t2m_tp.zip', 'ZM': 'input/era5_api/reanalysis-era5-land-monthly-means_ZM_1950_2025_t2m_tp.zip', 'ZW': 'input/era5_api/reanalysis-era5-land-monthly-means_ZW_1950_2025_t2m_tp.zip'}\n",
      "Locations: {'AO': (11.66939414300009, -18.031404723999884, 24.061714315000103, -4.391203714999932), 'BW': (19.978345988000115, -26.891794127999987, 29.350073689000055, -17.781807555999947), 'CD': (12.210541212000066, -13.45835052399994, 31.280446818000087, 5.375280253000085), 'SZ': (30.782906128000093, -27.31626434299993, 32.11739831600005, -25.735999043999954), 'LS': (27.002154989000132, -30.658799335999916, 29.435908244000075, -28.570761413999975), 'MW': (32.66330814700012, -17.135335387999902, 35.90429895000011, -9.381235046999876), 'MZ': (30.21384525500008, -26.86027150399994, 40.847992384000065, -10.469008070999905), 'NA': (11.717621290000068, -28.959368183999885, 25.259780721000112, -16.951057230999936), 'ZA': (16.469981316000087, -46.96575286299992, 37.97779381600009, -22.126451924999927), 'TZ': (29.32103153500009, -11.73127248199998, 40.44939212300005, -0.9858301799998799), 'ZM': (21.97987756300006, -18.069231871999946, 33.67420251500005, -8.194124042999917), 'ZW': (25.219369751000045, -22.39733978299992, 33.04276818900013, -15.614808044999876)}\n"
     ]
    }
   ],
   "execution_count": 36,
   "source": [
    "\n",
    "# Create folder structure\n",
    "folder_input = 'input'\n",
    "if not os.path.exists(folder_input): os.mkdir(folder_input)\n",
    "folder_api = os.path.join(folder_input, 'era5_api')\n",
    "if not os.path.exists(folder_api): os.mkdir(folder_api)\n",
    "folder_extract = os.path.join(folder_input, 'era5_extract')\n",
    "if not os.path.exists(folder_extract): os.mkdir(folder_extract)\n",
    "folder_output = 'output'\n",
    "if not os.path.exists(folder_output): os.mkdir(folder_output)\n",
    "folder_output = os.path.join(folder_output, '_'.join(ISO_A2))\n",
    "if not os.path.exists(folder_output): os.mkdir(folder_output)\n",
    "\n",
    "# Define the dataset\n",
    "dataset_name = 'reanalysis-era5-land-monthly-means'# 'reanalysis-era5-land'\n",
    "\n",
    "# Define the API client variable\n",
    "variable_name = {\n",
    "    'total_precipitation': 'tp',\n",
    "    'surface_runoff': 'sro',\n",
    "    'runoff': 'ro',\n",
    "    'snow_depth_water_equivalent': 'sd',\n",
    "    '2m_temperature': 't2m',\n",
    "    'potential_evaporation': 'pev',\n",
    "    'total_evaporation': 'e'\n",
    "}\n",
    "\n",
    "#\n",
    "temp = '_'.join([variable_name[variable] for variable in variables_list])\n",
    "downloaded_files = {iso: f'{dataset_name}_{iso}_{start_year}_{end_year}_{temp}.zip' for iso in ISO_A2}\n",
    "downloaded_files = {iso: os.path.join(folder_api, file) for iso, file in downloaded_files.items()}\n",
    "print(f'Files will be download in: {folder_api}, files: {downloaded_files}')\n",
    "\n",
    "# Define the bounding box for each ISO A2 code\n",
    "locations = {iso: get_bbox(iso) for iso in ISO_A2}\n",
    "print(f'Locations: {locations}')"
   ],
   "id": "3170ffc4d3c82a25"
  }
 ],
 "metadata": {
  "kernelspec": {
   "display_name": "Python 3",
   "language": "python",
   "name": "python3"
  },
  "language_info": {
   "codemirror_mode": {
    "name": "ipython",
    "version": 2
   },
   "file_extension": ".py",
   "mimetype": "text/x-python",
   "name": "python",
   "nbconvert_exporter": "python",
   "pygments_lexer": "ipython2",
   "version": "2.7.6"
  }
 },
 "nbformat": 4,
 "nbformat_minor": 5
}
