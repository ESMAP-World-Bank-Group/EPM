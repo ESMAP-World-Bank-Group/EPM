{
 "cells": [
  {
   "cell_type": "markdown",
   "id": "dad8508e",
   "metadata": {},
   "source": [
    "\n",
    "# Get Renewable Ninja Data\n",
    "\n",
    "1. Extract renewables generation data from Ninja API.\n",
    "2. Visualize the data?\n",
    "\n",
    "# Installation\n",
    "It's recommended to install a conda environment based on the `requirements.txt` file to run this script.\n",
    "In order to do so, you can run the following command in your terminal: \n",
    "```bash\n",
    "conda create --name reprenv --file requirements.txt\n",
    "```\n",
    "If there are some dependencies issues because some package are not included (project is still under construction) in the `requirements.txt` file, install them manually. "
   ]
  },
  {
   "cell_type": "code",
   "id": "initial_id",
   "metadata": {
    "collapsed": true,
    "ExecuteTime": {
     "end_time": "2025-06-30T13:14:24.108826Z",
     "start_time": "2025-06-30T13:14:24.035695Z"
    }
   },
   "source": [
    "import os\n",
    "from utils_ninja import *"
   ],
   "outputs": [],
   "execution_count": 2
  },
  {
   "cell_type": "markdown",
   "id": "23627c6dcb34d999",
   "metadata": {
    "collapsed": false
   },
   "source": [
    "## User input parameters (to manually change)\n",
    "\n",
    "User needs to change the following parameters in the following cell:\n",
    "1. `name_data` : Name of the folder where data will be saved.\n",
    "2. `extract_renewables` : Whether to extract renewables data from Ninja API or not. If False, the script will use the data file provided by the user. Please note that dowloading data from Ninja API is time consuming, so do it only once. Also, there are API limits on the hourly number of downloads, so it is better to download the data once and use it multiple times.\n",
    "3. `locations` : Coordinates of the location for which the data is to be extracted. The format is (latitude, longitude).\n",
    "4. `power_types` : Types of power for which the data is to be extracted. The format is ['solar', 'wind'].\n",
    "5. `start_year` : Start year of the historical data.\n",
    "6. `end_year` : End year of the historical data.\n",
    "\n",
    "You should also update the `API_TOKEN` in `utils.py` by creating an account in Renewable Ninja. This increases the hourly request limit and is required for automated access to the API. See the official Ninja API documentation for more details."
   ]
  },
  {
   "metadata": {
    "ExecuteTime": {
     "end_time": "2025-06-30T13:14:35.234309Z",
     "start_time": "2025-06-30T13:14:35.227936Z"
    }
   },
   "cell_type": "code",
   "source": [
    "name_data = 'capp' # Name of the zone, used to name the folder where the data is stored\n",
    "\n",
    "extract_renewables = {'solar': False, 'wind': False} # Set to True to extract data from Renewables Ninja\n",
    "\n",
    "# If extract_renewables is True, fill the following variables\n",
    "# Best is to use the same zone name than the one in EPM\n",
    "# The coordinates can be found thanks to the get_renewables_coordinates.ipynb notebook\n",
    "locations = {'solar': {'Angola': (-12.4667, 15.7442),\n",
    "                       'Burundi': (-3.1479, 29.3625),\n",
    "                       'Cameroon': (9.3271, 13.3621),\n",
    "                       'CAR': (4.5167, 18.4667),\n",
    "                       'Chad': (12.0905, 15.1331),\n",
    "                       'Congo': (1.3863, 16.3364),\n",
    "                       'DRC': (-1.6414, 29.1938),\n",
    "                       'Gabon': (0.2293, 9.5315),\n",
    "                       'EquatorialGuinea': (1.6132, 10.6400),\n",
    "                       },\n",
    "             'wind': {'Angola': (-15.2198, 12.7258),\n",
    "                      'Cameroon': (4.8918, 12.3598),\n",
    "                      'Chad': (12.1232, 15.0712)}}\n",
    "\n",
    "\n",
    "start_year = 2023 # earliest year is 1980\n",
    "end_year = 2024\n"
   ],
   "id": "18ab61caa93efb5a",
   "outputs": [],
   "execution_count": 5
  },
  {
   "cell_type": "markdown",
   "id": "1a12e9ff",
   "metadata": {},
   "source": "## Create the folder structure\n"
  },
  {
   "cell_type": "code",
   "id": "c1f8a2a9c2d81704",
   "metadata": {
    "collapsed": false,
    "ExecuteTime": {
     "end_time": "2025-06-30T13:14:38.080534Z",
     "start_time": "2025-06-30T13:14:38.074917Z"
    }
   },
   "source": [
    "folder_input = 'input'\n",
    "# Make folder\n",
    "if not os.path.exists(folder_input):\n",
    "    os.makedirs(folder_input)\n",
    "    \n",
    "folder_output = 'output'\n",
    "if not os.path.exists(folder_output):\n",
    "    os.makedirs(folder_output)\n",
    "\n",
    "power_types = list(locations.keys()) # 'wind' or 'solar'\n",
    "\n",
    "print(f'Extracting data from {start_year} to {end_year} for {name_data}')"
   ],
   "outputs": [
    {
     "name": "stdout",
     "output_type": "stream",
     "text": [
      "Extracting data from 2023 to 2024 for capp\n"
     ]
    }
   ],
   "execution_count": 6
  },
  {
   "cell_type": "markdown",
   "id": "e499e8d76f214429",
   "metadata": {
    "collapsed": false
   },
   "source": [
    "## 1. Extract data from Renewables Ninja\n",
    "\n",
    "Depends on the `extract_renewables` parameter, the script will extract the data from the Ninja API or use the data file provided by the user."
   ]
  },
  {
   "cell_type": "code",
   "id": "86647d703e5cbdb2",
   "metadata": {
    "ExecuteTime": {
     "end_time": "2025-06-30T13:14:38.477044Z",
     "start_time": "2025-06-30T13:14:38.471857Z"
    }
   },
   "source": [
    "for power_type in power_types:\n",
    "    print('Processing power type {}'.format(power_type))\n",
    "    if extract_renewables[power_type]:\n",
    "        locations_power = locations[power_type]\n",
    "        get_years_renewables(locations=locations_power, power_type=power_type,\n",
    "                             start_year=start_year, end_year=end_year,\n",
    "                             name_data=name_data, output=folder_input,\n",
    "                             local_time=True)"
   ],
   "outputs": [
    {
     "name": "stdout",
     "output_type": "stream",
     "text": [
      "Processing power type solar\n",
      "Processing power type wind\n"
     ]
    }
   ],
   "execution_count": 7
  },
  {
   "cell_type": "markdown",
   "id": "255b40cabbf38de",
   "metadata": {},
   "source": "## 2. Explore and format data"
  },
  {
   "cell_type": "code",
   "id": "599dcb2b4c3c8743",
   "metadata": {
    "ExecuteTime": {
     "end_time": "2025-06-30T13:15:42.836101Z",
     "start_time": "2025-06-30T13:15:42.643212Z"
    }
   },
   "source": [
    "filenames = {'PV': os.path.join(folder_input, 'data_{}_solar.csv'.format(name_data)),\n",
    "             'Wind': os.path.join(folder_input, 'data_{}_wind.csv'.format(name_data)),\n",
    "             }\n",
    "\n",
    "df_energy = {}\n",
    "for tech, filename in filenames.items():\n",
    "    if os.path.exists(filename):\n",
    "        print(f'Loading data from {filename}')\n",
    "        df_energy[tech] = pd.read_csv(filename, index_col=None, header=[0])\n",
    "    else:\n",
    "        print(f'File {filename} does not exist. Please check the input folder.')\n",
    "\n",
    "# Make heatmaps and boxplots to explore the data\n",
    "for tech, df in df_energy.items():\n",
    "    make_heatmap(df, tech=tech, path=os.path.join(folder_output, f'heatmap_{tech}_{name_data}.png'))\n",
    "    make_boxplot(df, tech=tech, path=os.path.join(folder_output, f'boxplot_{tech}_{name_data}.png'))"
   ],
   "outputs": [
    {
     "name": "stdout",
     "output_type": "stream",
     "text": [
      "Loading data from input/data_capp_solar.csv\n",
      "Loading data from input/data_capp_wind.csv\n"
     ]
    },
    {
     "ename": "ValueError",
     "evalue": "could not convert string to float: '1 - 1'",
     "output_type": "error",
     "traceback": [
      "\u001B[0;31m---------------------------------------------------------------------------\u001B[0m",
      "\u001B[0;31mValueError\u001B[0m                                Traceback (most recent call last)",
      "Cell \u001B[0;32mIn[10], line 15\u001B[0m\n\u001B[1;32m     13\u001B[0m \u001B[38;5;66;03m# Make heatmaps and boxplots to explore the data\u001B[39;00m\n\u001B[1;32m     14\u001B[0m \u001B[38;5;28;01mfor\u001B[39;00m tech, df \u001B[38;5;129;01min\u001B[39;00m df_energy\u001B[38;5;241m.\u001B[39mitems():\n\u001B[0;32m---> 15\u001B[0m     \u001B[43mmake_heatmap\u001B[49m\u001B[43m(\u001B[49m\u001B[43mdf\u001B[49m\u001B[43m,\u001B[49m\u001B[43m \u001B[49m\u001B[43mtech\u001B[49m\u001B[38;5;241;43m=\u001B[39;49m\u001B[43mtech\u001B[49m\u001B[43m,\u001B[49m\u001B[43m \u001B[49m\u001B[43mpath\u001B[49m\u001B[38;5;241;43m=\u001B[39;49m\u001B[43mos\u001B[49m\u001B[38;5;241;43m.\u001B[39;49m\u001B[43mpath\u001B[49m\u001B[38;5;241;43m.\u001B[39;49m\u001B[43mjoin\u001B[49m\u001B[43m(\u001B[49m\u001B[43mfolder_output\u001B[49m\u001B[43m,\u001B[49m\u001B[43m \u001B[49m\u001B[38;5;124;43mf\u001B[39;49m\u001B[38;5;124;43m'\u001B[39;49m\u001B[38;5;124;43mheatmap_\u001B[39;49m\u001B[38;5;132;43;01m{\u001B[39;49;00m\u001B[43mtech\u001B[49m\u001B[38;5;132;43;01m}\u001B[39;49;00m\u001B[38;5;124;43m_\u001B[39;49m\u001B[38;5;132;43;01m{\u001B[39;49;00m\u001B[43mname_data\u001B[49m\u001B[38;5;132;43;01m}\u001B[39;49;00m\u001B[38;5;124;43m.png\u001B[39;49m\u001B[38;5;124;43m'\u001B[39;49m\u001B[43m)\u001B[49m\u001B[43m)\u001B[49m\n\u001B[1;32m     16\u001B[0m     make_boxplot(df, tech\u001B[38;5;241m=\u001B[39mtech, path\u001B[38;5;241m=\u001B[39mos\u001B[38;5;241m.\u001B[39mpath\u001B[38;5;241m.\u001B[39mjoin(folder_output, \u001B[38;5;124mf\u001B[39m\u001B[38;5;124m'\u001B[39m\u001B[38;5;124mboxplot_\u001B[39m\u001B[38;5;132;01m{\u001B[39;00mtech\u001B[38;5;132;01m}\u001B[39;00m\u001B[38;5;124m_\u001B[39m\u001B[38;5;132;01m{\u001B[39;00mname_data\u001B[38;5;132;01m}\u001B[39;00m\u001B[38;5;124m.png\u001B[39m\u001B[38;5;124m'\u001B[39m))\n",
      "File \u001B[0;32m~/Documents/World Bank/Projects/EPM_APPLIED/EPM_CAPP/pre-analysis/climatic/utils_ninja.py:314\u001B[0m, in \u001B[0;36mmake_heatmap\u001B[0;34m(df, tech, path)\u001B[0m\n\u001B[1;32m    312\u001B[0m \u001B[38;5;66;03m# Plot\u001B[39;00m\n\u001B[1;32m    313\u001B[0m plt\u001B[38;5;241m.\u001B[39mfigure(figsize\u001B[38;5;241m=\u001B[39m(\u001B[38;5;241m12\u001B[39m, \u001B[38;5;241m6\u001B[39m))\n\u001B[0;32m--> 314\u001B[0m \u001B[43msns\u001B[49m\u001B[38;5;241;43m.\u001B[39;49m\u001B[43mheatmap\u001B[49m\u001B[43m(\u001B[49m\u001B[43mheatmap_data\u001B[49m\u001B[38;5;241;43m.\u001B[39;49m\u001B[43mT\u001B[49m\u001B[43m,\u001B[49m\u001B[43m \u001B[49m\u001B[43mcmap\u001B[49m\u001B[38;5;241;43m=\u001B[39;49m\u001B[38;5;124;43m'\u001B[39;49m\u001B[38;5;124;43mYlGnBu\u001B[39;49m\u001B[38;5;124;43m'\u001B[39;49m\u001B[43m,\u001B[49m\u001B[43m \u001B[49m\u001B[43mxticklabels\u001B[49m\u001B[38;5;241;43m=\u001B[39;49m\u001B[38;5;28;43;01mFalse\u001B[39;49;00m\u001B[43m)\u001B[49m\n\u001B[1;32m    316\u001B[0m \u001B[38;5;66;03m# Custom x-ticks with season only\u001B[39;00m\n\u001B[1;32m    317\u001B[0m plt\u001B[38;5;241m.\u001B[39mxticks(ticks\u001B[38;5;241m=\u001B[39mx_positions, labels\u001B[38;5;241m=\u001B[39mx_labels, rotation\u001B[38;5;241m=\u001B[39m\u001B[38;5;241m0\u001B[39m)\n",
      "File \u001B[0;32m/opt/anaconda3/envs/esmap_env/lib/python3.9/site-packages/seaborn/matrix.py:446\u001B[0m, in \u001B[0;36mheatmap\u001B[0;34m(data, vmin, vmax, cmap, center, robust, annot, fmt, annot_kws, linewidths, linecolor, cbar, cbar_kws, cbar_ax, square, xticklabels, yticklabels, mask, ax, **kwargs)\u001B[0m\n\u001B[1;32m    365\u001B[0m \u001B[38;5;250m\u001B[39m\u001B[38;5;124;03m\"\"\"Plot rectangular data as a color-encoded matrix.\u001B[39;00m\n\u001B[1;32m    366\u001B[0m \n\u001B[1;32m    367\u001B[0m \u001B[38;5;124;03mThis is an Axes-level function and will draw the heatmap into the\u001B[39;00m\n\u001B[0;32m   (...)\u001B[0m\n\u001B[1;32m    443\u001B[0m \n\u001B[1;32m    444\u001B[0m \u001B[38;5;124;03m\"\"\"\u001B[39;00m\n\u001B[1;32m    445\u001B[0m \u001B[38;5;66;03m# Initialize the plotter object\u001B[39;00m\n\u001B[0;32m--> 446\u001B[0m plotter \u001B[38;5;241m=\u001B[39m \u001B[43m_HeatMapper\u001B[49m\u001B[43m(\u001B[49m\u001B[43mdata\u001B[49m\u001B[43m,\u001B[49m\u001B[43m \u001B[49m\u001B[43mvmin\u001B[49m\u001B[43m,\u001B[49m\u001B[43m \u001B[49m\u001B[43mvmax\u001B[49m\u001B[43m,\u001B[49m\u001B[43m \u001B[49m\u001B[43mcmap\u001B[49m\u001B[43m,\u001B[49m\u001B[43m \u001B[49m\u001B[43mcenter\u001B[49m\u001B[43m,\u001B[49m\u001B[43m \u001B[49m\u001B[43mrobust\u001B[49m\u001B[43m,\u001B[49m\u001B[43m \u001B[49m\u001B[43mannot\u001B[49m\u001B[43m,\u001B[49m\u001B[43m \u001B[49m\u001B[43mfmt\u001B[49m\u001B[43m,\u001B[49m\n\u001B[1;32m    447\u001B[0m \u001B[43m                      \u001B[49m\u001B[43mannot_kws\u001B[49m\u001B[43m,\u001B[49m\u001B[43m \u001B[49m\u001B[43mcbar\u001B[49m\u001B[43m,\u001B[49m\u001B[43m \u001B[49m\u001B[43mcbar_kws\u001B[49m\u001B[43m,\u001B[49m\u001B[43m \u001B[49m\u001B[43mxticklabels\u001B[49m\u001B[43m,\u001B[49m\n\u001B[1;32m    448\u001B[0m \u001B[43m                      \u001B[49m\u001B[43myticklabels\u001B[49m\u001B[43m,\u001B[49m\u001B[43m \u001B[49m\u001B[43mmask\u001B[49m\u001B[43m)\u001B[49m\n\u001B[1;32m    450\u001B[0m \u001B[38;5;66;03m# Add the pcolormesh kwargs here\u001B[39;00m\n\u001B[1;32m    451\u001B[0m kwargs[\u001B[38;5;124m\"\u001B[39m\u001B[38;5;124mlinewidths\u001B[39m\u001B[38;5;124m\"\u001B[39m] \u001B[38;5;241m=\u001B[39m linewidths\n",
      "File \u001B[0;32m/opt/anaconda3/envs/esmap_env/lib/python3.9/site-packages/seaborn/matrix.py:163\u001B[0m, in \u001B[0;36m_HeatMapper.__init__\u001B[0;34m(self, data, vmin, vmax, cmap, center, robust, annot, fmt, annot_kws, cbar, cbar_kws, xticklabels, yticklabels, mask)\u001B[0m\n\u001B[1;32m    160\u001B[0m \u001B[38;5;28mself\u001B[39m\u001B[38;5;241m.\u001B[39mylabel \u001B[38;5;241m=\u001B[39m ylabel \u001B[38;5;28;01mif\u001B[39;00m ylabel \u001B[38;5;129;01mis\u001B[39;00m \u001B[38;5;129;01mnot\u001B[39;00m \u001B[38;5;28;01mNone\u001B[39;00m \u001B[38;5;28;01melse\u001B[39;00m \u001B[38;5;124m\"\u001B[39m\u001B[38;5;124m\"\u001B[39m\n\u001B[1;32m    162\u001B[0m \u001B[38;5;66;03m# Determine good default values for the colormapping\u001B[39;00m\n\u001B[0;32m--> 163\u001B[0m \u001B[38;5;28;43mself\u001B[39;49m\u001B[38;5;241;43m.\u001B[39;49m\u001B[43m_determine_cmap_params\u001B[49m\u001B[43m(\u001B[49m\u001B[43mplot_data\u001B[49m\u001B[43m,\u001B[49m\u001B[43m \u001B[49m\u001B[43mvmin\u001B[49m\u001B[43m,\u001B[49m\u001B[43m \u001B[49m\u001B[43mvmax\u001B[49m\u001B[43m,\u001B[49m\n\u001B[1;32m    164\u001B[0m \u001B[43m                            \u001B[49m\u001B[43mcmap\u001B[49m\u001B[43m,\u001B[49m\u001B[43m \u001B[49m\u001B[43mcenter\u001B[49m\u001B[43m,\u001B[49m\u001B[43m \u001B[49m\u001B[43mrobust\u001B[49m\u001B[43m)\u001B[49m\n\u001B[1;32m    166\u001B[0m \u001B[38;5;66;03m# Sort out the annotations\u001B[39;00m\n\u001B[1;32m    167\u001B[0m \u001B[38;5;28;01mif\u001B[39;00m annot \u001B[38;5;129;01mis\u001B[39;00m \u001B[38;5;28;01mNone\u001B[39;00m \u001B[38;5;129;01mor\u001B[39;00m annot \u001B[38;5;129;01mis\u001B[39;00m \u001B[38;5;28;01mFalse\u001B[39;00m:\n",
      "File \u001B[0;32m/opt/anaconda3/envs/esmap_env/lib/python3.9/site-packages/seaborn/matrix.py:197\u001B[0m, in \u001B[0;36m_HeatMapper._determine_cmap_params\u001B[0;34m(self, plot_data, vmin, vmax, cmap, center, robust)\u001B[0m\n\u001B[1;32m    194\u001B[0m \u001B[38;5;250m\u001B[39m\u001B[38;5;124;03m\"\"\"Use some heuristics to set good defaults for colorbar and range.\"\"\"\u001B[39;00m\n\u001B[1;32m    196\u001B[0m \u001B[38;5;66;03m# plot_data is a np.ma.array instance\u001B[39;00m\n\u001B[0;32m--> 197\u001B[0m calc_data \u001B[38;5;241m=\u001B[39m \u001B[43mplot_data\u001B[49m\u001B[38;5;241;43m.\u001B[39;49m\u001B[43mastype\u001B[49m\u001B[43m(\u001B[49m\u001B[38;5;28;43mfloat\u001B[39;49m\u001B[43m)\u001B[49m\u001B[38;5;241m.\u001B[39mfilled(np\u001B[38;5;241m.\u001B[39mnan)\n\u001B[1;32m    198\u001B[0m \u001B[38;5;28;01mif\u001B[39;00m vmin \u001B[38;5;129;01mis\u001B[39;00m \u001B[38;5;28;01mNone\u001B[39;00m:\n\u001B[1;32m    199\u001B[0m     \u001B[38;5;28;01mif\u001B[39;00m robust:\n",
      "\u001B[0;31mValueError\u001B[0m: could not convert string to float: '1 - 1'"
     ]
    },
    {
     "data": {
      "text/plain": [
       "<Figure size 1200x600 with 0 Axes>"
      ]
     },
     "metadata": {},
     "output_type": "display_data"
    }
   ],
   "execution_count": 10
  },
  {
   "metadata": {
    "ExecuteTime": {
     "end_time": "2025-06-30T13:17:25.296201Z",
     "start_time": "2025-06-30T13:17:25.290716Z"
    }
   },
   "cell_type": "code",
   "source": "tmp",
   "id": "9adcef560c7c41b4",
   "outputs": [
    {
     "data": {
      "text/plain": [
       "     season  day      2023 season-day\n",
       "0         1    1  0.158782      1 - 1\n",
       "1         1    2  0.167537      1 - 2\n",
       "2         1    3  0.155880      1 - 3\n",
       "3         1    4  0.164903      1 - 4\n",
       "4         1    5  0.174032      1 - 5\n",
       "..      ...  ...       ...        ...\n",
       "360      12   27  0.184963    12 - 27\n",
       "361      12   28  0.195574    12 - 28\n",
       "362      12   29  0.176116    12 - 29\n",
       "363      12   30  0.170157    12 - 30\n",
       "364      12   31  0.160991    12 - 31\n",
       "\n",
       "[365 rows x 4 columns]"
      ],
      "text/html": [
       "<div>\n",
       "<style scoped>\n",
       "    .dataframe tbody tr th:only-of-type {\n",
       "        vertical-align: middle;\n",
       "    }\n",
       "\n",
       "    .dataframe tbody tr th {\n",
       "        vertical-align: top;\n",
       "    }\n",
       "\n",
       "    .dataframe thead th {\n",
       "        text-align: right;\n",
       "    }\n",
       "</style>\n",
       "<table border=\"1\" class=\"dataframe\">\n",
       "  <thead>\n",
       "    <tr style=\"text-align: right;\">\n",
       "      <th></th>\n",
       "      <th>season</th>\n",
       "      <th>day</th>\n",
       "      <th>2023</th>\n",
       "      <th>season-day</th>\n",
       "    </tr>\n",
       "  </thead>\n",
       "  <tbody>\n",
       "    <tr>\n",
       "      <th>0</th>\n",
       "      <td>1</td>\n",
       "      <td>1</td>\n",
       "      <td>0.158782</td>\n",
       "      <td>1 - 1</td>\n",
       "    </tr>\n",
       "    <tr>\n",
       "      <th>1</th>\n",
       "      <td>1</td>\n",
       "      <td>2</td>\n",
       "      <td>0.167537</td>\n",
       "      <td>1 - 2</td>\n",
       "    </tr>\n",
       "    <tr>\n",
       "      <th>2</th>\n",
       "      <td>1</td>\n",
       "      <td>3</td>\n",
       "      <td>0.155880</td>\n",
       "      <td>1 - 3</td>\n",
       "    </tr>\n",
       "    <tr>\n",
       "      <th>3</th>\n",
       "      <td>1</td>\n",
       "      <td>4</td>\n",
       "      <td>0.164903</td>\n",
       "      <td>1 - 4</td>\n",
       "    </tr>\n",
       "    <tr>\n",
       "      <th>4</th>\n",
       "      <td>1</td>\n",
       "      <td>5</td>\n",
       "      <td>0.174032</td>\n",
       "      <td>1 - 5</td>\n",
       "    </tr>\n",
       "    <tr>\n",
       "      <th>...</th>\n",
       "      <td>...</td>\n",
       "      <td>...</td>\n",
       "      <td>...</td>\n",
       "      <td>...</td>\n",
       "    </tr>\n",
       "    <tr>\n",
       "      <th>360</th>\n",
       "      <td>12</td>\n",
       "      <td>27</td>\n",
       "      <td>0.184963</td>\n",
       "      <td>12 - 27</td>\n",
       "    </tr>\n",
       "    <tr>\n",
       "      <th>361</th>\n",
       "      <td>12</td>\n",
       "      <td>28</td>\n",
       "      <td>0.195574</td>\n",
       "      <td>12 - 28</td>\n",
       "    </tr>\n",
       "    <tr>\n",
       "      <th>362</th>\n",
       "      <td>12</td>\n",
       "      <td>29</td>\n",
       "      <td>0.176116</td>\n",
       "      <td>12 - 29</td>\n",
       "    </tr>\n",
       "    <tr>\n",
       "      <th>363</th>\n",
       "      <td>12</td>\n",
       "      <td>30</td>\n",
       "      <td>0.170157</td>\n",
       "      <td>12 - 30</td>\n",
       "    </tr>\n",
       "    <tr>\n",
       "      <th>364</th>\n",
       "      <td>12</td>\n",
       "      <td>31</td>\n",
       "      <td>0.160991</td>\n",
       "      <td>12 - 31</td>\n",
       "    </tr>\n",
       "  </tbody>\n",
       "</table>\n",
       "<p>365 rows × 4 columns</p>\n",
       "</div>"
      ]
     },
     "execution_count": 13,
     "metadata": {},
     "output_type": "execute_result"
    }
   ],
   "execution_count": 13
  },
  {
   "metadata": {
    "ExecuteTime": {
     "end_time": "2025-06-30T13:18:34.112545Z",
     "start_time": "2025-06-30T13:18:34.107597Z"
    }
   },
   "cell_type": "code",
   "source": "melted",
   "id": "4a65bb479f78e739",
   "outputs": [
    {
     "data": {
      "text/plain": [
       "     season  day        zone daily_mean\n",
       "0         1    1        2023   0.158782\n",
       "1         1    2        2023   0.167537\n",
       "2         1    3        2023    0.15588\n",
       "3         1    4        2023   0.164903\n",
       "4         1    5        2023   0.174032\n",
       "..      ...  ...         ...        ...\n",
       "725      12   27  season-day    12 - 27\n",
       "726      12   28  season-day    12 - 28\n",
       "727      12   29  season-day    12 - 29\n",
       "728      12   30  season-day    12 - 30\n",
       "729      12   31  season-day    12 - 31\n",
       "\n",
       "[730 rows x 4 columns]"
      ],
      "text/html": [
       "<div>\n",
       "<style scoped>\n",
       "    .dataframe tbody tr th:only-of-type {\n",
       "        vertical-align: middle;\n",
       "    }\n",
       "\n",
       "    .dataframe tbody tr th {\n",
       "        vertical-align: top;\n",
       "    }\n",
       "\n",
       "    .dataframe thead th {\n",
       "        text-align: right;\n",
       "    }\n",
       "</style>\n",
       "<table border=\"1\" class=\"dataframe\">\n",
       "  <thead>\n",
       "    <tr style=\"text-align: right;\">\n",
       "      <th></th>\n",
       "      <th>season</th>\n",
       "      <th>day</th>\n",
       "      <th>zone</th>\n",
       "      <th>daily_mean</th>\n",
       "    </tr>\n",
       "  </thead>\n",
       "  <tbody>\n",
       "    <tr>\n",
       "      <th>0</th>\n",
       "      <td>1</td>\n",
       "      <td>1</td>\n",
       "      <td>2023</td>\n",
       "      <td>0.158782</td>\n",
       "    </tr>\n",
       "    <tr>\n",
       "      <th>1</th>\n",
       "      <td>1</td>\n",
       "      <td>2</td>\n",
       "      <td>2023</td>\n",
       "      <td>0.167537</td>\n",
       "    </tr>\n",
       "    <tr>\n",
       "      <th>2</th>\n",
       "      <td>1</td>\n",
       "      <td>3</td>\n",
       "      <td>2023</td>\n",
       "      <td>0.15588</td>\n",
       "    </tr>\n",
       "    <tr>\n",
       "      <th>3</th>\n",
       "      <td>1</td>\n",
       "      <td>4</td>\n",
       "      <td>2023</td>\n",
       "      <td>0.164903</td>\n",
       "    </tr>\n",
       "    <tr>\n",
       "      <th>4</th>\n",
       "      <td>1</td>\n",
       "      <td>5</td>\n",
       "      <td>2023</td>\n",
       "      <td>0.174032</td>\n",
       "    </tr>\n",
       "    <tr>\n",
       "      <th>...</th>\n",
       "      <td>...</td>\n",
       "      <td>...</td>\n",
       "      <td>...</td>\n",
       "      <td>...</td>\n",
       "    </tr>\n",
       "    <tr>\n",
       "      <th>725</th>\n",
       "      <td>12</td>\n",
       "      <td>27</td>\n",
       "      <td>season-day</td>\n",
       "      <td>12 - 27</td>\n",
       "    </tr>\n",
       "    <tr>\n",
       "      <th>726</th>\n",
       "      <td>12</td>\n",
       "      <td>28</td>\n",
       "      <td>season-day</td>\n",
       "      <td>12 - 28</td>\n",
       "    </tr>\n",
       "    <tr>\n",
       "      <th>727</th>\n",
       "      <td>12</td>\n",
       "      <td>29</td>\n",
       "      <td>season-day</td>\n",
       "      <td>12 - 29</td>\n",
       "    </tr>\n",
       "    <tr>\n",
       "      <th>728</th>\n",
       "      <td>12</td>\n",
       "      <td>30</td>\n",
       "      <td>season-day</td>\n",
       "      <td>12 - 30</td>\n",
       "    </tr>\n",
       "    <tr>\n",
       "      <th>729</th>\n",
       "      <td>12</td>\n",
       "      <td>31</td>\n",
       "      <td>season-day</td>\n",
       "      <td>12 - 31</td>\n",
       "    </tr>\n",
       "  </tbody>\n",
       "</table>\n",
       "<p>730 rows × 4 columns</p>\n",
       "</div>"
      ]
     },
     "execution_count": 16,
     "metadata": {},
     "output_type": "execute_result"
    }
   ],
   "execution_count": 16
  },
  {
   "metadata": {
    "ExecuteTime": {
     "end_time": "2025-06-30T13:17:15.626017Z",
     "start_time": "2025-06-30T13:17:14.975649Z"
    }
   },
   "cell_type": "code",
   "source": [
    "df_energy = df.copy()\n",
    "#df_energy['season'] = df_energy['season'].apply(lambda x: calendar.month_abbr[int(x)])\n",
    "daily_df = df_energy.groupby(['season', 'day'], as_index=False).mean(numeric_only=True).drop(columns='hour')\n",
    "daily_df['season-day'] = daily_df[\"season\"].astype(str) + \" - \" + daily_df[\"day\"].astype(str)\n",
    "\n",
    "tmp = daily_df.sort_values(['season', 'day']).copy()\n",
    "\n",
    "melted = tmp.melt(id_vars=['season', 'day'], value_vars=[col for col in tmp.columns if col not in ['zone', 'season', 'day', 'hour']],\n",
    "                  var_name='zone', value_name='daily_mean')\n",
    "\n",
    "plt.figure(figsize=(14, 6))\n",
    "sns.boxplot(data=melted, x=\"zone\", y=\"daily_mean\", hue=\"season\")\n",
    "plt.xticks(rotation=45)\n",
    "\n",
    "plt.legend(\n",
    "    title='Season',\n",
    "    bbox_to_anchor=(1.05, 1),\n",
    "    loc='upper left',\n",
    "    borderaxespad=0.,\n",
    "    frameon=False\n",
    ")\n",
    "plt.ylabel(\"\")\n",
    "plt.xlabel(\"\")\n",
    "\n",
    "# Set ymin to 0\n",
    "plt.ylim(bottom=0)\n",
    "\n",
    "# Format x-ticks to show only the zone name\n",
    "xtick_labels = [col.split('_')[1] for col in melted['zone'].unique()]\n",
    "plt.xticks(range(len(xtick_labels)), xtick_labels, rotation=45)\n",
    "\n",
    "plt.title(f\"Distribution of Daily {tech} Capacity Factor by Season and Zone\")\n",
    "plt.tight_layout()\n",
    "if path is not None:\n",
    "    plt.savefig(path, bbox_inches='tight')\n",
    "    plt.close()\n",
    "else:\n",
    "    plt.show()"
   ],
   "id": "25eba854105cd48a",
   "outputs": [
    {
     "ename": "ValueError",
     "evalue": "Unable to parse string \"1 - 1\" at position 365",
     "output_type": "error",
     "traceback": [
      "\u001B[0;31m---------------------------------------------------------------------------\u001B[0m",
      "\u001B[0;31mValueError\u001B[0m                                Traceback (most recent call last)",
      "File \u001B[0;32mlib.pyx:2391\u001B[0m, in \u001B[0;36mpandas._libs.lib.maybe_convert_numeric\u001B[0;34m()\u001B[0m\n",
      "\u001B[0;31mValueError\u001B[0m: Unable to parse string \"1 - 1\"",
      "\nDuring handling of the above exception, another exception occurred:\n",
      "\u001B[0;31mValueError\u001B[0m                                Traceback (most recent call last)",
      "Cell \u001B[0;32mIn[12], line 12\u001B[0m\n\u001B[1;32m      8\u001B[0m melted \u001B[38;5;241m=\u001B[39m tmp\u001B[38;5;241m.\u001B[39mmelt(id_vars\u001B[38;5;241m=\u001B[39m[\u001B[38;5;124m'\u001B[39m\u001B[38;5;124mseason\u001B[39m\u001B[38;5;124m'\u001B[39m, \u001B[38;5;124m'\u001B[39m\u001B[38;5;124mday\u001B[39m\u001B[38;5;124m'\u001B[39m], value_vars\u001B[38;5;241m=\u001B[39m[col \u001B[38;5;28;01mfor\u001B[39;00m col \u001B[38;5;129;01min\u001B[39;00m tmp\u001B[38;5;241m.\u001B[39mcolumns \u001B[38;5;28;01mif\u001B[39;00m col \u001B[38;5;129;01mnot\u001B[39;00m \u001B[38;5;129;01min\u001B[39;00m [\u001B[38;5;124m'\u001B[39m\u001B[38;5;124mzone\u001B[39m\u001B[38;5;124m'\u001B[39m, \u001B[38;5;124m'\u001B[39m\u001B[38;5;124mseason\u001B[39m\u001B[38;5;124m'\u001B[39m, \u001B[38;5;124m'\u001B[39m\u001B[38;5;124mday\u001B[39m\u001B[38;5;124m'\u001B[39m, \u001B[38;5;124m'\u001B[39m\u001B[38;5;124mhour\u001B[39m\u001B[38;5;124m'\u001B[39m]],\n\u001B[1;32m      9\u001B[0m                   var_name\u001B[38;5;241m=\u001B[39m\u001B[38;5;124m'\u001B[39m\u001B[38;5;124mzone\u001B[39m\u001B[38;5;124m'\u001B[39m, value_name\u001B[38;5;241m=\u001B[39m\u001B[38;5;124m'\u001B[39m\u001B[38;5;124mdaily_mean\u001B[39m\u001B[38;5;124m'\u001B[39m)\n\u001B[1;32m     11\u001B[0m plt\u001B[38;5;241m.\u001B[39mfigure(figsize\u001B[38;5;241m=\u001B[39m(\u001B[38;5;241m14\u001B[39m, \u001B[38;5;241m6\u001B[39m))\n\u001B[0;32m---> 12\u001B[0m \u001B[43msns\u001B[49m\u001B[38;5;241;43m.\u001B[39;49m\u001B[43mboxplot\u001B[49m\u001B[43m(\u001B[49m\u001B[43mdata\u001B[49m\u001B[38;5;241;43m=\u001B[39;49m\u001B[43mmelted\u001B[49m\u001B[43m,\u001B[49m\u001B[43m \u001B[49m\u001B[43mx\u001B[49m\u001B[38;5;241;43m=\u001B[39;49m\u001B[38;5;124;43m\"\u001B[39;49m\u001B[38;5;124;43mzone\u001B[39;49m\u001B[38;5;124;43m\"\u001B[39;49m\u001B[43m,\u001B[49m\u001B[43m \u001B[49m\u001B[43my\u001B[49m\u001B[38;5;241;43m=\u001B[39;49m\u001B[38;5;124;43m\"\u001B[39;49m\u001B[38;5;124;43mdaily_mean\u001B[39;49m\u001B[38;5;124;43m\"\u001B[39;49m\u001B[43m,\u001B[49m\u001B[43m \u001B[49m\u001B[43mhue\u001B[49m\u001B[38;5;241;43m=\u001B[39;49m\u001B[38;5;124;43m\"\u001B[39;49m\u001B[38;5;124;43mseason\u001B[39;49m\u001B[38;5;124;43m\"\u001B[39;49m\u001B[43m)\u001B[49m\n\u001B[1;32m     13\u001B[0m plt\u001B[38;5;241m.\u001B[39mxticks(rotation\u001B[38;5;241m=\u001B[39m\u001B[38;5;241m45\u001B[39m)\n\u001B[1;32m     15\u001B[0m plt\u001B[38;5;241m.\u001B[39mlegend(\n\u001B[1;32m     16\u001B[0m     title\u001B[38;5;241m=\u001B[39m\u001B[38;5;124m'\u001B[39m\u001B[38;5;124mSeason\u001B[39m\u001B[38;5;124m'\u001B[39m,\n\u001B[1;32m     17\u001B[0m     bbox_to_anchor\u001B[38;5;241m=\u001B[39m(\u001B[38;5;241m1.05\u001B[39m, \u001B[38;5;241m1\u001B[39m),\n\u001B[0;32m   (...)\u001B[0m\n\u001B[1;32m     20\u001B[0m     frameon\u001B[38;5;241m=\u001B[39m\u001B[38;5;28;01mFalse\u001B[39;00m\n\u001B[1;32m     21\u001B[0m )\n",
      "File \u001B[0;32m/opt/anaconda3/envs/esmap_env/lib/python3.9/site-packages/seaborn/categorical.py:1634\u001B[0m, in \u001B[0;36mboxplot\u001B[0;34m(data, x, y, hue, order, hue_order, orient, color, palette, saturation, fill, dodge, width, gap, whis, linecolor, linewidth, fliersize, hue_norm, native_scale, log_scale, formatter, legend, ax, **kwargs)\u001B[0m\n\u001B[1;32m   1627\u001B[0m color \u001B[38;5;241m=\u001B[39m _default_color(\n\u001B[1;32m   1628\u001B[0m     ax\u001B[38;5;241m.\u001B[39mfill_between, hue, color,\n\u001B[1;32m   1629\u001B[0m     {k: v \u001B[38;5;28;01mfor\u001B[39;00m k, v \u001B[38;5;129;01min\u001B[39;00m kwargs\u001B[38;5;241m.\u001B[39mitems() \u001B[38;5;28;01mif\u001B[39;00m k \u001B[38;5;129;01min\u001B[39;00m [\u001B[38;5;124m\"\u001B[39m\u001B[38;5;124mc\u001B[39m\u001B[38;5;124m\"\u001B[39m, \u001B[38;5;124m\"\u001B[39m\u001B[38;5;124mcolor\u001B[39m\u001B[38;5;124m\"\u001B[39m, \u001B[38;5;124m\"\u001B[39m\u001B[38;5;124mfc\u001B[39m\u001B[38;5;124m\"\u001B[39m, \u001B[38;5;124m\"\u001B[39m\u001B[38;5;124mfacecolor\u001B[39m\u001B[38;5;124m\"\u001B[39m]},\n\u001B[1;32m   1630\u001B[0m     saturation\u001B[38;5;241m=\u001B[39msaturation,\n\u001B[1;32m   1631\u001B[0m )\n\u001B[1;32m   1632\u001B[0m linecolor \u001B[38;5;241m=\u001B[39m p\u001B[38;5;241m.\u001B[39m_complement_color(linecolor, color, p\u001B[38;5;241m.\u001B[39m_hue_map)\n\u001B[0;32m-> 1634\u001B[0m \u001B[43mp\u001B[49m\u001B[38;5;241;43m.\u001B[39;49m\u001B[43mplot_boxes\u001B[49m\u001B[43m(\u001B[49m\n\u001B[1;32m   1635\u001B[0m \u001B[43m    \u001B[49m\u001B[43mwidth\u001B[49m\u001B[38;5;241;43m=\u001B[39;49m\u001B[43mwidth\u001B[49m\u001B[43m,\u001B[49m\n\u001B[1;32m   1636\u001B[0m \u001B[43m    \u001B[49m\u001B[43mdodge\u001B[49m\u001B[38;5;241;43m=\u001B[39;49m\u001B[43mdodge\u001B[49m\u001B[43m,\u001B[49m\n\u001B[1;32m   1637\u001B[0m \u001B[43m    \u001B[49m\u001B[43mgap\u001B[49m\u001B[38;5;241;43m=\u001B[39;49m\u001B[43mgap\u001B[49m\u001B[43m,\u001B[49m\n\u001B[1;32m   1638\u001B[0m \u001B[43m    \u001B[49m\u001B[43mfill\u001B[49m\u001B[38;5;241;43m=\u001B[39;49m\u001B[43mfill\u001B[49m\u001B[43m,\u001B[49m\n\u001B[1;32m   1639\u001B[0m \u001B[43m    \u001B[49m\u001B[43mwhis\u001B[49m\u001B[38;5;241;43m=\u001B[39;49m\u001B[43mwhis\u001B[49m\u001B[43m,\u001B[49m\n\u001B[1;32m   1640\u001B[0m \u001B[43m    \u001B[49m\u001B[43mcolor\u001B[49m\u001B[38;5;241;43m=\u001B[39;49m\u001B[43mcolor\u001B[49m\u001B[43m,\u001B[49m\n\u001B[1;32m   1641\u001B[0m \u001B[43m    \u001B[49m\u001B[43mlinecolor\u001B[49m\u001B[38;5;241;43m=\u001B[39;49m\u001B[43mlinecolor\u001B[49m\u001B[43m,\u001B[49m\n\u001B[1;32m   1642\u001B[0m \u001B[43m    \u001B[49m\u001B[43mlinewidth\u001B[49m\u001B[38;5;241;43m=\u001B[39;49m\u001B[43mlinewidth\u001B[49m\u001B[43m,\u001B[49m\n\u001B[1;32m   1643\u001B[0m \u001B[43m    \u001B[49m\u001B[43mfliersize\u001B[49m\u001B[38;5;241;43m=\u001B[39;49m\u001B[43mfliersize\u001B[49m\u001B[43m,\u001B[49m\n\u001B[1;32m   1644\u001B[0m \u001B[43m    \u001B[49m\u001B[43mplot_kws\u001B[49m\u001B[38;5;241;43m=\u001B[39;49m\u001B[43mkwargs\u001B[49m\u001B[43m,\u001B[49m\n\u001B[1;32m   1645\u001B[0m \u001B[43m\u001B[49m\u001B[43m)\u001B[49m\n\u001B[1;32m   1647\u001B[0m p\u001B[38;5;241m.\u001B[39m_add_axis_labels(ax)\n\u001B[1;32m   1648\u001B[0m p\u001B[38;5;241m.\u001B[39m_adjust_cat_axis(ax, axis\u001B[38;5;241m=\u001B[39mp\u001B[38;5;241m.\u001B[39morient)\n",
      "File \u001B[0;32m/opt/anaconda3/envs/esmap_env/lib/python3.9/site-packages/seaborn/categorical.py:631\u001B[0m, in \u001B[0;36m_CategoricalPlotter.plot_boxes\u001B[0;34m(self, width, dodge, gap, fill, whis, color, linecolor, linewidth, fliersize, plot_kws)\u001B[0m\n\u001B[1;32m    627\u001B[0m props[\u001B[38;5;124m\"\u001B[39m\u001B[38;5;124mflier\u001B[39m\u001B[38;5;124m\"\u001B[39m]\u001B[38;5;241m.\u001B[39msetdefault(\u001B[38;5;124m\"\u001B[39m\u001B[38;5;124mmarkersize\u001B[39m\u001B[38;5;124m\"\u001B[39m, fliersize)\n\u001B[1;32m    629\u001B[0m ax \u001B[38;5;241m=\u001B[39m \u001B[38;5;28mself\u001B[39m\u001B[38;5;241m.\u001B[39max\n\u001B[0;32m--> 631\u001B[0m \u001B[38;5;28;01mfor\u001B[39;00m sub_vars, sub_data \u001B[38;5;129;01min\u001B[39;00m \u001B[38;5;28mself\u001B[39m\u001B[38;5;241m.\u001B[39miter_data(iter_vars,\n\u001B[1;32m    632\u001B[0m                                          from_comp_data\u001B[38;5;241m=\u001B[39m\u001B[38;5;28;01mTrue\u001B[39;00m,\n\u001B[1;32m    633\u001B[0m                                          allow_empty\u001B[38;5;241m=\u001B[39m\u001B[38;5;28;01mFalse\u001B[39;00m):\n\u001B[1;32m    635\u001B[0m     ax \u001B[38;5;241m=\u001B[39m \u001B[38;5;28mself\u001B[39m\u001B[38;5;241m.\u001B[39m_get_axes(sub_vars)\n\u001B[1;32m    637\u001B[0m     grouped \u001B[38;5;241m=\u001B[39m sub_data\u001B[38;5;241m.\u001B[39mgroupby(\u001B[38;5;28mself\u001B[39m\u001B[38;5;241m.\u001B[39morient)[value_var]\n",
      "File \u001B[0;32m/opt/anaconda3/envs/esmap_env/lib/python3.9/site-packages/seaborn/_base.py:902\u001B[0m, in \u001B[0;36mVectorPlotter.iter_data\u001B[0;34m(self, grouping_vars, reverse, from_comp_data, by_facet, allow_empty, dropna)\u001B[0m\n\u001B[1;32m    899\u001B[0m grouping_vars \u001B[38;5;241m=\u001B[39m [var \u001B[38;5;28;01mfor\u001B[39;00m var \u001B[38;5;129;01min\u001B[39;00m grouping_vars \u001B[38;5;28;01mif\u001B[39;00m var \u001B[38;5;129;01min\u001B[39;00m \u001B[38;5;28mself\u001B[39m\u001B[38;5;241m.\u001B[39mvariables]\n\u001B[1;32m    901\u001B[0m \u001B[38;5;28;01mif\u001B[39;00m from_comp_data:\n\u001B[0;32m--> 902\u001B[0m     data \u001B[38;5;241m=\u001B[39m \u001B[38;5;28;43mself\u001B[39;49m\u001B[38;5;241;43m.\u001B[39;49m\u001B[43mcomp_data\u001B[49m\n\u001B[1;32m    903\u001B[0m \u001B[38;5;28;01melse\u001B[39;00m:\n\u001B[1;32m    904\u001B[0m     data \u001B[38;5;241m=\u001B[39m \u001B[38;5;28mself\u001B[39m\u001B[38;5;241m.\u001B[39mplot_data\n",
      "File \u001B[0;32m/opt/anaconda3/envs/esmap_env/lib/python3.9/site-packages/seaborn/_base.py:1000\u001B[0m, in \u001B[0;36mVectorPlotter.comp_data\u001B[0;34m(self)\u001B[0m\n\u001B[1;32m    995\u001B[0m \u001B[38;5;28;01mif\u001B[39;00m var \u001B[38;5;129;01min\u001B[39;00m \u001B[38;5;28mself\u001B[39m\u001B[38;5;241m.\u001B[39mvar_levels:\n\u001B[1;32m    996\u001B[0m     \u001B[38;5;66;03m# TODO this should happen in some centralized location\u001B[39;00m\n\u001B[1;32m    997\u001B[0m     \u001B[38;5;66;03m# it is similar to GH2419, but more complicated because\u001B[39;00m\n\u001B[1;32m    998\u001B[0m     \u001B[38;5;66;03m# supporting `order` in categorical plots is tricky\u001B[39;00m\n\u001B[1;32m    999\u001B[0m     orig \u001B[38;5;241m=\u001B[39m orig[orig\u001B[38;5;241m.\u001B[39misin(\u001B[38;5;28mself\u001B[39m\u001B[38;5;241m.\u001B[39mvar_levels[var])]\n\u001B[0;32m-> 1000\u001B[0m comp \u001B[38;5;241m=\u001B[39m \u001B[43mpd\u001B[49m\u001B[38;5;241;43m.\u001B[39;49m\u001B[43mto_numeric\u001B[49m\u001B[43m(\u001B[49m\u001B[43mconverter\u001B[49m\u001B[38;5;241;43m.\u001B[39;49m\u001B[43mconvert_units\u001B[49m\u001B[43m(\u001B[49m\u001B[43morig\u001B[49m\u001B[43m)\u001B[49m\u001B[43m)\u001B[49m\u001B[38;5;241m.\u001B[39mastype(\u001B[38;5;28mfloat\u001B[39m)\n\u001B[1;32m   1001\u001B[0m transform \u001B[38;5;241m=\u001B[39m converter\u001B[38;5;241m.\u001B[39mget_transform()\u001B[38;5;241m.\u001B[39mtransform\n\u001B[1;32m   1002\u001B[0m parts\u001B[38;5;241m.\u001B[39mappend(pd\u001B[38;5;241m.\u001B[39mSeries(transform(comp), orig\u001B[38;5;241m.\u001B[39mindex, name\u001B[38;5;241m=\u001B[39morig\u001B[38;5;241m.\u001B[39mname))\n",
      "File \u001B[0;32m/opt/anaconda3/envs/esmap_env/lib/python3.9/site-packages/pandas/core/tools/numeric.py:232\u001B[0m, in \u001B[0;36mto_numeric\u001B[0;34m(arg, errors, downcast, dtype_backend)\u001B[0m\n\u001B[1;32m    230\u001B[0m coerce_numeric \u001B[38;5;241m=\u001B[39m errors \u001B[38;5;129;01mnot\u001B[39;00m \u001B[38;5;129;01min\u001B[39;00m (\u001B[38;5;124m\"\u001B[39m\u001B[38;5;124mignore\u001B[39m\u001B[38;5;124m\"\u001B[39m, \u001B[38;5;124m\"\u001B[39m\u001B[38;5;124mraise\u001B[39m\u001B[38;5;124m\"\u001B[39m)\n\u001B[1;32m    231\u001B[0m \u001B[38;5;28;01mtry\u001B[39;00m:\n\u001B[0;32m--> 232\u001B[0m     values, new_mask \u001B[38;5;241m=\u001B[39m \u001B[43mlib\u001B[49m\u001B[38;5;241;43m.\u001B[39;49m\u001B[43mmaybe_convert_numeric\u001B[49m\u001B[43m(\u001B[49m\u001B[43m  \u001B[49m\u001B[38;5;66;43;03m# type: ignore[call-overload]\u001B[39;49;00m\n\u001B[1;32m    233\u001B[0m \u001B[43m        \u001B[49m\u001B[43mvalues\u001B[49m\u001B[43m,\u001B[49m\n\u001B[1;32m    234\u001B[0m \u001B[43m        \u001B[49m\u001B[38;5;28;43mset\u001B[39;49m\u001B[43m(\u001B[49m\u001B[43m)\u001B[49m\u001B[43m,\u001B[49m\n\u001B[1;32m    235\u001B[0m \u001B[43m        \u001B[49m\u001B[43mcoerce_numeric\u001B[49m\u001B[38;5;241;43m=\u001B[39;49m\u001B[43mcoerce_numeric\u001B[49m\u001B[43m,\u001B[49m\n\u001B[1;32m    236\u001B[0m \u001B[43m        \u001B[49m\u001B[43mconvert_to_masked_nullable\u001B[49m\u001B[38;5;241;43m=\u001B[39;49m\u001B[43mdtype_backend\u001B[49m\u001B[43m \u001B[49m\u001B[38;5;129;43;01mis\u001B[39;49;00m\u001B[43m \u001B[49m\u001B[38;5;129;43;01mnot\u001B[39;49;00m\u001B[43m \u001B[49m\u001B[43mlib\u001B[49m\u001B[38;5;241;43m.\u001B[39;49m\u001B[43mno_default\u001B[49m\n\u001B[1;32m    237\u001B[0m \u001B[43m        \u001B[49m\u001B[38;5;129;43;01mor\u001B[39;49;00m\u001B[43m \u001B[49m\u001B[38;5;28;43misinstance\u001B[39;49m\u001B[43m(\u001B[49m\u001B[43mvalues_dtype\u001B[49m\u001B[43m,\u001B[49m\u001B[43m \u001B[49m\u001B[43mStringDtype\u001B[49m\u001B[43m)\u001B[49m\n\u001B[1;32m    238\u001B[0m \u001B[43m        \u001B[49m\u001B[38;5;129;43;01mand\u001B[39;49;00m\u001B[43m \u001B[49m\u001B[38;5;129;43;01mnot\u001B[39;49;00m\u001B[43m \u001B[49m\u001B[43mvalues_dtype\u001B[49m\u001B[38;5;241;43m.\u001B[39;49m\u001B[43mstorage\u001B[49m\u001B[43m \u001B[49m\u001B[38;5;241;43m==\u001B[39;49m\u001B[43m \u001B[49m\u001B[38;5;124;43m\"\u001B[39;49m\u001B[38;5;124;43mpyarrow_numpy\u001B[39;49m\u001B[38;5;124;43m\"\u001B[39;49m\u001B[43m,\u001B[49m\n\u001B[1;32m    239\u001B[0m \u001B[43m    \u001B[49m\u001B[43m)\u001B[49m\n\u001B[1;32m    240\u001B[0m \u001B[38;5;28;01mexcept\u001B[39;00m (\u001B[38;5;167;01mValueError\u001B[39;00m, \u001B[38;5;167;01mTypeError\u001B[39;00m):\n\u001B[1;32m    241\u001B[0m     \u001B[38;5;28;01mif\u001B[39;00m errors \u001B[38;5;241m==\u001B[39m \u001B[38;5;124m\"\u001B[39m\u001B[38;5;124mraise\u001B[39m\u001B[38;5;124m\"\u001B[39m:\n",
      "File \u001B[0;32mlib.pyx:2433\u001B[0m, in \u001B[0;36mpandas._libs.lib.maybe_convert_numeric\u001B[0;34m()\u001B[0m\n",
      "\u001B[0;31mValueError\u001B[0m: Unable to parse string \"1 - 1\" at position 365"
     ]
    },
    {
     "data": {
      "text/plain": [
       "<Figure size 1400x600 with 1 Axes>"
      ],
      "image/png": "[encoded data removed]"
     },
     "metadata": {},
     "output_type": "display_data"
    }
   ],
   "execution_count": 12
  },
  {
   "metadata": {},
   "cell_type": "code",
   "outputs": [],
   "execution_count": null,
   "source": "",
   "id": "6d914322bc273e8d"
  }
 ],
 "metadata": {
  "kernelspec": {
   "display_name": "esmap_env",
   "language": "python",
   "name": "python3"
  },
  "language_info": {
   "codemirror_mode": {
    "name": "ipython",
    "version": 3
   },
   "file_extension": ".py",
   "mimetype": "text/x-python",
   "name": "python",
   "nbconvert_exporter": "python",
   "pygments_lexer": "ipython3",
   "version": "3.9.21"
  }
 },
 "nbformat": 4,
 "nbformat_minor": 5
}
