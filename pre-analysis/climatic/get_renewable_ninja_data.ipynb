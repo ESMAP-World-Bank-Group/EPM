{
 "cells": [
  {
   "cell_type": "markdown",
   "id": "dad8508e",
   "metadata": {},
   "source": [
    "\n",
    "# Get Renewable Ninja Data\n",
    "\n",
    "1. Extract renewables generation data from Ninja API.\n",
    "2. Visualize the data?\n",
    "\n",
    "# Installation\n",
    "It's recommended to install a conda environment based on the `requirements.txt` file to run this script.\n",
    "In order to do so, you can run the following command in your terminal: \n",
    "```bash\n",
    "conda create --name reprenv --file requirements.txt\n",
    "```\n",
    "If there are some dependencies issues because some package are not included (project is still under construction) in the `requirements.txt` file, install them manually. "
   ]
  },
  {
   "cell_type": "code",
   "id": "initial_id",
   "metadata": {
    "collapsed": true,
    "ExecuteTime": {
     "end_time": "2025-06-30T13:14:24.108826Z",
     "start_time": "2025-06-30T13:14:24.035695Z"
    }
   },
   "source": [
    "import os\n",
    "from utils_ninja import *"
   ],
   "outputs": [],
   "execution_count": 2
  },
  {
   "cell_type": "markdown",
   "id": "23627c6dcb34d999",
   "metadata": {
    "collapsed": false
   },
   "source": [
    "## User input parameters (to manually change)\n",
    "\n",
    "User needs to change the following parameters in the following cell:\n",
    "1. `name_data` : Name of the folder where data will be saved.\n",
    "2. `extract_renewables` : Whether to extract renewables data from Ninja API or not. If False, the script will use the data file provided by the user. Please note that dowloading data from Ninja API is time consuming, so do it only once. Also, there are API limits on the hourly number of downloads, so it is better to download the data once and use it multiple times.\n",
    "3. `locations` : Coordinates of the location for which the data is to be extracted. The format is (latitude, longitude).\n",
    "4. `power_types` : Types of power for which the data is to be extracted. The format is ['solar', 'wind'].\n",
    "5. `start_year` : Start year of the historical data.\n",
    "6. `end_year` : End year of the historical data.\n",
    "\n",
    "You should also update the `API_TOKEN` in `utils.py` by creating an account in Renewable Ninja. This increases the hourly request limit and is required for automated access to the API. See the official Ninja API documentation for more details."
   ]
  },
  {
   "metadata": {
    "ExecuteTime": {
     "end_time": "2025-06-30T13:14:35.234309Z",
     "start_time": "2025-06-30T13:14:35.227936Z"
    }
   },
   "cell_type": "code",
   "source": [
    "name_data = 'capp' # Name of the zone, used to name the folder where the data is stored\n",
    "\n",
    "extract_renewables = {'solar': False, 'wind': False} # Set to True to extract data from Renewables Ninja\n",
    "\n",
    "# If extract_renewables is True, fill the following variables\n",
    "# Best is to use the same zone name than the one in EPM\n",
    "# The coordinates can be found thanks to the get_renewables_coordinates.ipynb notebook\n",
    "locations = {'solar': {'Angola': (-12.4667, 15.7442),\n",
    "                       'Burundi': (-3.1479, 29.3625),\n",
    "                       'Cameroon': (9.3271, 13.3621),\n",
    "                       'CAR': (4.5167, 18.4667),\n",
    "                       'Chad': (12.0905, 15.1331),\n",
    "                       'Congo': (1.3863, 16.3364),\n",
    "                       'DRC': (-1.6414, 29.1938),\n",
    "                       'Gabon': (0.2293, 9.5315),\n",
    "                       'EquatorialGuinea': (1.6132, 10.6400),\n",
    "                       },\n",
    "             'wind': {'Angola': (-15.2198, 12.7258),\n",
    "                      'Cameroon': (4.8918, 12.3598),\n",
    "                      'Chad': (12.1232, 15.0712)}}\n",
    "\n",
    "\n",
    "start_year = 2023 # earliest year is 1980\n",
    "end_year = 2024\n"
   ],
   "id": "18ab61caa93efb5a",
   "outputs": [],
   "execution_count": 5
  },
  {
   "cell_type": "markdown",
   "id": "1a12e9ff",
   "metadata": {},
   "source": "## Create the folder structure\n"
  },
  {
   "cell_type": "code",
   "id": "c1f8a2a9c2d81704",
   "metadata": {
    "collapsed": false,
    "ExecuteTime": {
     "end_time": "2025-06-30T13:14:38.080534Z",
     "start_time": "2025-06-30T13:14:38.074917Z"
    }
   },
   "source": [
    "folder_input = 'input'\n",
    "# Make folder\n",
    "if not os.path.exists(folder_input):\n",
    "    os.makedirs(folder_input)\n",
    "    \n",
    "folder_output = 'output'\n",
    "if not os.path.exists(folder_output):\n",
    "    os.makedirs(folder_output)\n",
    "\n",
    "power_types = list(locations.keys()) # 'wind' or 'solar'\n",
    "\n",
    "print(f'Extracting data from {start_year} to {end_year} for {name_data}')"
   ],
   "outputs": [
    {
     "name": "stdout",
     "output_type": "stream",
     "text": [
      "Extracting data from 2023 to 2024 for capp\n"
     ]
    }
   ],
   "execution_count": 6
  },
  {
   "cell_type": "markdown",
   "id": "e499e8d76f214429",
   "metadata": {
    "collapsed": false
   },
   "source": [
    "## 1. Extract data from Renewables Ninja\n",
    "\n",
    "Depends on the `extract_renewables` parameter, the script will extract the data from the Ninja API or use the data file provided by the user."
   ]
  },
  {
   "cell_type": "code",
   "id": "86647d703e5cbdb2",
   "metadata": {
    "ExecuteTime": {
     "end_time": "2025-06-30T13:14:38.477044Z",
     "start_time": "2025-06-30T13:14:38.471857Z"
    }
   },
   "source": [
    "for power_type in power_types:\n",
    "    print('Processing power type {}'.format(power_type))\n",
    "    if extract_renewables[power_type]:\n",
    "        locations_power = locations[power_type]\n",
    "        get_years_renewables(locations=locations_power, power_type=power_type,\n",
    "                             start_year=start_year, end_year=end_year,\n",
    "                             name_data=name_data, output=folder_input,\n",
    "                             local_time=True)"
   ],
   "outputs": [
    {
     "name": "stdout",
     "output_type": "stream",
     "text": [
      "Processing power type solar\n",
      "Processing power type wind\n"
     ]
    }
   ],
   "execution_count": 7
  },
  {
   "cell_type": "markdown",
   "id": "255b40cabbf38de",
   "metadata": {},
   "source": "## 2. Explore and format data"
  },
  {
   "cell_type": "code",
   "id": "599dcb2b4c3c8743",
   "metadata": {
    "ExecuteTime": {
     "end_time": "2025-06-30T13:15:42.836101Z",
     "start_time": "2025-06-30T13:15:42.643212Z"
    }
   },
   "source": [
    "filenames = {'PV': os.path.join(folder_input, 'data_{}_solar.csv'.format(name_data)),\n",
    "             'Wind': os.path.join(folder_input, 'data_{}_wind.csv'.format(name_data)),\n",
    "             }\n",
    "\n",
    "df_energy = {}\n",
    "for tech, filename in filenames.items():\n",
    "    if os.path.exists(filename):\n",
    "        print(f'Loading data from {filename}')\n",
    "        df_energy[tech] = pd.read_csv(filename, index_col=None, header=[0])\n",
    "    else:\n",
    "        print(f'File {filename} does not exist. Please check the input folder.')\n",
    "\n",
    "# Make heatmaps and boxplots to explore the data\n",
    "for tech, df in df_energy.items():\n",
    "    # TODO: doesn't work for now to correct\n",
    "    make_heatmap(df, tech=tech, path=os.path.join(folder_output, f'heatmap_{tech}_{name_data}.png'))\n",
    "    make_boxplot(df, tech=tech, path=os.path.join(folder_output, f'boxplot_{tech}_{name_data}.png'))"
   ],
   "outputs": [
    {
     "name": "stdout",
     "output_type": "stream",
     "text": [
      "Loading data from input/data_capp_solar.csv\n",
      "Loading data from input/data_capp_wind.csv\n"
     ]
    },
    {
     "ename": "ValueError",
     "evalue": "could not convert string to float: '1 - 1'",
     "output_type": "error",
     "traceback": [
      "\u001B[0;31m---------------------------------------------------------------------------\u001B[0m",
      "\u001B[0;31mValueError\u001B[0m                                Traceback (most recent call last)",
      "Cell \u001B[0;32mIn[10], line 15\u001B[0m\n\u001B[1;32m     13\u001B[0m \u001B[38;5;66;03m# Make heatmaps and boxplots to explore the data\u001B[39;00m\n\u001B[1;32m     14\u001B[0m \u001B[38;5;28;01mfor\u001B[39;00m tech, df \u001B[38;5;129;01min\u001B[39;00m df_energy\u001B[38;5;241m.\u001B[39mitems():\n\u001B[0;32m---> 15\u001B[0m     \u001B[43mmake_heatmap\u001B[49m\u001B[43m(\u001B[49m\u001B[43mdf\u001B[49m\u001B[43m,\u001B[49m\u001B[43m \u001B[49m\u001B[43mtech\u001B[49m\u001B[38;5;241;43m=\u001B[39;49m\u001B[43mtech\u001B[49m\u001B[43m,\u001B[49m\u001B[43m \u001B[49m\u001B[43mpath\u001B[49m\u001B[38;5;241;43m=\u001B[39;49m\u001B[43mos\u001B[49m\u001B[38;5;241;43m.\u001B[39;49m\u001B[43mpath\u001B[49m\u001B[38;5;241;43m.\u001B[39;49m\u001B[43mjoin\u001B[49m\u001B[43m(\u001B[49m\u001B[43mfolder_output\u001B[49m\u001B[43m,\u001B[49m\u001B[43m \u001B[49m\u001B[38;5;124;43mf\u001B[39;49m\u001B[38;5;124;43m'\u001B[39;49m\u001B[38;5;124;43mheatmap_\u001B[39;49m\u001B[38;5;132;43;01m{\u001B[39;49;00m\u001B[43mtech\u001B[49m\u001B[38;5;132;43;01m}\u001B[39;49;00m\u001B[38;5;124;43m_\u001B[39;49m\u001B[38;5;132;43;01m{\u001B[39;49;00m\u001B[43mname_data\u001B[49m\u001B[38;5;132;43;01m}\u001B[39;49;00m\u001B[38;5;124;43m.png\u001B[39;49m\u001B[38;5;124;43m'\u001B[39;49m\u001B[43m)\u001B[49m\u001B[43m)\u001B[49m\n\u001B[1;32m     16\u001B[0m     make_boxplot(df, tech\u001B[38;5;241m=\u001B[39mtech, path\u001B[38;5;241m=\u001B[39mos\u001B[38;5;241m.\u001B[39mpath\u001B[38;5;241m.\u001B[39mjoin(folder_output, \u001B[38;5;124mf\u001B[39m\u001B[38;5;124m'\u001B[39m\u001B[38;5;124mboxplot_\u001B[39m\u001B[38;5;132;01m{\u001B[39;00mtech\u001B[38;5;132;01m}\u001B[39;00m\u001B[38;5;124m_\u001B[39m\u001B[38;5;132;01m{\u001B[39;00mname_data\u001B[38;5;132;01m}\u001B[39;00m\u001B[38;5;124m.png\u001B[39m\u001B[38;5;124m'\u001B[39m))\n",
      "File \u001B[0;32m~/Documents/World Bank/Projects/EPM_APPLIED/EPM_CAPP/pre-analysis/climatic/utils_ninja.py:314\u001B[0m, in \u001B[0;36mmake_heatmap\u001B[0;34m(df, tech, path)\u001B[0m\n\u001B[1;32m    312\u001B[0m \u001B[38;5;66;03m# Plot\u001B[39;00m\n\u001B[1;32m    313\u001B[0m plt\u001B[38;5;241m.\u001B[39mfigure(figsize\u001B[38;5;241m=\u001B[39m(\u001B[38;5;241m12\u001B[39m, \u001B[38;5;241m6\u001B[39m))\n\u001B[0;32m--> 314\u001B[0m \u001B[43msns\u001B[49m\u001B[38;5;241;43m.\u001B[39;49m\u001B[43mheatmap\u001B[49m\u001B[43m(\u001B[49m\u001B[43mheatmap_data\u001B[49m\u001B[38;5;241;43m.\u001B[39;49m\u001B[43mT\u001B[49m\u001B[43m,\u001B[49m\u001B[43m \u001B[49m\u001B[43mcmap\u001B[49m\u001B[38;5;241;43m=\u001B[39;49m\u001B[38;5;124;43m'\u001B[39;49m\u001B[38;5;124;43mYlGnBu\u001B[39;49m\u001B[38;5;124;43m'\u001B[39;49m\u001B[43m,\u001B[49m\u001B[43m \u001B[49m\u001B[43mxticklabels\u001B[49m\u001B[38;5;241;43m=\u001B[39;49m\u001B[38;5;28;43;01mFalse\u001B[39;49;00m\u001B[43m)\u001B[49m\n\u001B[1;32m    316\u001B[0m \u001B[38;5;66;03m# Custom x-ticks with season only\u001B[39;00m\n\u001B[1;32m    317\u001B[0m plt\u001B[38;5;241m.\u001B[39mxticks(ticks\u001B[38;5;241m=\u001B[39mx_positions, labels\u001B[38;5;241m=\u001B[39mx_labels, rotation\u001B[38;5;241m=\u001B[39m\u001B[38;5;241m0\u001B[39m)\n",
      "File \u001B[0;32m/opt/anaconda3/envs/esmap_env/lib/python3.9/site-packages/seaborn/matrix.py:446\u001B[0m, in \u001B[0;36mheatmap\u001B[0;34m(data, vmin, vmax, cmap, center, robust, annot, fmt, annot_kws, linewidths, linecolor, cbar, cbar_kws, cbar_ax, square, xticklabels, yticklabels, mask, ax, **kwargs)\u001B[0m\n\u001B[1;32m    365\u001B[0m \u001B[38;5;250m\u001B[39m\u001B[38;5;124;03m\"\"\"Plot rectangular data as a color-encoded matrix.\u001B[39;00m\n\u001B[1;32m    366\u001B[0m \n\u001B[1;32m    367\u001B[0m \u001B[38;5;124;03mThis is an Axes-level function and will draw the heatmap into the\u001B[39;00m\n\u001B[0;32m   (...)\u001B[0m\n\u001B[1;32m    443\u001B[0m \n\u001B[1;32m    444\u001B[0m \u001B[38;5;124;03m\"\"\"\u001B[39;00m\n\u001B[1;32m    445\u001B[0m \u001B[38;5;66;03m# Initialize the plotter object\u001B[39;00m\n\u001B[0;32m--> 446\u001B[0m plotter \u001B[38;5;241m=\u001B[39m \u001B[43m_HeatMapper\u001B[49m\u001B[43m(\u001B[49m\u001B[43mdata\u001B[49m\u001B[43m,\u001B[49m\u001B[43m \u001B[49m\u001B[43mvmin\u001B[49m\u001B[43m,\u001B[49m\u001B[43m \u001B[49m\u001B[43mvmax\u001B[49m\u001B[43m,\u001B[49m\u001B[43m \u001B[49m\u001B[43mcmap\u001B[49m\u001B[43m,\u001B[49m\u001B[43m \u001B[49m\u001B[43mcenter\u001B[49m\u001B[43m,\u001B[49m\u001B[43m \u001B[49m\u001B[43mrobust\u001B[49m\u001B[43m,\u001B[49m\u001B[43m \u001B[49m\u001B[43mannot\u001B[49m\u001B[43m,\u001B[49m\u001B[43m \u001B[49m\u001B[43mfmt\u001B[49m\u001B[43m,\u001B[49m\n\u001B[1;32m    447\u001B[0m \u001B[43m                      \u001B[49m\u001B[43mannot_kws\u001B[49m\u001B[43m,\u001B[49m\u001B[43m \u001B[49m\u001B[43mcbar\u001B[49m\u001B[43m,\u001B[49m\u001B[43m \u001B[49m\u001B[43mcbar_kws\u001B[49m\u001B[43m,\u001B[49m\u001B[43m \u001B[49m\u001B[43mxticklabels\u001B[49m\u001B[43m,\u001B[49m\n\u001B[1;32m    448\u001B[0m \u001B[43m                      \u001B[49m\u001B[43myticklabels\u001B[49m\u001B[43m,\u001B[49m\u001B[43m \u001B[49m\u001B[43mmask\u001B[49m\u001B[43m)\u001B[49m\n\u001B[1;32m    450\u001B[0m \u001B[38;5;66;03m# Add the pcolormesh kwargs here\u001B[39;00m\n\u001B[1;32m    451\u001B[0m kwargs[\u001B[38;5;124m\"\u001B[39m\u001B[38;5;124mlinewidths\u001B[39m\u001B[38;5;124m\"\u001B[39m] \u001B[38;5;241m=\u001B[39m linewidths\n",
      "File \u001B[0;32m/opt/anaconda3/envs/esmap_env/lib/python3.9/site-packages/seaborn/matrix.py:163\u001B[0m, in \u001B[0;36m_HeatMapper.__init__\u001B[0;34m(self, data, vmin, vmax, cmap, center, robust, annot, fmt, annot_kws, cbar, cbar_kws, xticklabels, yticklabels, mask)\u001B[0m\n\u001B[1;32m    160\u001B[0m \u001B[38;5;28mself\u001B[39m\u001B[38;5;241m.\u001B[39mylabel \u001B[38;5;241m=\u001B[39m ylabel \u001B[38;5;28;01mif\u001B[39;00m ylabel \u001B[38;5;129;01mis\u001B[39;00m \u001B[38;5;129;01mnot\u001B[39;00m \u001B[38;5;28;01mNone\u001B[39;00m \u001B[38;5;28;01melse\u001B[39;00m \u001B[38;5;124m\"\u001B[39m\u001B[38;5;124m\"\u001B[39m\n\u001B[1;32m    162\u001B[0m \u001B[38;5;66;03m# Determine good default values for the colormapping\u001B[39;00m\n\u001B[0;32m--> 163\u001B[0m \u001B[38;5;28;43mself\u001B[39;49m\u001B[38;5;241;43m.\u001B[39;49m\u001B[43m_determine_cmap_params\u001B[49m\u001B[43m(\u001B[49m\u001B[43mplot_data\u001B[49m\u001B[43m,\u001B[49m\u001B[43m \u001B[49m\u001B[43mvmin\u001B[49m\u001B[43m,\u001B[49m\u001B[43m \u001B[49m\u001B[43mvmax\u001B[49m\u001B[43m,\u001B[49m\n\u001B[1;32m    164\u001B[0m \u001B[43m                            \u001B[49m\u001B[43mcmap\u001B[49m\u001B[43m,\u001B[49m\u001B[43m \u001B[49m\u001B[43mcenter\u001B[49m\u001B[43m,\u001B[49m\u001B[43m \u001B[49m\u001B[43mrobust\u001B[49m\u001B[43m)\u001B[49m\n\u001B[1;32m    166\u001B[0m \u001B[38;5;66;03m# Sort out the annotations\u001B[39;00m\n\u001B[1;32m    167\u001B[0m \u001B[38;5;28;01mif\u001B[39;00m annot \u001B[38;5;129;01mis\u001B[39;00m \u001B[38;5;28;01mNone\u001B[39;00m \u001B[38;5;129;01mor\u001B[39;00m annot \u001B[38;5;129;01mis\u001B[39;00m \u001B[38;5;28;01mFalse\u001B[39;00m:\n",
      "File \u001B[0;32m/opt/anaconda3/envs/esmap_env/lib/python3.9/site-packages/seaborn/matrix.py:197\u001B[0m, in \u001B[0;36m_HeatMapper._determine_cmap_params\u001B[0;34m(self, plot_data, vmin, vmax, cmap, center, robust)\u001B[0m\n\u001B[1;32m    194\u001B[0m \u001B[38;5;250m\u001B[39m\u001B[38;5;124;03m\"\"\"Use some heuristics to set good defaults for colorbar and range.\"\"\"\u001B[39;00m\n\u001B[1;32m    196\u001B[0m \u001B[38;5;66;03m# plot_data is a np.ma.array instance\u001B[39;00m\n\u001B[0;32m--> 197\u001B[0m calc_data \u001B[38;5;241m=\u001B[39m \u001B[43mplot_data\u001B[49m\u001B[38;5;241;43m.\u001B[39;49m\u001B[43mastype\u001B[49m\u001B[43m(\u001B[49m\u001B[38;5;28;43mfloat\u001B[39;49m\u001B[43m)\u001B[49m\u001B[38;5;241m.\u001B[39mfilled(np\u001B[38;5;241m.\u001B[39mnan)\n\u001B[1;32m    198\u001B[0m \u001B[38;5;28;01mif\u001B[39;00m vmin \u001B[38;5;129;01mis\u001B[39;00m \u001B[38;5;28;01mNone\u001B[39;00m:\n\u001B[1;32m    199\u001B[0m     \u001B[38;5;28;01mif\u001B[39;00m robust:\n",
      "\u001B[0;31mValueError\u001B[0m: could not convert string to float: '1 - 1'"
     ]
    },
    {
     "data": {
      "text/plain": [
       "<Figure size 1200x600 with 0 Axes>"
      ]
     },
     "metadata": {},
     "output_type": "display_data"
    }
   ],
   "execution_count": 10
  }
 ],
 "metadata": {
  "kernelspec": {
   "display_name": "esmap_env",
   "language": "python",
   "name": "python3"
  },
  "language_info": {
   "codemirror_mode": {
    "name": "ipython",
    "version": 3
   },
   "file_extension": ".py",
   "mimetype": "text/x-python",
   "name": "python",
   "nbconvert_exporter": "python",
   "pygments_lexer": "ipython3",
   "version": "3.9.21"
  }
 },
 "nbformat": 4,
 "nbformat_minor": 5
}
