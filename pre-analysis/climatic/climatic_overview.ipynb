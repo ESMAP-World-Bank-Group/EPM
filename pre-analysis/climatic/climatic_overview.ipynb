{
 "cells": [
  {
   "metadata": {},
   "cell_type": "markdown",
   "source": [
    "# Climate Overview for Energy Modelling\n",
    "\n",
    "Initial step to perform energy modelling is to get an overview of the climate data available for the region of interest. This notebook provides a guide to download and process ERA5-Land monthly data using the CDS API.\n",
    "\n",
    "\n",
    "## 0. Getting ERA5-Land monthly via Python API\n",
    "\n",
    "> You need to install the `cdsapi` package to use this notebook.\n",
    "\n",
    "You can install it using `pip install cdsapi`, but you also need to register on the [Climate Data Store](https://cds.climate.copernicus.eu/api-how-to) and get your API key.\n",
    "You need to do that only once, and it is valid for all future downloads.\n",
    "\n",
    "The key should be saved in the `~/.cdsapirc` file in your home directory, but everything is explained in the link above.\n"
   ],
   "id": "2289ccbfdea1c99f"
  },
  {
   "metadata": {
    "collapsed": true,
    "ExecuteTime": {
     "end_time": "2025-06-26T15:48:39.199191Z",
     "start_time": "2025-06-26T15:48:39.195405Z"
    }
   },
   "cell_type": "code",
   "source": [
    "import cdsapi\n",
    "import timeit\n",
    "import os\n",
    "from utils_climatic import *\n",
    "import xarray as xr\n",
    "import zipfile\n",
    "from matplotlib import pyplot as plt\n",
    "import pandas as pd\n",
    "import matplotlib.pyplot as plt\n",
    "import seaborn as sns\n",
    "import calendar"
   ],
   "id": "initial_id",
   "outputs": [],
   "execution_count": 38
  },
  {
   "metadata": {},
   "cell_type": "markdown",
   "source": [
    "### 1. Fill in the parameters\n",
    "\n",
    "You only need to fill 3 information below to download the data and extract you need.\n",
    "\n",
    "1. Define the region of interest using ISO A2 codes within the `ISO_A2` list.\n",
    "2. Specify the start and end years for the data collection.\n",
    "3. List the variables you want to download from the ERA5-Land dataset in the `variables_list`."
   ],
   "id": "8cc6a26a1c824a1e"
  },
  {
   "metadata": {
    "ExecuteTime": {
     "end_time": "2025-06-26T15:48:39.545746Z",
     "start_time": "2025-06-26T15:48:39.541994Z"
    }
   },
   "cell_type": "code",
   "source": [
    "ISO_A2 = ['AO', 'BI', 'CM', 'CF', 'TD', 'CG', 'CD', 'GQ', 'GA', 'ST']\n",
    "ISO_A2 = ['AO', 'BW', 'CD', 'SZ', 'LS', 'MW', 'MZ', 'NA', 'ZA', 'TZ', 'ZM', 'ZW']\n",
    "start_year, end_year = 1950, 2025                                           # from 1950\n",
    "\n",
    "variables_list = ['2m_temperature',\n",
    "                  'total_precipitation'\n",
    "                 ]# to present year"
   ],
   "id": "106aa0208d553fa6",
   "outputs": [],
   "execution_count": 39
  },
  {
   "metadata": {},
   "cell_type": "markdown",
   "source": [
    "#### Processing parameters\n",
    "- Prepare the folder structure\n",
    "- Data will be downloaded in the `climatic/era5_api` folder\n",
    "- Extracted data will be saved in the `climatic/era5_extract` folder\n",
    "- Output data will be saved in the `climatic/output` folder\n",
    "- Data will be downloaded from the ERA5-Land monthly means dataset"
   ],
   "id": "d24febfedc3f3ef6"
  },
  {
   "metadata": {
    "ExecuteTime": {
     "end_time": "2025-06-26T15:48:40.948877Z",
     "start_time": "2025-06-26T15:48:40.054464Z"
    }
   },
   "cell_type": "code",
   "source": [
    "\n",
    "# Create folder structure\n",
    "folder_input = 'input'\n",
    "if not os.path.exists(folder_input): os.mkdir(folder_input)\n",
    "folder_api = os.path.join(folder_input, 'era5_api')\n",
    "if not os.path.exists(folder_api): os.mkdir(folder_api)\n",
    "folder_extract = os.path.join(folder_input, 'era5_extract')\n",
    "if not os.path.exists(folder_extract): os.mkdir(folder_extract)\n",
    "folder_output = 'output'\n",
    "if not os.path.exists(folder_output): os.mkdir(folder_output)\n",
    "folder_output = os.path.join(folder_output, '_'.join(ISO_A2))\n",
    "if not os.path.exists(folder_output): os.mkdir(folder_output)\n",
    "\n",
    "# Define the dataset\n",
    "dataset_name = 'reanalysis-era5-land-monthly-means'# 'reanalysis-era5-land'\n",
    "\n",
    "# Define the API client variable\n",
    "variable_name = {\n",
    "    'total_precipitation': 'tp',\n",
    "    'surface_runoff': 'sro',\n",
    "    'runoff': 'ro',\n",
    "    'snow_depth_water_equivalent': 'sd',\n",
    "    '2m_temperature': 't2m',\n",
    "    'potential_evaporation': 'pev',\n",
    "    'total_evaporation': 'e'\n",
    "}\n",
    "\n",
    "#\n",
    "temp = '_'.join([variable_name[variable] for variable in variables_list])\n",
    "downloaded_files = {iso: f'{dataset_name}_{iso}_{start_year}_{end_year}_{temp}.zip' for iso in ISO_A2}\n",
    "downloaded_files = {iso: os.path.join(folder_api, file) for iso, file in downloaded_files.items()}\n",
    "print(f'Files will be download in: {folder_api}, files: {downloaded_files}')\n",
    "\n",
    "# Define the bounding box for each ISO A2 code\n",
    "locations = {iso: get_bbox(iso) for iso in ISO_A2}\n",
    "print(f'Locations: {locations}')"
   ],
   "id": "ee58d3da3ed64b66",
   "outputs": [
    {
     "name": "stdout",
     "output_type": "stream",
     "text": [
      "Files will be download in: input/era5_api, files: {'AO': 'input/era5_api/reanalysis-era5-land-monthly-means_AO_1950_2025_t2m_tp.zip', 'BW': 'input/era5_api/reanalysis-era5-land-monthly-means_BW_1950_2025_t2m_tp.zip', 'CD': 'input/era5_api/reanalysis-era5-land-monthly-means_CD_1950_2025_t2m_tp.zip', 'SZ': 'input/era5_api/reanalysis-era5-land-monthly-means_SZ_1950_2025_t2m_tp.zip', 'LS': 'input/era5_api/reanalysis-era5-land-monthly-means_LS_1950_2025_t2m_tp.zip', 'MW': 'input/era5_api/reanalysis-era5-land-monthly-means_MW_1950_2025_t2m_tp.zip', 'MZ': 'input/era5_api/reanalysis-era5-land-monthly-means_MZ_1950_2025_t2m_tp.zip', 'NA': 'input/era5_api/reanalysis-era5-land-monthly-means_NA_1950_2025_t2m_tp.zip', 'ZA': 'input/era5_api/reanalysis-era5-land-monthly-means_ZA_1950_2025_t2m_tp.zip', 'TZ': 'input/era5_api/reanalysis-era5-land-monthly-means_TZ_1950_2025_t2m_tp.zip', 'ZM': 'input/era5_api/reanalysis-era5-land-monthly-means_ZM_1950_2025_t2m_tp.zip', 'ZW': 'input/era5_api/reanalysis-era5-land-monthly-means_ZW_1950_2025_t2m_tp.zip'}\n",
      "Locations: {'AO': (11.66939414300009, -18.031404723999884, 24.061714315000103, -4.391203714999932), 'BW': (19.978345988000115, -26.891794127999987, 29.350073689000055, -17.781807555999947), 'CD': (12.210541212000066, -13.45835052399994, 31.280446818000087, 5.375280253000085), 'SZ': (30.782906128000093, -27.31626434299993, 32.11739831600005, -25.735999043999954), 'LS': (27.002154989000132, -30.658799335999916, 29.435908244000075, -28.570761413999975), 'MW': (32.66330814700012, -17.135335387999902, 35.90429895000011, -9.381235046999876), 'MZ': (30.21384525500008, -26.86027150399994, 40.847992384000065, -10.469008070999905), 'NA': (11.717621290000068, -28.959368183999885, 25.259780721000112, -16.951057230999936), 'ZA': (16.469981316000087, -46.96575286299992, 37.97779381600009, -22.126451924999927), 'TZ': (29.32103153500009, -11.73127248199998, 40.44939212300005, -0.9858301799998799), 'ZM': (21.97987756300006, -18.069231871999946, 33.67420251500005, -8.194124042999917), 'ZW': (25.219369751000045, -22.39733978299992, 33.04276818900013, -15.614808044999876)}\n"
     ]
    }
   ],
   "execution_count": 40
  },
  {
   "metadata": {},
   "cell_type": "markdown",
   "source": [
    "### 2. Automatic download from the API Climate Data Store\n",
    "\n",
    "By default, the data will be downloaded in the `climatic/era5_api` folder. If you want to change the folder, please change the `folder_api` variable above.\n",
    "It will be downloaded as a zip file including `.grib`files. Includes all monthly means for the specified period."
   ],
   "id": "4175f01ed86f889"
  },
  {
   "metadata": {
    "ExecuteTime": {
     "end_time": "2025-06-26T16:22:30.263615Z",
     "start_time": "2025-06-26T15:48:41.647552Z"
    }
   },
   "cell_type": "code",
   "source": [
    "years = [ str(start_year +i ) for i in range(end_year - start_year + 1)]\n",
    "\n",
    "# Create folder if not exists\n",
    "if not os.path.exists(folder_api): os.mkdir(folder_api)\n",
    "\n",
    "for (iso, (long_west, lat_south, long_east, lat_north)) in locations.items():\n",
    "\n",
    "    downloaded_file = downloaded_files[iso]\n",
    "\n",
    "    print(f'Processing {iso} with bbox: {long_west}, {lat_south}, {long_east}, {lat_north}')\n",
    "    if not os.path.exists(downloaded_file):\n",
    "        print('Process started. Please wait the ending message ... ')\n",
    "        start = timeit.default_timer()\n",
    "        c = cdsapi.Client()\n",
    "\n",
    "        c.retrieve(\n",
    "            dataset_name,\n",
    "            {\n",
    "                #'format': 'netcdf',\n",
    "                'format': 'grib',\n",
    "                'product_type': 'monthly_averaged_reanalysis',\n",
    "                'variable': variables_list,\n",
    "                'year': years,\n",
    "                'month': [ '01', '02', '03', '04', '05', '06', '07', '08', '09', '10', '11', '12' ],\n",
    "                'time': '00:00',\n",
    "                'area': [ lat_south, long_west, lat_north, long_east ],\n",
    "            }, downloaded_file\n",
    "            )\n",
    "\n",
    "        stop = timeit.default_timer()\n",
    "        print('Process completed in ', (stop - start)/60, ' minutes')\n",
    "    else:\n",
    "        print('File already exists.')"
   ],
   "id": "e947a3c2e2008ef",
   "outputs": [
    {
     "name": "stderr",
     "output_type": "stream",
     "text": [
      "2025-06-26 17:48:41,733 WARNING [2025-06-23T00:00:00] Scheduled System Session affecting Service reliability - 30 June 2025. Please follow status [here](https://status.ecmwf.int/) or in our [forum](https://forum.ecmwf.int/t/scheduled-maintenance-of-the-cloud-infrastructure-on-30-june-2025/13598)\n",
      "2025-06-26 17:48:41,734 INFO [2025-06-16T00:00:00] CC-BY licence to replace Licence to use Copernicus Products on 02 July 2025. More information available [here](https://forum.ecmwf.int/t/cc-by-licence-to-replace-licence-to-use-copernicus-products-on-02-july-2025/13464)\n",
      "2025-06-26 17:48:41,734 INFO [2025-06-10T00:00:00] To improve our C3S service, we need to hear from you! Please complete this very short [survey](https://confluence.ecmwf.int/x/E7uBEQ/). Thank you.\n",
      "2025-06-26 17:48:41,735 INFO [2024-09-26T00:00:00] Watch our [Forum](https://forum.ecmwf.int/) for Announcements, news and other discussed topics.\n"
     ]
    },
    {
     "name": "stdout",
     "output_type": "stream",
     "text": [
      "Processing AO with bbox: 11.66939414300009, -18.031404723999884, 24.061714315000103, -4.391203714999932\n",
      "File already exists.\n",
      "Processing BW with bbox: 19.978345988000115, -26.891794127999987, 29.350073689000055, -17.781807555999947\n",
      "File already exists.\n",
      "Processing CD with bbox: 12.210541212000066, -13.45835052399994, 31.280446818000087, 5.375280253000085\n",
      "File already exists.\n",
      "Processing SZ with bbox: 30.782906128000093, -27.31626434299993, 32.11739831600005, -25.735999043999954\n",
      "File already exists.\n",
      "Processing LS with bbox: 27.002154989000132, -30.658799335999916, 29.435908244000075, -28.570761413999975\n",
      "File already exists.\n",
      "Processing MW with bbox: 32.66330814700012, -17.135335387999902, 35.90429895000011, -9.381235046999876\n",
      "File already exists.\n",
      "Processing MZ with bbox: 30.21384525500008, -26.86027150399994, 40.847992384000065, -10.469008070999905\n",
      "File already exists.\n",
      "Processing NA with bbox: 11.717621290000068, -28.959368183999885, 25.259780721000112, -16.951057230999936\n",
      "Process started. Please wait the ending message ... \n"
     ]
    },
    {
     "name": "stderr",
     "output_type": "stream",
     "text": [
      "2025-06-26 17:48:41,992 INFO Request ID is 74a0ae16-97db-478d-a92a-21a9d5959d63\n",
      "2025-06-26 17:48:42,112 INFO status has been updated to accepted\n",
      "2025-06-26 17:55:01,888 INFO status has been updated to successful\n",
      "2025-06-26 17:55:03,485 WARNING [2025-06-23T00:00:00] Scheduled System Session affecting Service reliability - 30 June 2025. Please follow status [here](https://status.ecmwf.int/) or in our [forum](https://forum.ecmwf.int/t/scheduled-maintenance-of-the-cloud-infrastructure-on-30-june-2025/13598)\n",
      "2025-06-26 17:55:03,486 INFO [2025-06-16T00:00:00] CC-BY licence to replace Licence to use Copernicus Products on 02 July 2025. More information available [here](https://forum.ecmwf.int/t/cc-by-licence-to-replace-licence-to-use-copernicus-products-on-02-july-2025/13464)\n",
      "2025-06-26 17:55:03,486 INFO [2025-06-10T00:00:00] To improve our C3S service, we need to hear from you! Please complete this very short [survey](https://confluence.ecmwf.int/x/E7uBEQ/). Thank you.\n",
      "2025-06-26 17:55:03,486 INFO [2024-09-26T00:00:00] Watch our [Forum](https://forum.ecmwf.int/) for Announcements, news and other discussed topics.\n"
     ]
    },
    {
     "name": "stdout",
     "output_type": "stream",
     "text": [
      "Process completed in  6.362161024298985  minutes\n",
      "Processing ZA with bbox: 16.469981316000087, -46.96575286299992, 37.97779381600009, -22.126451924999927\n",
      "Process started. Please wait the ending message ... \n"
     ]
    },
    {
     "name": "stderr",
     "output_type": "stream",
     "text": [
      "2025-06-26 17:55:03,897 INFO Request ID is 5db06901-81a4-427a-b29b-bae4d4ba0c7f\n",
      "2025-06-26 17:55:03,958 INFO status has been updated to accepted\n",
      "2025-06-26 17:55:25,305 INFO status has been updated to running\n",
      "2025-06-26 18:01:23,263 INFO status has been updated to successful\n",
      "2025-06-26 18:01:27,686 WARNING [2025-06-23T00:00:00] Scheduled System Session affecting Service reliability - 30 June 2025. Please follow status [here](https://status.ecmwf.int/) or in our [forum](https://forum.ecmwf.int/t/scheduled-maintenance-of-the-cloud-infrastructure-on-30-june-2025/13598)\n",
      "2025-06-26 18:01:27,686 INFO [2025-06-16T00:00:00] CC-BY licence to replace Licence to use Copernicus Products on 02 July 2025. More information available [here](https://forum.ecmwf.int/t/cc-by-licence-to-replace-licence-to-use-copernicus-products-on-02-july-2025/13464)\n",
      "2025-06-26 18:01:27,687 INFO [2025-06-10T00:00:00] To improve our C3S service, we need to hear from you! Please complete this very short [survey](https://confluence.ecmwf.int/x/E7uBEQ/). Thank you.\n",
      "2025-06-26 18:01:27,687 INFO [2024-09-26T00:00:00] Watch our [Forum](https://forum.ecmwf.int/) for Announcements, news and other discussed topics.\n"
     ]
    },
    {
     "name": "stdout",
     "output_type": "stream",
     "text": [
      "Process completed in  6.403207951382501  minutes\n",
      "Processing TZ with bbox: 29.32103153500009, -11.73127248199998, 40.44939212300005, -0.9858301799998799\n",
      "Process started. Please wait the ending message ... \n"
     ]
    },
    {
     "name": "stderr",
     "output_type": "stream",
     "text": [
      "2025-06-26 18:01:27,828 INFO Request ID is 83612ab6-5d13-4ff4-aec3-1eb65d6a8630\n",
      "2025-06-26 18:01:27,898 INFO status has been updated to accepted\n",
      "2025-06-26 18:01:33,144 INFO status has been updated to running\n",
      "2025-06-26 18:09:47,510 INFO status has been updated to successful\n",
      "2025-06-26 18:09:48,835 WARNING [2025-06-23T00:00:00] Scheduled System Session affecting Service reliability - 30 June 2025. Please follow status [here](https://status.ecmwf.int/) or in our [forum](https://forum.ecmwf.int/t/scheduled-maintenance-of-the-cloud-infrastructure-on-30-june-2025/13598)\n",
      "2025-06-26 18:09:48,835 INFO [2025-06-16T00:00:00] CC-BY licence to replace Licence to use Copernicus Products on 02 July 2025. More information available [here](https://forum.ecmwf.int/t/cc-by-licence-to-replace-licence-to-use-copernicus-products-on-02-july-2025/13464)\n",
      "2025-06-26 18:09:48,836 INFO [2025-06-10T00:00:00] To improve our C3S service, we need to hear from you! Please complete this very short [survey](https://confluence.ecmwf.int/x/E7uBEQ/). Thank you.\n",
      "2025-06-26 18:09:48,836 INFO [2024-09-26T00:00:00] Watch our [Forum](https://forum.ecmwf.int/) for Announcements, news and other discussed topics.\n"
     ]
    },
    {
     "name": "stdout",
     "output_type": "stream",
     "text": [
      "Process completed in  8.352843281250292  minutes\n",
      "Processing ZM with bbox: 21.97987756300006, -18.069231871999946, 33.67420251500005, -8.194124042999917\n",
      "Process started. Please wait the ending message ... \n"
     ]
    },
    {
     "name": "stderr",
     "output_type": "stream",
     "text": [
      "2025-06-26 18:09:49,622 INFO Request ID is c75df783-7837-4ad2-923a-b24f5da44891\n",
      "2025-06-26 18:09:49,702 INFO status has been updated to accepted\n",
      "2025-06-26 18:10:10,868 INFO status has been updated to running\n",
      "2025-06-26 18:16:08,324 INFO status has been updated to successful\n",
      "2025-06-26 18:16:09,598 WARNING [2025-06-23T00:00:00] Scheduled System Session affecting Service reliability - 30 June 2025. Please follow status [here](https://status.ecmwf.int/) or in our [forum](https://forum.ecmwf.int/t/scheduled-maintenance-of-the-cloud-infrastructure-on-30-june-2025/13598)\n",
      "2025-06-26 18:16:09,599 INFO [2025-06-16T00:00:00] CC-BY licence to replace Licence to use Copernicus Products on 02 July 2025. More information available [here](https://forum.ecmwf.int/t/cc-by-licence-to-replace-licence-to-use-copernicus-products-on-02-july-2025/13464)\n",
      "2025-06-26 18:16:09,599 INFO [2025-06-10T00:00:00] To improve our C3S service, we need to hear from you! Please complete this very short [survey](https://confluence.ecmwf.int/x/E7uBEQ/). Thank you.\n",
      "2025-06-26 18:16:09,600 INFO [2024-09-26T00:00:00] Watch our [Forum](https://forum.ecmwf.int/) for Announcements, news and other discussed topics.\n"
     ]
    },
    {
     "name": "stdout",
     "output_type": "stream",
     "text": [
      "Process completed in  6.345986221534743  minutes\n",
      "Processing ZW with bbox: 25.219369751000045, -22.39733978299992, 33.04276818900013, -15.614808044999876\n",
      "Process started. Please wait the ending message ... \n"
     ]
    },
    {
     "name": "stderr",
     "output_type": "stream",
     "text": [
      "2025-06-26 18:16:09,820 INFO Request ID is acec5420-d879-478c-b3b9-725381dd620b\n",
      "2025-06-26 18:16:09,877 INFO status has been updated to accepted\n",
      "2025-06-26 18:16:18,501 INFO status has been updated to running\n",
      "2025-06-26 18:22:29,350 INFO status has been updated to successful\n",
      "                                                                                          "
     ]
    },
    {
     "name": "stdout",
     "output_type": "stream",
     "text": [
      "Process completed in  6.346141703465643  minutes\n"
     ]
    },
    {
     "name": "stderr",
     "output_type": "stream",
     "text": [
      "\r"
     ]
    }
   ],
   "execution_count": 41
  },
  {
   "metadata": {},
   "cell_type": "markdown",
   "source": "### 3. Extracting and formatting the data",
   "id": "7c76644b075c1b88"
  },
  {
   "metadata": {
    "ExecuteTime": {
     "end_time": "2025-06-26T16:24:14.577458Z",
     "start_time": "2025-06-26T16:23:38.362452Z"
    }
   },
   "cell_type": "code",
   "source": [
    "dataset = {}\n",
    "for iso, downloaded_file in downloaded_files.items():\n",
    "    print(f'Processing {iso} with file: {downloaded_file}')\n",
    "    data = extract_data(downloaded_file, step_type=True, extract_to=folder_extract)\n",
    "\n",
    "    # Calculate resolution and add units\n",
    "    calculate_resolution_netcdf(data, lat_name='latitude', lon_name='longitude')\n",
    "\n",
    "    for var in data.data_vars:\n",
    "        print(f\"{var}: {data[var].attrs['units']}\")\n",
    "\n",
    "    # Convert units if necessary\n",
    "    data = convert_dataset_units(data)\n",
    "\n",
    "    # Export transformed data to NetCDF for future analysis\n",
    "    data.to_netcdf(os.path.join(folder_output, f\"{ os.path.splitext(os.path.basename(downloaded_file))[0]}.nc\"))\n",
    "\n",
    "    dataset.update({iso: data})\n"
   ],
   "id": "6d1bf08b287b8058",
   "outputs": [
    {
     "name": "stdout",
     "output_type": "stream",
     "text": [
      "Processing AO with file: input/era5_api/reanalysis-era5-land-monthly-means_AO_1950_2025_t2m_tp.zip\n",
      "Opening GRIB file: input/era5_extract/reanalysis-era5-land-monthly-means_AO_1950_2025_t2m_tp.grib\n",
      "Opening GRIB file: input/era5_extract/reanalysis-era5-land-monthly-means_AO_1950_2025_t2m_tp.grib\n",
      "Spatial resolution: 0.10000813008130116° lon x -0.09999999999999964° lat\n",
      "Approximate spatial resolution:\n",
      "10.89 km (lon_name) x -11.10 km (lat_name) at -11.23° lat\n",
      "Temporal resolution: 31 days\n",
      "t2m: K\n",
      "tp: m\n",
      "Processing BW with file: input/era5_api/reanalysis-era5-land-monthly-means_BW_1950_2025_t2m_tp.zip\n",
      "Opening GRIB file: input/era5_extract/reanalysis-era5-land-monthly-means_BW_1950_2025_t2m_tp.grib\n",
      "Opening GRIB file: input/era5_extract/reanalysis-era5-land-monthly-means_BW_1950_2025_t2m_tp.grib\n",
      "Spatial resolution: 0.10001075268817061° lon x -0.10000000000000142° lat\n",
      "Approximate spatial resolution:\n",
      "10.27 km (lon_name) x -11.10 km (lat_name) at -22.34° lat\n",
      "Temporal resolution: 31 days\n",
      "t2m: K\n",
      "tp: m\n",
      "Processing CD with file: input/era5_api/reanalysis-era5-land-monthly-means_CD_1950_2025_t2m_tp.zip\n",
      "Opening GRIB file: input/era5_extract/reanalysis-era5-land-monthly-means_CD_1950_2025_t2m_tp.grib\n",
      "Opening GRIB file: input/era5_extract/reanalysis-era5-land-monthly-means_CD_1950_2025_t2m_tp.grib\n",
      "Spatial resolution: 0.10000526315789493° lon x -0.09999999999999964° lat\n",
      "Approximate spatial resolution:\n",
      "11.07 km (lon_name) x -11.10 km (lat_name) at -4.06° lat\n",
      "Temporal resolution: 31 days\n",
      "t2m: K\n",
      "tp: m\n",
      "Processing SZ with file: input/era5_api/reanalysis-era5-land-monthly-means_SZ_1950_2025_t2m_tp.zip\n",
      "Opening GRIB file: input/era5_extract/reanalysis-era5-land-monthly-means_SZ_1950_2025_t2m_tp.grib\n",
      "Opening GRIB file: input/era5_extract/reanalysis-era5-land-monthly-means_SZ_1950_2025_t2m_tp.grib\n",
      "Spatial resolution: 0.10007692307692295° lon x -0.10000000000000142° lat\n",
      "Approximate spatial resolution:\n",
      "9.94 km (lon_name) x -11.10 km (lat_name) at -26.57° lat\n",
      "Temporal resolution: 31 days\n",
      "t2m: K\n",
      "tp: m\n",
      "Processing LS with file: input/era5_api/reanalysis-era5-land-monthly-means_LS_1950_2025_t2m_tp.zip\n",
      "Opening GRIB file: input/era5_extract/reanalysis-era5-land-monthly-means_LS_1950_2025_t2m_tp.grib\n",
      "Opening GRIB file: input/era5_extract/reanalysis-era5-land-monthly-means_LS_1950_2025_t2m_tp.grib\n",
      "Spatial resolution: 0.10004166666666592° lon x -0.10000000000000142° lat\n",
      "Approximate spatial resolution:\n",
      "9.65 km (lon_name) x -11.10 km (lat_name) at -29.66° lat\n",
      "Temporal resolution: 31 days\n",
      "t2m: K\n",
      "tp: m\n",
      "Processing MW with file: input/era5_api/reanalysis-era5-land-monthly-means_MW_1950_2025_t2m_tp.zip\n",
      "Opening GRIB file: input/era5_extract/reanalysis-era5-land-monthly-means_MW_1950_2025_t2m_tp.grib\n",
      "Opening GRIB file: input/era5_extract/reanalysis-era5-land-monthly-means_MW_1950_2025_t2m_tp.grib\n",
      "Spatial resolution: 0.10003125000000068° lon x -0.09999999999999964° lat\n",
      "Approximate spatial resolution:\n",
      "10.81 km (lon_name) x -11.10 km (lat_name) at -13.29° lat\n",
      "Temporal resolution: 31 days\n",
      "t2m: K\n",
      "tp: m\n",
      "Processing MZ with file: input/era5_api/reanalysis-era5-land-monthly-means_MZ_1950_2025_t2m_tp.zip\n",
      "Opening GRIB file: input/era5_extract/reanalysis-era5-land-monthly-means_MZ_1950_2025_t2m_tp.grib\n",
      "Opening GRIB file: input/era5_extract/reanalysis-era5-land-monthly-means_MZ_1950_2025_t2m_tp.grib\n",
      "Spatial resolution: 0.10000943396226347° lon x -0.09999999999999964° lat\n",
      "Approximate spatial resolution:\n",
      "10.51 km (lon_name) x -11.10 km (lat_name) at -18.71° lat\n",
      "Temporal resolution: 31 days\n",
      "t2m: K\n",
      "tp: m\n",
      "Processing NA with file: input/era5_api/reanalysis-era5-land-monthly-means_NA_1950_2025_t2m_tp.zip\n",
      "Opening GRIB file: input/era5_extract/reanalysis-era5-land-monthly-means_NA_1950_2025_t2m_tp.grib\n",
      "Opening GRIB file: input/era5_extract/reanalysis-era5-land-monthly-means_NA_1950_2025_t2m_tp.grib\n",
      "Spatial resolution: 0.1000074074074071° lon x -0.10000000000000142° lat\n",
      "Approximate spatial resolution:\n",
      "10.22 km (lon_name) x -11.10 km (lat_name) at -22.96° lat\n",
      "Temporal resolution: 31 days\n",
      "t2m: K\n",
      "tp: m\n",
      "Processing ZA with file: input/era5_api/reanalysis-era5-land-monthly-means_ZA_1950_2025_t2m_tp.zip\n",
      "Opening GRIB file: input/era5_extract/reanalysis-era5-land-monthly-means_ZA_1950_2025_t2m_tp.grib\n",
      "Opening GRIB file: input/era5_extract/reanalysis-era5-land-monthly-means_ZA_1950_2025_t2m_tp.grib\n",
      "Spatial resolution: 0.10000465116279145° lon x -0.10000000000000142° lat\n",
      "Approximate spatial resolution:\n",
      "9.14 km (lon_name) x -11.10 km (lat_name) at -34.57° lat\n",
      "Temporal resolution: 31 days\n",
      "t2m: K\n",
      "tp: m\n",
      "Processing TZ with file: input/era5_api/reanalysis-era5-land-monthly-means_TZ_1950_2025_t2m_tp.zip\n",
      "Opening GRIB file: input/era5_extract/reanalysis-era5-land-monthly-means_TZ_1950_2025_t2m_tp.grib\n",
      "Opening GRIB file: input/era5_extract/reanalysis-era5-land-monthly-means_TZ_1950_2025_t2m_tp.grib\n",
      "Spatial resolution: 0.10000900900901044° lon x -0.10000000000000009° lat\n",
      "Approximate spatial resolution:\n",
      "11.03 km (lon_name) x -11.10 km (lat_name) at -6.38° lat\n",
      "Temporal resolution: 31 days\n",
      "t2m: K\n",
      "tp: m\n",
      "Processing ZM with file: input/era5_api/reanalysis-era5-land-monthly-means_ZM_1950_2025_t2m_tp.zip\n",
      "Opening GRIB file: input/era5_extract/reanalysis-era5-land-monthly-means_ZM_1950_2025_t2m_tp.grib\n",
      "Opening GRIB file: input/era5_extract/reanalysis-era5-land-monthly-means_ZM_1950_2025_t2m_tp.grib\n",
      "Spatial resolution: 0.10000862068965688° lon x -0.09999999999999964° lat\n",
      "Approximate spatial resolution:\n",
      "10.81 km (lon_name) x -11.10 km (lat_name) at -13.17° lat\n",
      "Temporal resolution: 31 days\n",
      "t2m: K\n",
      "tp: m\n",
      "Processing ZW with file: input/era5_api/reanalysis-era5-land-monthly-means_ZW_1950_2025_t2m_tp.zip\n",
      "Opening GRIB file: input/era5_extract/reanalysis-era5-land-monthly-means_ZW_1950_2025_t2m_tp.grib\n",
      "Opening GRIB file: input/era5_extract/reanalysis-era5-land-monthly-means_ZW_1950_2025_t2m_tp.grib\n",
      "Spatial resolution: 0.1000128205128199° lon x -0.09999999999999964° lat\n",
      "Approximate spatial resolution:\n",
      "10.49 km (lon_name) x -11.10 km (lat_name) at -19.05° lat\n",
      "Temporal resolution: 31 days\n",
      "t2m: K\n",
      "tp: m\n"
     ]
    }
   ],
   "execution_count": 42
  },
  {
   "metadata": {},
   "cell_type": "markdown",
   "source": "### 4. Visualization of climate data",
   "id": "f20d8342554df080"
  },
  {
   "metadata": {
    "ExecuteTime": {
     "end_time": "2025-06-26T16:27:05.671925Z",
     "start_time": "2025-06-26T16:24:20.025430Z"
    }
   },
   "cell_type": "code",
   "source": [
    "# Plotting spatial mean timeseries for all variables\n",
    "for var in variables_list:\n",
    "    # Find the indirect from the variable name\n",
    "    plot_spatial_mean_timeseries_all_iso(dataset, var=variable_name.get(var, var), folder=folder_output)\n",
    "\n",
    "    if var == '2m_temperature':\n",
    "        agg = 'avg'\n",
    "    elif var == 'total_precipitation':\n",
    "        agg = 'sum'\n",
    "    else:\n",
    "        agg = None\n",
    "\n",
    "    plot_spatial_mean_timeseries_all_iso(dataset, var=variable_name.get(var, var), agg=agg, folder=folder_output)\n",
    "\n",
    "# Plotting scatter plot of annual spatial means\n",
    "scatter_annual_spatial_means(dataset, var_x='t2m', var_y='tp', folder=folder_output)\n",
    "\n",
    "# Plotting monthly average for each variable\n",
    "plot_monthly_mean(dataset, \"t2m\", lat_name='latitude', lon_name='longitude', folder=folder_output)\n",
    "plot_monthly_mean(dataset, \"tp\", lat_name='latitude', lon_name='longitude', folder=folder_output)\n",
    "\n",
    "# Plotting monthly climatology for each variable\n",
    "for iso, data in dataset.items():\n",
    "    print(f'Processing {iso}')\n",
    "    plot_monthly_climatology_grid(data, \"t2m\", filename=os.path.join(folder_output, f'monthly_climatology_{iso}_{var}.pdf'))\n",
    "    plot_monthly_climatology_grid(data, \"tp\", filename=os.path.join(folder_output, f'monthly_climatology_{iso}_{var}.pdf'))\n"
   ],
   "id": "586c097d901e393d",
   "outputs": [
    {
     "name": "stdout",
     "output_type": "stream",
     "text": [
      "Processing AO\n",
      "Processing BW\n",
      "Processing CD\n",
      "Processing SZ\n",
      "Processing LS\n",
      "Processing MW\n",
      "Processing MZ\n",
      "Processing NA\n",
      "Processing ZA\n",
      "Processing TZ\n",
      "Processing ZM\n",
      "Processing ZW\n"
     ]
    }
   ],
   "execution_count": 43
  },
  {
   "metadata": {},
   "cell_type": "markdown",
   "source": "### 5. Checking representative regions",
   "id": "6a289b8e36cf8ba3"
  },
  {
   "metadata": {
    "ExecuteTime": {
     "end_time": "2025-06-26T16:27:06.435204Z",
     "start_time": "2025-06-26T16:27:05.706239Z"
    }
   },
   "cell_type": "code",
   "source": [
    "def plot_monthly_precipitation_heatmap(dataset: dict,\n",
    "                                       var: str = 'tp',\n",
    "                                       cmap: str = 'cividis',\n",
    "                                       lat_name='latitude',\n",
    "                                       lon_name='longitude',\n",
    "                                       path=None):\n",
    "    \"\"\"\n",
    "    Plot a heatmap of total monthly precipitation across countries.\n",
    "\n",
    "    Parameters:\n",
    "    -----------\n",
    "    dataset : dict\n",
    "        Dictionary where keys are country ISO codes or names, and values are xarray Datasets\n",
    "        with a time dimension and a variable representing precipitation.\n",
    "\n",
    "    var : str\n",
    "        Name of the variable to extract (e.g., 'precip').\n",
    "\n",
    "    cmap : str\n",
    "        Colormap for the heatmap. Default is 'cividis' (colorblind-friendly).\n",
    "\n",
    "    Returns:\n",
    "    --------\n",
    "    Displays a heatmap (countries x months) with total precipitation.\n",
    "    \"\"\"\n",
    "    data_rows = []\n",
    "\n",
    "    for iso, ds in dataset.items():\n",
    "        if var not in ds:\n",
    "            continue\n",
    "\n",
    "        da = ds[var]\n",
    "        spatial_mean = da.mean(dim=[lat_name, lon_name])\n",
    "        # Group by calendar month and sum across time\n",
    "        monthly_total = spatial_mean.groupby('time.month').mean(dim='time')\n",
    "\n",
    "        # Convert to pandas Series (index = month, value = total precip)\n",
    "        monthly_series = monthly_total.to_series()\n",
    "\n",
    "        # Ensure all months are present (fill missing with 0)\n",
    "        for month in range(1, 13):\n",
    "            value = monthly_series.get(month, 0.0)\n",
    "            data_rows.append({'country': iso, 'month': month, 'precip': value})\n",
    "\n",
    "    # Create DataFrame and pivot\n",
    "    df = pd.DataFrame(data_rows)\n",
    "    heatmap_data = df.pivot(index='country', columns='month', values='precip').fillna(0)\n",
    "    heatmap_data = heatmap_data.reindex(columns=range(1, 13))  # ensure 1–12 in order\n",
    "\n",
    "    # Plot heatmap\n",
    "    plt.figure(figsize=(12, max(4, 0.5 * len(heatmap_data))))\n",
    "    sns.heatmap(heatmap_data, cmap=cmap, annot=True, fmt=\".0f\",\n",
    "                cbar_kws={'label': 'Mean Precipitation (mm/day)'}, linewidths=0.5)\n",
    "\n",
    "    plt.title(\"Monthly Mean Precipitation per Country (mm/day)\")\n",
    "    plt.xlabel(\"Month\")\n",
    "    plt.ylabel(\"Country\")\n",
    "    plt.xticks(\n",
    "        ticks=[i + 0.5 for i in range(12)],\n",
    "        labels=[calendar.month_abbr[i + 1] for i in range(12)],\n",
    "        rotation=0\n",
    "    )\n",
    "    plt.yticks(rotation=0)\n",
    "    plt.tight_layout()\n",
    "    if path is not None:\n",
    "        plt.savefig(path)\n",
    "        plt.close()\n",
    "    else:\n",
    "        plt.show()\n",
    "\n",
    "\n",
    "plot_monthly_precipitation_heatmap(dataset, path=os.path.join(folder_output, 'monthly_precipitation_heatmap.png'))"
   ],
   "id": "95e6de63efa451a8",
   "outputs": [],
   "execution_count": 44
  },
  {
   "metadata": {},
   "cell_type": "code",
   "outputs": [],
   "execution_count": null,
   "source": "",
   "id": "529726de6567ed1b"
  }
 ],
 "metadata": {
  "kernelspec": {
   "display_name": "climatic_env",
   "language": "python",
   "name": "climatic_env"
  },
  "language_info": {
   "codemirror_mode": {
    "name": "ipython",
    "version": 2
   },
   "file_extension": ".py",
   "mimetype": "text/x-python",
   "name": "python",
   "nbconvert_exporter": "python",
   "pygments_lexer": "ipython2",
   "version": "2.7.6"
  }
 },
 "nbformat": 4,
 "nbformat_minor": 5
}
